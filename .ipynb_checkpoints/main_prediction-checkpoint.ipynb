{
 "cells": [
  {
   "cell_type": "code",
   "execution_count": 17,
   "id": "c6c3c79c",
   "metadata": {},
   "outputs": [],
   "source": [
    "import pandas as pd\n",
    "import numpy as np\n",
    "import matplotlib.pyplot as plt\n"
   ]
  },
  {
   "cell_type": "code",
   "execution_count": 93,
   "id": "db722b28",
   "metadata": {},
   "outputs": [],
   "source": [
    "train_data_initial = pd.read_csv('flight_delays_train.csv')\n",
    "test_data_initial = pd.read_csv('flight_delays_test.csv')\n",
    "test_data_initial['dep_delayed_15min'] = np.NaN\n",
    "data_initial = pd.concat([train_data_initial, test_data_initial])\n",
    "train_indx = train_data_initial.shape[0]\n"
   ]
  },
  {
   "cell_type": "code",
   "execution_count": 94,
   "id": "acc64b94",
   "metadata": {},
   "outputs": [
    {
     "name": "stdout",
     "output_type": "stream",
     "text": [
      "(200000, 9)\n"
     ]
    },
    {
     "data": {
      "text/html": [
       "<div>\n",
       "<style scoped>\n",
       "    .dataframe tbody tr th:only-of-type {\n",
       "        vertical-align: middle;\n",
       "    }\n",
       "\n",
       "    .dataframe tbody tr th {\n",
       "        vertical-align: top;\n",
       "    }\n",
       "\n",
       "    .dataframe thead th {\n",
       "        text-align: right;\n",
       "    }\n",
       "</style>\n",
       "<table border=\"1\" class=\"dataframe\">\n",
       "  <thead>\n",
       "    <tr style=\"text-align: right;\">\n",
       "      <th></th>\n",
       "      <th>Month</th>\n",
       "      <th>DayofMonth</th>\n",
       "      <th>DayOfWeek</th>\n",
       "      <th>DepTime</th>\n",
       "      <th>UniqueCarrier</th>\n",
       "      <th>Origin</th>\n",
       "      <th>Dest</th>\n",
       "      <th>Distance</th>\n",
       "      <th>dep_delayed_15min</th>\n",
       "    </tr>\n",
       "  </thead>\n",
       "  <tbody>\n",
       "    <tr>\n",
       "      <th>0</th>\n",
       "      <td>c-8</td>\n",
       "      <td>c-21</td>\n",
       "      <td>c-7</td>\n",
       "      <td>1934</td>\n",
       "      <td>AA</td>\n",
       "      <td>ATL</td>\n",
       "      <td>DFW</td>\n",
       "      <td>732</td>\n",
       "      <td>N</td>\n",
       "    </tr>\n",
       "    <tr>\n",
       "      <th>1</th>\n",
       "      <td>c-4</td>\n",
       "      <td>c-20</td>\n",
       "      <td>c-3</td>\n",
       "      <td>1548</td>\n",
       "      <td>US</td>\n",
       "      <td>PIT</td>\n",
       "      <td>MCO</td>\n",
       "      <td>834</td>\n",
       "      <td>N</td>\n",
       "    </tr>\n",
       "    <tr>\n",
       "      <th>2</th>\n",
       "      <td>c-9</td>\n",
       "      <td>c-2</td>\n",
       "      <td>c-5</td>\n",
       "      <td>1422</td>\n",
       "      <td>XE</td>\n",
       "      <td>RDU</td>\n",
       "      <td>CLE</td>\n",
       "      <td>416</td>\n",
       "      <td>N</td>\n",
       "    </tr>\n",
       "    <tr>\n",
       "      <th>3</th>\n",
       "      <td>c-11</td>\n",
       "      <td>c-25</td>\n",
       "      <td>c-6</td>\n",
       "      <td>1015</td>\n",
       "      <td>OO</td>\n",
       "      <td>DEN</td>\n",
       "      <td>MEM</td>\n",
       "      <td>872</td>\n",
       "      <td>N</td>\n",
       "    </tr>\n",
       "    <tr>\n",
       "      <th>4</th>\n",
       "      <td>c-10</td>\n",
       "      <td>c-7</td>\n",
       "      <td>c-6</td>\n",
       "      <td>1828</td>\n",
       "      <td>WN</td>\n",
       "      <td>MDW</td>\n",
       "      <td>OMA</td>\n",
       "      <td>423</td>\n",
       "      <td>Y</td>\n",
       "    </tr>\n",
       "  </tbody>\n",
       "</table>\n",
       "</div>"
      ],
      "text/plain": [
       "  Month DayofMonth DayOfWeek  DepTime UniqueCarrier Origin Dest  Distance  \\\n",
       "0   c-8       c-21       c-7     1934            AA    ATL  DFW       732   \n",
       "1   c-4       c-20       c-3     1548            US    PIT  MCO       834   \n",
       "2   c-9        c-2       c-5     1422            XE    RDU  CLE       416   \n",
       "3  c-11       c-25       c-6     1015            OO    DEN  MEM       872   \n",
       "4  c-10        c-7       c-6     1828            WN    MDW  OMA       423   \n",
       "\n",
       "  dep_delayed_15min  \n",
       "0                 N  \n",
       "1                 N  \n",
       "2                 N  \n",
       "3                 N  \n",
       "4                 Y  "
      ]
     },
     "execution_count": 94,
     "metadata": {},
     "output_type": "execute_result"
    }
   ],
   "source": [
    "print(data_initial.shape)\n",
    "data_initial.head()"
   ]
  },
  {
   "cell_type": "code",
   "execution_count": 95,
   "id": "a70a71ab",
   "metadata": {},
   "outputs": [],
   "source": [
    "def time_transform(df: pd.DataFrame) -> pd.DataFrame:\n",
    "    \n",
    "    time_cols = ['Month', 'DayofMonth', 'DayOfWeek']\n",
    "    for col in time_cols:\n",
    "        df[col] = df[col].str[2:].astype('int')\n",
    "    \n",
    "    df['DepTime_h'] = df['DepTime'] // 100\n",
    "#     df['DepTime_m'] = df['DepTime'] % 100\n",
    "#     df = df.drop(columns=['DepTime'])\n",
    "    \n",
    "    return df\n",
    "\n"
   ]
  },
  {
   "cell_type": "code",
   "execution_count": null,
   "id": "c917f4e6",
   "metadata": {},
   "outputs": [],
   "source": []
  },
  {
   "cell_type": "code",
   "execution_count": 96,
   "id": "4ee0547a",
   "metadata": {},
   "outputs": [
    {
     "data": {
      "text/html": [
       "<div>\n",
       "<style scoped>\n",
       "    .dataframe tbody tr th:only-of-type {\n",
       "        vertical-align: middle;\n",
       "    }\n",
       "\n",
       "    .dataframe tbody tr th {\n",
       "        vertical-align: top;\n",
       "    }\n",
       "\n",
       "    .dataframe thead th {\n",
       "        text-align: right;\n",
       "    }\n",
       "</style>\n",
       "<table border=\"1\" class=\"dataframe\">\n",
       "  <thead>\n",
       "    <tr style=\"text-align: right;\">\n",
       "      <th></th>\n",
       "      <th>Month</th>\n",
       "      <th>DayofMonth</th>\n",
       "      <th>DayOfWeek</th>\n",
       "      <th>DepTime</th>\n",
       "      <th>UniqueCarrier</th>\n",
       "      <th>Origin</th>\n",
       "      <th>Dest</th>\n",
       "      <th>Distance</th>\n",
       "      <th>dep_delayed_15min</th>\n",
       "      <th>DepTime_h</th>\n",
       "    </tr>\n",
       "  </thead>\n",
       "  <tbody>\n",
       "    <tr>\n",
       "      <th>0</th>\n",
       "      <td>8</td>\n",
       "      <td>21</td>\n",
       "      <td>7</td>\n",
       "      <td>1934</td>\n",
       "      <td>AA</td>\n",
       "      <td>ATL</td>\n",
       "      <td>DFW</td>\n",
       "      <td>732</td>\n",
       "      <td>N</td>\n",
       "      <td>19</td>\n",
       "    </tr>\n",
       "    <tr>\n",
       "      <th>1</th>\n",
       "      <td>4</td>\n",
       "      <td>20</td>\n",
       "      <td>3</td>\n",
       "      <td>1548</td>\n",
       "      <td>US</td>\n",
       "      <td>PIT</td>\n",
       "      <td>MCO</td>\n",
       "      <td>834</td>\n",
       "      <td>N</td>\n",
       "      <td>15</td>\n",
       "    </tr>\n",
       "    <tr>\n",
       "      <th>2</th>\n",
       "      <td>9</td>\n",
       "      <td>2</td>\n",
       "      <td>5</td>\n",
       "      <td>1422</td>\n",
       "      <td>XE</td>\n",
       "      <td>RDU</td>\n",
       "      <td>CLE</td>\n",
       "      <td>416</td>\n",
       "      <td>N</td>\n",
       "      <td>14</td>\n",
       "    </tr>\n",
       "    <tr>\n",
       "      <th>3</th>\n",
       "      <td>11</td>\n",
       "      <td>25</td>\n",
       "      <td>6</td>\n",
       "      <td>1015</td>\n",
       "      <td>OO</td>\n",
       "      <td>DEN</td>\n",
       "      <td>MEM</td>\n",
       "      <td>872</td>\n",
       "      <td>N</td>\n",
       "      <td>10</td>\n",
       "    </tr>\n",
       "    <tr>\n",
       "      <th>4</th>\n",
       "      <td>10</td>\n",
       "      <td>7</td>\n",
       "      <td>6</td>\n",
       "      <td>1828</td>\n",
       "      <td>WN</td>\n",
       "      <td>MDW</td>\n",
       "      <td>OMA</td>\n",
       "      <td>423</td>\n",
       "      <td>Y</td>\n",
       "      <td>18</td>\n",
       "    </tr>\n",
       "  </tbody>\n",
       "</table>\n",
       "</div>"
      ],
      "text/plain": [
       "   Month  DayofMonth  DayOfWeek  DepTime UniqueCarrier Origin Dest  Distance  \\\n",
       "0      8          21          7     1934            AA    ATL  DFW       732   \n",
       "1      4          20          3     1548            US    PIT  MCO       834   \n",
       "2      9           2          5     1422            XE    RDU  CLE       416   \n",
       "3     11          25          6     1015            OO    DEN  MEM       872   \n",
       "4     10           7          6     1828            WN    MDW  OMA       423   \n",
       "\n",
       "  dep_delayed_15min  DepTime_h  \n",
       "0                 N         19  \n",
       "1                 N         15  \n",
       "2                 N         14  \n",
       "3                 N         10  \n",
       "4                 Y         18  "
      ]
     },
     "execution_count": 96,
     "metadata": {},
     "output_type": "execute_result"
    }
   ],
   "source": [
    "data = time_transform(data_initial)\n",
    "\n",
    "data.head()"
   ]
  },
  {
   "cell_type": "code",
   "execution_count": 97,
   "id": "322f34bc",
   "metadata": {},
   "outputs": [],
   "source": [
    "data['dep_delayed_15min'] = data['dep_delayed_15min'].map({'N': 0, 'Y': 1})\n",
    "data['flight'] = data['Origin']+data['Dest']\n",
    "data = data.drop(columns=['Origin','Dest'])"
   ]
  },
  {
   "cell_type": "code",
   "execution_count": 98,
   "id": "8b443753",
   "metadata": {},
   "outputs": [
    {
     "data": {
      "text/html": [
       "<div>\n",
       "<style scoped>\n",
       "    .dataframe tbody tr th:only-of-type {\n",
       "        vertical-align: middle;\n",
       "    }\n",
       "\n",
       "    .dataframe tbody tr th {\n",
       "        vertical-align: top;\n",
       "    }\n",
       "\n",
       "    .dataframe thead th {\n",
       "        text-align: right;\n",
       "    }\n",
       "</style>\n",
       "<table border=\"1\" class=\"dataframe\">\n",
       "  <thead>\n",
       "    <tr style=\"text-align: right;\">\n",
       "      <th></th>\n",
       "      <th>Month</th>\n",
       "      <th>DayofMonth</th>\n",
       "      <th>DayOfWeek</th>\n",
       "      <th>DepTime</th>\n",
       "      <th>UniqueCarrier</th>\n",
       "      <th>Distance</th>\n",
       "      <th>dep_delayed_15min</th>\n",
       "      <th>DepTime_h</th>\n",
       "      <th>flight</th>\n",
       "    </tr>\n",
       "  </thead>\n",
       "  <tbody>\n",
       "    <tr>\n",
       "      <th>0</th>\n",
       "      <td>8</td>\n",
       "      <td>21</td>\n",
       "      <td>7</td>\n",
       "      <td>1934</td>\n",
       "      <td>AA</td>\n",
       "      <td>732</td>\n",
       "      <td>0.0</td>\n",
       "      <td>19</td>\n",
       "      <td>ATLDFW</td>\n",
       "    </tr>\n",
       "    <tr>\n",
       "      <th>1</th>\n",
       "      <td>4</td>\n",
       "      <td>20</td>\n",
       "      <td>3</td>\n",
       "      <td>1548</td>\n",
       "      <td>US</td>\n",
       "      <td>834</td>\n",
       "      <td>0.0</td>\n",
       "      <td>15</td>\n",
       "      <td>PITMCO</td>\n",
       "    </tr>\n",
       "    <tr>\n",
       "      <th>2</th>\n",
       "      <td>9</td>\n",
       "      <td>2</td>\n",
       "      <td>5</td>\n",
       "      <td>1422</td>\n",
       "      <td>XE</td>\n",
       "      <td>416</td>\n",
       "      <td>0.0</td>\n",
       "      <td>14</td>\n",
       "      <td>RDUCLE</td>\n",
       "    </tr>\n",
       "    <tr>\n",
       "      <th>3</th>\n",
       "      <td>11</td>\n",
       "      <td>25</td>\n",
       "      <td>6</td>\n",
       "      <td>1015</td>\n",
       "      <td>OO</td>\n",
       "      <td>872</td>\n",
       "      <td>0.0</td>\n",
       "      <td>10</td>\n",
       "      <td>DENMEM</td>\n",
       "    </tr>\n",
       "    <tr>\n",
       "      <th>4</th>\n",
       "      <td>10</td>\n",
       "      <td>7</td>\n",
       "      <td>6</td>\n",
       "      <td>1828</td>\n",
       "      <td>WN</td>\n",
       "      <td>423</td>\n",
       "      <td>1.0</td>\n",
       "      <td>18</td>\n",
       "      <td>MDWOMA</td>\n",
       "    </tr>\n",
       "  </tbody>\n",
       "</table>\n",
       "</div>"
      ],
      "text/plain": [
       "   Month  DayofMonth  DayOfWeek  DepTime UniqueCarrier  Distance  \\\n",
       "0      8          21          7     1934            AA       732   \n",
       "1      4          20          3     1548            US       834   \n",
       "2      9           2          5     1422            XE       416   \n",
       "3     11          25          6     1015            OO       872   \n",
       "4     10           7          6     1828            WN       423   \n",
       "\n",
       "   dep_delayed_15min  DepTime_h  flight  \n",
       "0                0.0         19  ATLDFW  \n",
       "1                0.0         15  PITMCO  \n",
       "2                0.0         14  RDUCLE  \n",
       "3                0.0         10  DENMEM  \n",
       "4                1.0         18  MDWOMA  "
      ]
     },
     "execution_count": 98,
     "metadata": {},
     "output_type": "execute_result"
    }
   ],
   "source": [
    "data.head()"
   ]
  },
  {
   "cell_type": "code",
   "execution_count": 99,
   "id": "d2c72d80",
   "metadata": {},
   "outputs": [],
   "source": [
    "def transform_categ_mean(df: pd.DataFrame) -> pd.DataFrame:\n",
    "    \n",
    "    df_categ = df[['UniqueCarrier', 'flight','dep_delayed_15min']]\n",
    "    \n",
    "    for col in ['UniqueCarrier', 'flight']:\n",
    "        \n",
    "        av_mean = df_categ.groupby(col).agg({'dep_delayed_15min':'mean'})\n",
    "        av_mean=av_mean.fillna(0)\n",
    "        av_mean_dict = dict(av_mean['dep_delayed_15min'], index=av_mean.index)\n",
    "        df[col] = df[col].map(av_mean_dict).astype('float64')\n",
    "    \n",
    "    return df"
   ]
  },
  {
   "cell_type": "code",
   "execution_count": 100,
   "id": "28843c06",
   "metadata": {},
   "outputs": [],
   "source": [
    "#df_categ = data[['UniqueCarrier', 'flight','dep_delayed_15min']]\n"
   ]
  },
  {
   "cell_type": "code",
   "execution_count": 101,
   "id": "cf258ddd",
   "metadata": {},
   "outputs": [],
   "source": [
    "# av_mean=df_categ.groupby(by=['UniqueCarrier']).agg({'dep_delayed_15min':'mean'})\n",
    "# av_mean=av_mean.fillna(0)\n",
    "# av_mean.head()"
   ]
  },
  {
   "cell_type": "code",
   "execution_count": 102,
   "id": "44c0bd93",
   "metadata": {},
   "outputs": [],
   "source": [
    "# av_mean_dict = dict(av_mean['dep_delayed_15min'], index=av_mean.index)\n",
    "# av_mean_dict"
   ]
  },
  {
   "cell_type": "code",
   "execution_count": 103,
   "id": "53b7f9e1",
   "metadata": {},
   "outputs": [],
   "source": [
    "# data['New'] = data['UniqueCarrier'].map(av_mean_dict)\n",
    "# data.head()"
   ]
  },
  {
   "cell_type": "code",
   "execution_count": 104,
   "id": "d9ef7349",
   "metadata": {},
   "outputs": [],
   "source": [
    "    \n",
    "#     for col in ['UniqueCarrier', 'flight']:\n",
    "        \n",
    "#         av_mean = df_categ.groupby(col).agg({'dep_delayed_15min':'mean'})\n",
    "#         av_mean_dict = dict(av_mean)\n",
    "#         df[col] = df[col].map(av_mean_dict)"
   ]
  },
  {
   "cell_type": "code",
   "execution_count": 105,
   "id": "bdb05722",
   "metadata": {},
   "outputs": [
    {
     "name": "stdout",
     "output_type": "stream",
     "text": [
      "(200000, 9)\n"
     ]
    },
    {
     "data": {
      "text/html": [
       "<div>\n",
       "<style scoped>\n",
       "    .dataframe tbody tr th:only-of-type {\n",
       "        vertical-align: middle;\n",
       "    }\n",
       "\n",
       "    .dataframe tbody tr th {\n",
       "        vertical-align: top;\n",
       "    }\n",
       "\n",
       "    .dataframe thead th {\n",
       "        text-align: right;\n",
       "    }\n",
       "</style>\n",
       "<table border=\"1\" class=\"dataframe\">\n",
       "  <thead>\n",
       "    <tr style=\"text-align: right;\">\n",
       "      <th></th>\n",
       "      <th>Month</th>\n",
       "      <th>DayofMonth</th>\n",
       "      <th>DayOfWeek</th>\n",
       "      <th>DepTime</th>\n",
       "      <th>UniqueCarrier</th>\n",
       "      <th>Distance</th>\n",
       "      <th>dep_delayed_15min</th>\n",
       "      <th>DepTime_h</th>\n",
       "      <th>flight</th>\n",
       "    </tr>\n",
       "  </thead>\n",
       "  <tbody>\n",
       "    <tr>\n",
       "      <th>0</th>\n",
       "      <td>8</td>\n",
       "      <td>21</td>\n",
       "      <td>7</td>\n",
       "      <td>1934</td>\n",
       "      <td>0.187938</td>\n",
       "      <td>732</td>\n",
       "      <td>0.0</td>\n",
       "      <td>19</td>\n",
       "      <td>0.235294</td>\n",
       "    </tr>\n",
       "    <tr>\n",
       "      <th>1</th>\n",
       "      <td>4</td>\n",
       "      <td>20</td>\n",
       "      <td>3</td>\n",
       "      <td>1548</td>\n",
       "      <td>0.167387</td>\n",
       "      <td>834</td>\n",
       "      <td>0.0</td>\n",
       "      <td>15</td>\n",
       "      <td>0.166667</td>\n",
       "    </tr>\n",
       "    <tr>\n",
       "      <th>2</th>\n",
       "      <td>9</td>\n",
       "      <td>2</td>\n",
       "      <td>5</td>\n",
       "      <td>1422</td>\n",
       "      <td>0.173869</td>\n",
       "      <td>416</td>\n",
       "      <td>0.0</td>\n",
       "      <td>14</td>\n",
       "      <td>0.090909</td>\n",
       "    </tr>\n",
       "    <tr>\n",
       "      <th>3</th>\n",
       "      <td>11</td>\n",
       "      <td>25</td>\n",
       "      <td>6</td>\n",
       "      <td>1015</td>\n",
       "      <td>0.172801</td>\n",
       "      <td>872</td>\n",
       "      <td>0.0</td>\n",
       "      <td>10</td>\n",
       "      <td>0.142857</td>\n",
       "    </tr>\n",
       "    <tr>\n",
       "      <th>4</th>\n",
       "      <td>10</td>\n",
       "      <td>7</td>\n",
       "      <td>6</td>\n",
       "      <td>1828</td>\n",
       "      <td>0.213433</td>\n",
       "      <td>423</td>\n",
       "      <td>1.0</td>\n",
       "      <td>18</td>\n",
       "      <td>0.466667</td>\n",
       "    </tr>\n",
       "  </tbody>\n",
       "</table>\n",
       "</div>"
      ],
      "text/plain": [
       "   Month  DayofMonth  DayOfWeek  DepTime  UniqueCarrier  Distance  \\\n",
       "0      8          21          7     1934       0.187938       732   \n",
       "1      4          20          3     1548       0.167387       834   \n",
       "2      9           2          5     1422       0.173869       416   \n",
       "3     11          25          6     1015       0.172801       872   \n",
       "4     10           7          6     1828       0.213433       423   \n",
       "\n",
       "   dep_delayed_15min  DepTime_h    flight  \n",
       "0                0.0         19  0.235294  \n",
       "1                0.0         15  0.166667  \n",
       "2                0.0         14  0.090909  \n",
       "3                0.0         10  0.142857  \n",
       "4                1.0         18  0.466667  "
      ]
     },
     "execution_count": 105,
     "metadata": {},
     "output_type": "execute_result"
    }
   ],
   "source": [
    "data_processed = transform_categ_mean(data)\n",
    "print(data_processed.shape)\n",
    "data_processed.head()"
   ]
  },
  {
   "cell_type": "code",
   "execution_count": 106,
   "id": "aa8092a3",
   "metadata": {},
   "outputs": [],
   "source": [
    "from sklearn.preprocessing import LabelBinarizer, OneHotEncoder\n"
   ]
  },
  {
   "cell_type": "code",
   "execution_count": 107,
   "id": "6bb7ca54",
   "metadata": {},
   "outputs": [],
   "source": [
    "def transform_categs(df: pd.DataFrame) -> pd.DataFrame:\n",
    "    \n",
    "    OHE = OneHotEncoder(sparse=False)\n",
    "    \n",
    "    df_categ = df[['UniqueCarrier', 'flight']].astype('category')\n",
    "    \n",
    "    array_transformed = OHE.fit_transform(df_categ)\n",
    "    array_columns = OHE.get_feature_names_out(['UniqueCarrier', 'flight'])\n",
    "    df_transformed = pd.DataFrame(data=array_transformed,columns=array_columns)\n",
    "    \n",
    "    df = df.drop(columns=['UniqueCarrier', 'flight'])\n",
    "    \n",
    "    df = df.reset_index()\n",
    "    df_transformed = df_transformed.reset_index()\n",
    "    df = df.drop(columns=['index'])\n",
    "    df_transformed = df_transformed.drop(columns=['index'])\n",
    "    \n",
    "    \n",
    "    df = pd.concat([df, df_transformed], axis=1)\n",
    "    \n",
    "    return df"
   ]
  },
  {
   "cell_type": "code",
   "execution_count": 108,
   "id": "97f9410f",
   "metadata": {},
   "outputs": [],
   "source": [
    "# data_processed = transform_categs(data)\n",
    "# data_processed.shape"
   ]
  },
  {
   "cell_type": "code",
   "execution_count": 109,
   "id": "c4ca9b6d",
   "metadata": {},
   "outputs": [],
   "source": [
    "from sklearn.preprocessing import StandardScaler\n",
    "\n",
    "\n",
    "def scale_time(df: pd.DataFrame) -> pd.DataFrame:\n",
    "    \n",
    "    scaler = StandardScaler()\n",
    "    \n",
    "    df_time = df[['Month', 'DayofMonth', 'DayOfWeek','DepTime','Distance','DepTime_h']]\n",
    "    \n",
    "    array_transformed = scaler.fit_transform(df_time)\n",
    "    array_columns = scaler.get_feature_names_out(['Month', 'DayofMonth', 'DayOfWeek','DepTime','Distance','DepTime_h'])\n",
    "    df_transformed = pd.DataFrame(data=array_transformed,columns=array_columns)\n",
    "    \n",
    "    df = df.drop(columns=['Month', 'DayofMonth', 'DayOfWeek','DepTime','Distance','DepTime_h'])\n",
    "    \n",
    "    df = df.reset_index()\n",
    "    df_transformed = df_transformed.reset_index()\n",
    "    df = df.drop(columns=['index'])\n",
    "    df_transformed = df_transformed.drop(columns=['index'])\n",
    "    \n",
    "    \n",
    "    df = pd.concat([df, df_transformed], axis=1)\n",
    "    \n",
    "    return df\n",
    "\n",
    "\n",
    "\n"
   ]
  },
  {
   "cell_type": "code",
   "execution_count": 110,
   "id": "c12a8414",
   "metadata": {},
   "outputs": [],
   "source": [
    "#data_processed = scale_time(data_processed_categ)\n",
    "#data_processed.shape"
   ]
  },
  {
   "cell_type": "code",
   "execution_count": 111,
   "id": "862d3150",
   "metadata": {},
   "outputs": [],
   "source": [
    "from xgboost import XGBClassifier, plot_importance\n",
    "from sklearn.metrics import roc_auc_score\n",
    "from sklearn.model_selection import train_test_split\n",
    "from sklearn.model_selection import cross_val_score, GridSearchCV"
   ]
  },
  {
   "cell_type": "code",
   "execution_count": 112,
   "id": "660be13f",
   "metadata": {},
   "outputs": [
    {
     "data": {
      "text/plain": [
       "((100000, 9), (100000, 9))"
      ]
     },
     "execution_count": 112,
     "metadata": {},
     "output_type": "execute_result"
    }
   ],
   "source": [
    "train_data = data_processed[:train_indx]\n",
    "train_data_y = train_data['dep_delayed_15min']\n",
    "train_data_x = train_data.drop(columns=['dep_delayed_15min'])\n",
    "\n",
    "test_data = data_processed[train_indx:]\n",
    "test_data_x = test_data.drop(columns=['dep_delayed_15min'])\n",
    "\n",
    "train_data.shape, test_data.shape"
   ]
  },
  {
   "cell_type": "code",
   "execution_count": 113,
   "id": "0c20eb2e",
   "metadata": {},
   "outputs": [],
   "source": [
    "X_train, X_hold, y_train, y_hold = train_test_split(\n",
    "    train_data_x,\n",
    "    train_data_y,\n",
    "    test_size=0.3,\n",
    "    stratify=train_data_y,\n",
    "    random_state=20\n",
    ")"
   ]
  },
  {
   "cell_type": "code",
   "execution_count": 114,
   "id": "8e83062f",
   "metadata": {},
   "outputs": [],
   "source": [
    "model = XGBClassifier(n_estimators = 50, random_state = 20)"
   ]
  },
  {
   "cell_type": "code",
   "execution_count": 276,
   "id": "f9efda30",
   "metadata": {},
   "outputs": [
    {
     "data": {
      "text/plain": [
       "GridSearchCV(cv=3,\n",
       "             estimator=XGBClassifier(base_score=None, booster=None,\n",
       "                                     callbacks=None, colsample_bylevel=None,\n",
       "                                     colsample_bynode=None,\n",
       "                                     colsample_bytree=None,\n",
       "                                     early_stopping_rounds=None,\n",
       "                                     enable_categorical=False, eval_metric=None,\n",
       "                                     feature_types=None, gamma=None,\n",
       "                                     gpu_id=None, grow_policy=None,\n",
       "                                     importance_type=None,\n",
       "                                     interaction_constraints=None,\n",
       "                                     learning_rate=None,...\n",
       "                                     max_delta_step=None, max_depth=None,\n",
       "                                     max_leaves=None, min_child_weight=None,\n",
       "                                     missing=nan, monotone_constraints=None,\n",
       "                                     n_estimators=100, n_jobs=None,\n",
       "                                     num_parallel_tree=None, predictor=None,\n",
       "                                     random_state=20, ...),\n",
       "             n_jobs=-1,\n",
       "             param_grid={'colsample_bytree': [0.3], 'gamma': [3],\n",
       "                         'learning_rate': [0.1], 'max_depth': [5, 7, 10],\n",
       "                         'max_leaves': [5, 7, 10], 'n_estimators': [1000]},\n",
       "             scoring='roc_auc')"
      ]
     },
     "execution_count": 276,
     "metadata": {},
     "output_type": "execute_result"
    }
   ],
   "source": [
    "params = {'n_estimators': [1000],\n",
    "          'max_depth': [5, 7,10],\n",
    "          'learning_rate':[0.1],\n",
    "          'gamma': [3],\n",
    "          'colsample_bytree':[0.3],\n",
    "          'max_leaves': [5,7,10]\n",
    "          \n",
    "          }\n",
    "\n",
    "grid_search = GridSearchCV(estimator=XGBClassifier(random_state = 20), param_grid=params, cv=3, scoring='roc_auc', n_jobs=-1)\n",
    "\n",
    "grid_search.fit(X_train, y_train)"
   ]
  },
  {
   "cell_type": "code",
   "execution_count": 277,
   "id": "55f37109",
   "metadata": {},
   "outputs": [
    {
     "data": {
      "text/plain": [
       "({'colsample_bytree': 0.3,\n",
       "  'gamma': 3,\n",
       "  'learning_rate': 0.1,\n",
       "  'max_depth': 5,\n",
       "  'max_leaves': 5,\n",
       "  'n_estimators': 1000},\n",
       " 0.7714351986672572)"
      ]
     },
     "execution_count": 277,
     "metadata": {},
     "output_type": "execute_result"
    }
   ],
   "source": [
    "grid_search.best_params_, grid_search.best_score_"
   ]
  },
  {
   "cell_type": "code",
   "execution_count": 278,
   "id": "7c47f449",
   "metadata": {},
   "outputs": [],
   "source": [
    "best_model_first = grid_search.best_estimator_"
   ]
  },
  {
   "cell_type": "code",
   "execution_count": 279,
   "id": "26adfc37",
   "metadata": {},
   "outputs": [
    {
     "data": {
      "text/plain": [
       "0.8037994280684874"
      ]
     },
     "execution_count": 279,
     "metadata": {},
     "output_type": "execute_result"
    }
   ],
   "source": [
    "y_pred = best_model_first.predict_proba(X_train)[:, 1]\n",
    "roc_auc_score(y_train, y_pred)"
   ]
  },
  {
   "cell_type": "code",
   "execution_count": 280,
   "id": "c76f3a97",
   "metadata": {},
   "outputs": [
    {
     "data": {
      "text/plain": [
       "0.7788975395900031"
      ]
     },
     "execution_count": 280,
     "metadata": {},
     "output_type": "execute_result"
    }
   ],
   "source": [
    "y_pred = best_model_first.predict_proba(X_hold)[:, 1]\n",
    "roc_auc_score(y_hold, y_pred)"
   ]
  },
  {
   "cell_type": "code",
   "execution_count": 269,
   "id": "c3ba7784",
   "metadata": {},
   "outputs": [],
   "source": [
    "XGBClassifier?"
   ]
  },
  {
   "cell_type": "code",
   "execution_count": 281,
   "id": "77d26dc1",
   "metadata": {},
   "outputs": [],
   "source": [
    "y_pred = best_model_first.predict_proba(test_data_x)[:, 1]\n",
    "result = pd.DataFrame(data={'dep_delayed_15min': y_pred})\n",
    "result.to_csv('predict6.csv', header=True, index_label='id')"
   ]
  },
  {
   "cell_type": "code",
   "execution_count": 118,
   "id": "068ff66d",
   "metadata": {},
   "outputs": [],
   "source": [
    "df_feat= pd.DataFrame(data={'feat_name':best_model_first.feature_names_in_, 'importance': best_model_first.feature_importances_}).\\\n",
    "    sort_values(by='importance', ascending= False)\n",
    "df_feat['cum']= df_feat['importance'].cumsum()"
   ]
  },
  {
   "cell_type": "code",
   "execution_count": 119,
   "id": "997c6867",
   "metadata": {},
   "outputs": [
    {
     "data": {
      "text/plain": [
       "((2, 3), (8, 3))"
      ]
     },
     "execution_count": 119,
     "metadata": {},
     "output_type": "execute_result"
    }
   ],
   "source": [
    "usless_feats = df_feat[df_feat['cum']>0.999]['feat_name']\n",
    "df_feat[df_feat['cum']>0.999].shape, df_feat.shape"
   ]
  },
  {
   "cell_type": "code",
   "execution_count": null,
   "id": "12d3a80f",
   "metadata": {},
   "outputs": [],
   "source": []
  },
  {
   "cell_type": "code",
   "execution_count": null,
   "id": "6861cdd5",
   "metadata": {},
   "outputs": [],
   "source": [
    "from hyperopt import Trails"
   ]
  },
  {
   "cell_type": "code",
   "execution_count": null,
   "id": "8a4aa5c9",
   "metadata": {},
   "outputs": [],
   "source": [
    "trails = Trails()"
   ]
  },
  {
   "cell_type": "code",
   "execution_count": null,
   "id": "5e9e9af5",
   "metadata": {},
   "outputs": [],
   "source": [
    "def model_func():\n",
    "    \n",
    "\n",
    "    \n",
    "def optimize(model_func):\n",
    "    \n",
    "    space={\n",
    "        'num_rounds' = 100\n",
    "        'max_depth'= hp.uni,\n",
    "        'learning_rate'=,\n",
    "        'gamma'=,\n",
    "        'colsample_bytree'=,\n",
    "        'eval_metric'='roc_auc'\n",
    "        \n",
    "        \n",
    "    }\n",
    "    \n",
    "    best = fmin(model_func,space,trail=trails)\n",
    "    "
   ]
  },
  {
   "cell_type": "code",
   "execution_count": null,
   "id": "2dad5f4d",
   "metadata": {},
   "outputs": [],
   "source": []
  },
  {
   "cell_type": "code",
   "execution_count": 120,
   "id": "da7a4b21",
   "metadata": {},
   "outputs": [],
   "source": [
    "X_train_opt = X_train.drop(columns=usless_feats)\n",
    "X_hold_opt = X_hold.drop(columns=usless_feats)\n",
    "train_data_x_opt = train_data_x.drop(columns=usless_feats)\n",
    "test_data_x_opt = test_data_x.drop(columns=usless_feats)"
   ]
  },
  {
   "cell_type": "code",
   "execution_count": 121,
   "id": "4f180814",
   "metadata": {},
   "outputs": [],
   "source": [
    "#params = {'n_estimators': [90], 'max_depth': [7], 'learning_rate': [0.3]}\n",
    "\n",
    "#grid_search = GridSearchCV(estimator=XGBClassifier(random_state = 20), param_grid=params, cv=3, scoring='roc_auc', n_jobs=-1)\n",
    "\n",
    "#grid_search.fit(X_train_opt, y_train)"
   ]
  },
  {
   "cell_type": "code",
   "execution_count": 122,
   "id": "87d43911",
   "metadata": {},
   "outputs": [],
   "source": [
    "#grid_search.best_params_, grid_search.best_score_"
   ]
  },
  {
   "cell_type": "code",
   "execution_count": 123,
   "id": "9994ccbb",
   "metadata": {},
   "outputs": [],
   "source": [
    "#XGBClassifier?"
   ]
  },
  {
   "cell_type": "code",
   "execution_count": 170,
   "id": "26b52f4c",
   "metadata": {},
   "outputs": [
    {
     "name": "stdout",
     "output_type": "stream",
     "text": [
      "Wall time: 0 ns\n"
     ]
    },
    {
     "data": {
      "text/plain": [
       "XGBClassifier(base_score=None, booster=None, callbacks=None,\n",
       "              colsample_bylevel=None, colsample_bynode=None,\n",
       "              colsample_bytree=None, early_stopping_rounds=None,\n",
       "              enable_categorical=False, eval_metric=None, feature_types=None,\n",
       "              gamma=None, gpu_id=None, grow_policy=None, importance_type=None,\n",
       "              interaction_constraints=None, learning_rate=1, max_bin=None,\n",
       "              max_cat_threshold=None, max_cat_to_onehot=None,\n",
       "              max_delta_step=None, max_depth=50, max_leaves=None,\n",
       "              min_child_weight=None, missing=nan, monotone_constraints=None,\n",
       "              n_estimators=1000, n_jobs=None, num_parallel_tree=None,\n",
       "              predictor=None, random_state=20, ...)"
      ]
     },
     "execution_count": 170,
     "metadata": {},
     "output_type": "execute_result"
    }
   ],
   "source": [
    "%time\n",
    "model = XGBClassifier(n_estimators=1000,max_depth=50,learning_rate=1, random_state=20)\n",
    "model.fit(X_train_opt, y_train)"
   ]
  },
  {
   "cell_type": "code",
   "execution_count": 171,
   "id": "29b15db9",
   "metadata": {},
   "outputs": [
    {
     "data": {
      "text/plain": [
       "0.9999999993381468"
      ]
     },
     "execution_count": 171,
     "metadata": {},
     "output_type": "execute_result"
    }
   ],
   "source": [
    "y_pred = model.predict_proba(X_train_opt)[:, 1]\n",
    "roc_auc_score(y_train, y_pred)"
   ]
  },
  {
   "cell_type": "code",
   "execution_count": 172,
   "id": "c93b2940",
   "metadata": {},
   "outputs": [
    {
     "data": {
      "text/plain": [
       "0.7192015025754905"
      ]
     },
     "execution_count": 172,
     "metadata": {},
     "output_type": "execute_result"
    }
   ],
   "source": [
    "y_pred = model.predict_proba(X_hold_opt)[:, 1]\n",
    "roc_auc_score(y_hold, y_pred)"
   ]
  },
  {
   "cell_type": "code",
   "execution_count": 169,
   "id": "de144e8d",
   "metadata": {},
   "outputs": [
    {
     "data": {
      "text/plain": [
       "0.9356748777777684"
      ]
     },
     "execution_count": 169,
     "metadata": {},
     "output_type": "execute_result"
    }
   ],
   "source": [
    "y_pred = model.predict_proba(train_data_x_opt)[:, 1]\n",
    "roc_auc_score(train_data_y, y_pred)"
   ]
  },
  {
   "cell_type": "code",
   "execution_count": 161,
   "id": "cce428d4",
   "metadata": {},
   "outputs": [],
   "source": [
    "y_pred = model.predict_proba(test_data_x_opt)[:, 1]"
   ]
  },
  {
   "cell_type": "code",
   "execution_count": 148,
   "id": "96e4fbe7",
   "metadata": {},
   "outputs": [],
   "source": [
    "result = pd.DataFrame(data={'dep_delayed_15min': y_pred})\n",
    "result.to_csv('predict6.csv', header=True, index_label='id')"
   ]
  },
  {
   "cell_type": "code",
   "execution_count": null,
   "id": "f35ebeb5",
   "metadata": {},
   "outputs": [],
   "source": []
  }
 ],
 "metadata": {
  "kernelspec": {
   "display_name": "Python 3 (ipykernel)",
   "language": "python",
   "name": "python3"
  },
  "language_info": {
   "codemirror_mode": {
    "name": "ipython",
    "version": 3
   },
   "file_extension": ".py",
   "mimetype": "text/x-python",
   "name": "python",
   "nbconvert_exporter": "python",
   "pygments_lexer": "ipython3",
   "version": "3.9.13"
  }
 },
 "nbformat": 4,
 "nbformat_minor": 5
}
