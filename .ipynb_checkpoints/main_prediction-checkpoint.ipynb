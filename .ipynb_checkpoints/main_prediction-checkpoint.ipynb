{
 "cells": [
  {
   "cell_type": "code",
   "execution_count": 331,
   "id": "c6c3c79c",
   "metadata": {},
   "outputs": [],
   "source": [
    "import pandas as pd\n",
    "import numpy as np\n",
    "import matplotlib.pyplot as plt\n"
   ]
  },
  {
   "cell_type": "code",
   "execution_count": 498,
   "id": "db722b28",
   "metadata": {},
   "outputs": [],
   "source": [
    "train_data_initial = pd.read_csv('flight_delays_train.csv')\n",
    "test_data_initial = pd.read_csv('flight_delays_test.csv')\n",
    "test_data_initial['dep_delayed_15min'] = np.NaN\n",
    "\n",
    "train_data_initial['partition'] = 'train'\n",
    "test_data_initial['partition'] = 'test'\n",
    "\n",
    "\n",
    "data_initial = pd.concat([train_data_initial, test_data_initial])\n",
    "\n"
   ]
  },
  {
   "cell_type": "code",
   "execution_count": 499,
   "id": "660536b8",
   "metadata": {},
   "outputs": [],
   "source": [
    "# data_initial['flight'] = data_initial['Origin']+data_initial['Dest']\n",
    "# pv=data_initial.pivot_table(index=['flight'],columns='partition',values='Month',aggfunc='count')\n",
    "# pv=pv.fillna(0)\n",
    "# pv = pv.reset_index()\n",
    "# pv['exclude'] = np.where((pv['test']==0) & (pv['train']!=0),'yes', 'no')\n",
    "# data_initial = data_initial.merge(pv[['flight','exclude']],how='left',on='flight')\n",
    "# data_initial = data_initial[data_initial['exclude']=='no']\n",
    "# data_initial = data_initial.drop(columns=['flight','exclude'])"
   ]
  },
  {
   "cell_type": "code",
   "execution_count": 500,
   "id": "f99aef56",
   "metadata": {},
   "outputs": [],
   "source": [
    "#часы и обьеденить в категории\n",
    "#избавить от кривых часов\n",
    "#перевозчк+origin/dist"
   ]
  },
  {
   "cell_type": "code",
   "execution_count": null,
   "id": "7e4dd324",
   "metadata": {},
   "outputs": [],
   "source": []
  },
  {
   "cell_type": "code",
   "execution_count": 501,
   "id": "8cfe7ebc",
   "metadata": {},
   "outputs": [
    {
     "data": {
      "text/plain": [
       "N    80956\n",
       "Y    19044\n",
       "Name: dep_delayed_15min, dtype: int64"
      ]
     },
     "execution_count": 501,
     "metadata": {},
     "output_type": "execute_result"
    }
   ],
   "source": [
    "train_data_initial['dep_delayed_15min'].value_counts()"
   ]
  },
  {
   "cell_type": "code",
   "execution_count": 502,
   "id": "acc64b94",
   "metadata": {},
   "outputs": [
    {
     "name": "stdout",
     "output_type": "stream",
     "text": [
      "(200000, 10)\n"
     ]
    },
    {
     "data": {
      "text/html": [
       "<div>\n",
       "<style scoped>\n",
       "    .dataframe tbody tr th:only-of-type {\n",
       "        vertical-align: middle;\n",
       "    }\n",
       "\n",
       "    .dataframe tbody tr th {\n",
       "        vertical-align: top;\n",
       "    }\n",
       "\n",
       "    .dataframe thead th {\n",
       "        text-align: right;\n",
       "    }\n",
       "</style>\n",
       "<table border=\"1\" class=\"dataframe\">\n",
       "  <thead>\n",
       "    <tr style=\"text-align: right;\">\n",
       "      <th></th>\n",
       "      <th>Month</th>\n",
       "      <th>DayofMonth</th>\n",
       "      <th>DayOfWeek</th>\n",
       "      <th>DepTime</th>\n",
       "      <th>UniqueCarrier</th>\n",
       "      <th>Origin</th>\n",
       "      <th>Dest</th>\n",
       "      <th>Distance</th>\n",
       "      <th>dep_delayed_15min</th>\n",
       "      <th>partition</th>\n",
       "    </tr>\n",
       "  </thead>\n",
       "  <tbody>\n",
       "    <tr>\n",
       "      <th>0</th>\n",
       "      <td>c-8</td>\n",
       "      <td>c-21</td>\n",
       "      <td>c-7</td>\n",
       "      <td>1934</td>\n",
       "      <td>AA</td>\n",
       "      <td>ATL</td>\n",
       "      <td>DFW</td>\n",
       "      <td>732</td>\n",
       "      <td>N</td>\n",
       "      <td>train</td>\n",
       "    </tr>\n",
       "    <tr>\n",
       "      <th>1</th>\n",
       "      <td>c-4</td>\n",
       "      <td>c-20</td>\n",
       "      <td>c-3</td>\n",
       "      <td>1548</td>\n",
       "      <td>US</td>\n",
       "      <td>PIT</td>\n",
       "      <td>MCO</td>\n",
       "      <td>834</td>\n",
       "      <td>N</td>\n",
       "      <td>train</td>\n",
       "    </tr>\n",
       "    <tr>\n",
       "      <th>2</th>\n",
       "      <td>c-9</td>\n",
       "      <td>c-2</td>\n",
       "      <td>c-5</td>\n",
       "      <td>1422</td>\n",
       "      <td>XE</td>\n",
       "      <td>RDU</td>\n",
       "      <td>CLE</td>\n",
       "      <td>416</td>\n",
       "      <td>N</td>\n",
       "      <td>train</td>\n",
       "    </tr>\n",
       "    <tr>\n",
       "      <th>3</th>\n",
       "      <td>c-11</td>\n",
       "      <td>c-25</td>\n",
       "      <td>c-6</td>\n",
       "      <td>1015</td>\n",
       "      <td>OO</td>\n",
       "      <td>DEN</td>\n",
       "      <td>MEM</td>\n",
       "      <td>872</td>\n",
       "      <td>N</td>\n",
       "      <td>train</td>\n",
       "    </tr>\n",
       "    <tr>\n",
       "      <th>4</th>\n",
       "      <td>c-10</td>\n",
       "      <td>c-7</td>\n",
       "      <td>c-6</td>\n",
       "      <td>1828</td>\n",
       "      <td>WN</td>\n",
       "      <td>MDW</td>\n",
       "      <td>OMA</td>\n",
       "      <td>423</td>\n",
       "      <td>Y</td>\n",
       "      <td>train</td>\n",
       "    </tr>\n",
       "  </tbody>\n",
       "</table>\n",
       "</div>"
      ],
      "text/plain": [
       "  Month DayofMonth DayOfWeek  DepTime UniqueCarrier Origin Dest  Distance  \\\n",
       "0   c-8       c-21       c-7     1934            AA    ATL  DFW       732   \n",
       "1   c-4       c-20       c-3     1548            US    PIT  MCO       834   \n",
       "2   c-9        c-2       c-5     1422            XE    RDU  CLE       416   \n",
       "3  c-11       c-25       c-6     1015            OO    DEN  MEM       872   \n",
       "4  c-10        c-7       c-6     1828            WN    MDW  OMA       423   \n",
       "\n",
       "  dep_delayed_15min partition  \n",
       "0                 N     train  \n",
       "1                 N     train  \n",
       "2                 N     train  \n",
       "3                 N     train  \n",
       "4                 Y     train  "
      ]
     },
     "execution_count": 502,
     "metadata": {},
     "output_type": "execute_result"
    }
   ],
   "source": [
    "print(data_initial.shape)\n",
    "data_initial.head()"
   ]
  },
  {
   "cell_type": "code",
   "execution_count": 503,
   "id": "5c6b0e1d",
   "metadata": {},
   "outputs": [
    {
     "data": {
      "text/html": [
       "<div>\n",
       "<style scoped>\n",
       "    .dataframe tbody tr th:only-of-type {\n",
       "        vertical-align: middle;\n",
       "    }\n",
       "\n",
       "    .dataframe tbody tr th {\n",
       "        vertical-align: top;\n",
       "    }\n",
       "\n",
       "    .dataframe thead th {\n",
       "        text-align: right;\n",
       "    }\n",
       "</style>\n",
       "<table border=\"1\" class=\"dataframe\">\n",
       "  <thead>\n",
       "    <tr style=\"text-align: right;\">\n",
       "      <th></th>\n",
       "      <th>Month</th>\n",
       "      <th>DayofMonth</th>\n",
       "      <th>DayOfWeek</th>\n",
       "      <th>DepTime</th>\n",
       "      <th>UniqueCarrier</th>\n",
       "      <th>Origin</th>\n",
       "      <th>Dest</th>\n",
       "      <th>Distance</th>\n",
       "      <th>dep_delayed_15min</th>\n",
       "      <th>partition</th>\n",
       "    </tr>\n",
       "  </thead>\n",
       "  <tbody>\n",
       "    <tr>\n",
       "      <th>0</th>\n",
       "      <td>c-7</td>\n",
       "      <td>c-25</td>\n",
       "      <td>c-3</td>\n",
       "      <td>615</td>\n",
       "      <td>YV</td>\n",
       "      <td>MRY</td>\n",
       "      <td>PHX</td>\n",
       "      <td>598</td>\n",
       "      <td>NaN</td>\n",
       "      <td>test</td>\n",
       "    </tr>\n",
       "    <tr>\n",
       "      <th>1</th>\n",
       "      <td>c-4</td>\n",
       "      <td>c-17</td>\n",
       "      <td>c-2</td>\n",
       "      <td>739</td>\n",
       "      <td>WN</td>\n",
       "      <td>LAS</td>\n",
       "      <td>HOU</td>\n",
       "      <td>1235</td>\n",
       "      <td>NaN</td>\n",
       "      <td>test</td>\n",
       "    </tr>\n",
       "    <tr>\n",
       "      <th>2</th>\n",
       "      <td>c-12</td>\n",
       "      <td>c-2</td>\n",
       "      <td>c-7</td>\n",
       "      <td>651</td>\n",
       "      <td>MQ</td>\n",
       "      <td>GSP</td>\n",
       "      <td>ORD</td>\n",
       "      <td>577</td>\n",
       "      <td>NaN</td>\n",
       "      <td>test</td>\n",
       "    </tr>\n",
       "    <tr>\n",
       "      <th>3</th>\n",
       "      <td>c-3</td>\n",
       "      <td>c-25</td>\n",
       "      <td>c-7</td>\n",
       "      <td>1614</td>\n",
       "      <td>WN</td>\n",
       "      <td>BWI</td>\n",
       "      <td>MHT</td>\n",
       "      <td>377</td>\n",
       "      <td>NaN</td>\n",
       "      <td>test</td>\n",
       "    </tr>\n",
       "    <tr>\n",
       "      <th>4</th>\n",
       "      <td>c-6</td>\n",
       "      <td>c-6</td>\n",
       "      <td>c-3</td>\n",
       "      <td>1505</td>\n",
       "      <td>UA</td>\n",
       "      <td>ORD</td>\n",
       "      <td>STL</td>\n",
       "      <td>258</td>\n",
       "      <td>NaN</td>\n",
       "      <td>test</td>\n",
       "    </tr>\n",
       "  </tbody>\n",
       "</table>\n",
       "</div>"
      ],
      "text/plain": [
       "  Month DayofMonth DayOfWeek  DepTime UniqueCarrier Origin Dest  Distance  \\\n",
       "0   c-7       c-25       c-3      615            YV    MRY  PHX       598   \n",
       "1   c-4       c-17       c-2      739            WN    LAS  HOU      1235   \n",
       "2  c-12        c-2       c-7      651            MQ    GSP  ORD       577   \n",
       "3   c-3       c-25       c-7     1614            WN    BWI  MHT       377   \n",
       "4   c-6        c-6       c-3     1505            UA    ORD  STL       258   \n",
       "\n",
       "   dep_delayed_15min partition  \n",
       "0                NaN      test  \n",
       "1                NaN      test  \n",
       "2                NaN      test  \n",
       "3                NaN      test  \n",
       "4                NaN      test  "
      ]
     },
     "execution_count": 503,
     "metadata": {},
     "output_type": "execute_result"
    }
   ],
   "source": [
    "test_data_initial.head()"
   ]
  },
  {
   "cell_type": "code",
   "execution_count": 504,
   "id": "a70a71ab",
   "metadata": {},
   "outputs": [],
   "source": [
    "def time_transform(df: pd.DataFrame) -> pd.DataFrame:\n",
    "    \n",
    "    time_cols = ['Month', 'DayofMonth', 'DayOfWeek']\n",
    "    for col in time_cols:\n",
    "        df[col] = df[col].str[2:].astype('int')\n",
    "#     df['DepTime_h'] = (df['DepTime'] // 100).astype('int')\n",
    "#     df['DepTime_m'] = (df['DepTime'] % 100).astype('int')\n",
    "#     df = df.drop(columns=['DepTime'])\n",
    "#     df['DepTime_h'] = np.where(df['DepTime_h']>=24,df['DepTime_h']-24,df['DepTime_h'])\n",
    "#     df['hour_cat']=pd.cut(df['DepTime_h'], bins=6, labels=[1,2,3,4,5,6]).astype('int')\n",
    "    \n",
    "    return df\n",
    "\n"
   ]
  },
  {
   "cell_type": "code",
   "execution_count": null,
   "id": "619e3ebb",
   "metadata": {},
   "outputs": [],
   "source": []
  },
  {
   "cell_type": "code",
   "execution_count": 505,
   "id": "4ee0547a",
   "metadata": {},
   "outputs": [
    {
     "name": "stdout",
     "output_type": "stream",
     "text": [
      "<class 'pandas.core.frame.DataFrame'>\n",
      "Int64Index: 200000 entries, 0 to 99999\n",
      "Data columns (total 11 columns):\n",
      " #   Column             Non-Null Count   Dtype \n",
      "---  ------             --------------   ----- \n",
      " 0   Month              200000 non-null  int32 \n",
      " 1   DayofMonth         200000 non-null  int32 \n",
      " 2   DayOfWeek          200000 non-null  int32 \n",
      " 3   UniqueCarrier      200000 non-null  object\n",
      " 4   Origin             200000 non-null  object\n",
      " 5   Dest               200000 non-null  object\n",
      " 6   Distance           200000 non-null  int64 \n",
      " 7   dep_delayed_15min  100000 non-null  object\n",
      " 8   partition          200000 non-null  object\n",
      " 9   DepTime_h          200000 non-null  int32 \n",
      " 10  DepTime_m          200000 non-null  int32 \n",
      "dtypes: int32(5), int64(1), object(5)\n",
      "memory usage: 14.5+ MB\n"
     ]
    }
   ],
   "source": [
    "data = time_transform(data_initial)\n",
    "\n",
    "data.info()"
   ]
  },
  {
   "cell_type": "code",
   "execution_count": 506,
   "id": "322f34bc",
   "metadata": {},
   "outputs": [],
   "source": [
    "data['dep_delayed_15min'] = data['dep_delayed_15min'].map({'N': 0, 'Y': 1})\n",
    "#data['flight'] = data['Origin']+data['Dest']\n",
    "#data = data.drop(columns=['Origin','Dest'])"
   ]
  },
  {
   "cell_type": "code",
   "execution_count": 507,
   "id": "8b443753",
   "metadata": {},
   "outputs": [
    {
     "data": {
      "text/html": [
       "<div>\n",
       "<style scoped>\n",
       "    .dataframe tbody tr th:only-of-type {\n",
       "        vertical-align: middle;\n",
       "    }\n",
       "\n",
       "    .dataframe tbody tr th {\n",
       "        vertical-align: top;\n",
       "    }\n",
       "\n",
       "    .dataframe thead th {\n",
       "        text-align: right;\n",
       "    }\n",
       "</style>\n",
       "<table border=\"1\" class=\"dataframe\">\n",
       "  <thead>\n",
       "    <tr style=\"text-align: right;\">\n",
       "      <th></th>\n",
       "      <th>Month</th>\n",
       "      <th>DayofMonth</th>\n",
       "      <th>DayOfWeek</th>\n",
       "      <th>UniqueCarrier</th>\n",
       "      <th>Origin</th>\n",
       "      <th>Dest</th>\n",
       "      <th>Distance</th>\n",
       "      <th>dep_delayed_15min</th>\n",
       "      <th>partition</th>\n",
       "      <th>DepTime_h</th>\n",
       "      <th>DepTime_m</th>\n",
       "    </tr>\n",
       "  </thead>\n",
       "  <tbody>\n",
       "    <tr>\n",
       "      <th>0</th>\n",
       "      <td>8</td>\n",
       "      <td>21</td>\n",
       "      <td>7</td>\n",
       "      <td>AA</td>\n",
       "      <td>ATL</td>\n",
       "      <td>DFW</td>\n",
       "      <td>732</td>\n",
       "      <td>0.0</td>\n",
       "      <td>train</td>\n",
       "      <td>19</td>\n",
       "      <td>34</td>\n",
       "    </tr>\n",
       "    <tr>\n",
       "      <th>1</th>\n",
       "      <td>4</td>\n",
       "      <td>20</td>\n",
       "      <td>3</td>\n",
       "      <td>US</td>\n",
       "      <td>PIT</td>\n",
       "      <td>MCO</td>\n",
       "      <td>834</td>\n",
       "      <td>0.0</td>\n",
       "      <td>train</td>\n",
       "      <td>15</td>\n",
       "      <td>48</td>\n",
       "    </tr>\n",
       "    <tr>\n",
       "      <th>2</th>\n",
       "      <td>9</td>\n",
       "      <td>2</td>\n",
       "      <td>5</td>\n",
       "      <td>XE</td>\n",
       "      <td>RDU</td>\n",
       "      <td>CLE</td>\n",
       "      <td>416</td>\n",
       "      <td>0.0</td>\n",
       "      <td>train</td>\n",
       "      <td>14</td>\n",
       "      <td>22</td>\n",
       "    </tr>\n",
       "    <tr>\n",
       "      <th>3</th>\n",
       "      <td>11</td>\n",
       "      <td>25</td>\n",
       "      <td>6</td>\n",
       "      <td>OO</td>\n",
       "      <td>DEN</td>\n",
       "      <td>MEM</td>\n",
       "      <td>872</td>\n",
       "      <td>0.0</td>\n",
       "      <td>train</td>\n",
       "      <td>10</td>\n",
       "      <td>15</td>\n",
       "    </tr>\n",
       "    <tr>\n",
       "      <th>4</th>\n",
       "      <td>10</td>\n",
       "      <td>7</td>\n",
       "      <td>6</td>\n",
       "      <td>WN</td>\n",
       "      <td>MDW</td>\n",
       "      <td>OMA</td>\n",
       "      <td>423</td>\n",
       "      <td>1.0</td>\n",
       "      <td>train</td>\n",
       "      <td>18</td>\n",
       "      <td>28</td>\n",
       "    </tr>\n",
       "  </tbody>\n",
       "</table>\n",
       "</div>"
      ],
      "text/plain": [
       "   Month  DayofMonth  DayOfWeek UniqueCarrier Origin Dest  Distance  \\\n",
       "0      8          21          7            AA    ATL  DFW       732   \n",
       "1      4          20          3            US    PIT  MCO       834   \n",
       "2      9           2          5            XE    RDU  CLE       416   \n",
       "3     11          25          6            OO    DEN  MEM       872   \n",
       "4     10           7          6            WN    MDW  OMA       423   \n",
       "\n",
       "   dep_delayed_15min partition  DepTime_h  DepTime_m  \n",
       "0                0.0     train         19         34  \n",
       "1                0.0     train         15         48  \n",
       "2                0.0     train         14         22  \n",
       "3                0.0     train         10         15  \n",
       "4                1.0     train         18         28  "
      ]
     },
     "execution_count": 507,
     "metadata": {},
     "output_type": "execute_result"
    }
   ],
   "source": [
    "data.head()"
   ]
  },
  {
   "cell_type": "code",
   "execution_count": 508,
   "id": "d2c72d80",
   "metadata": {},
   "outputs": [],
   "source": [
    "from sklearn.preprocessing import LabelEncoder, StandardScaler\n",
    "\n",
    "def transform_categ(df: pd.DataFrame) -> pd.DataFrame:\n",
    "    \n",
    "    df['UC_Origin']=df['UniqueCarrier']+df['Origin']\n",
    "    df['UC_Dest']=df['UniqueCarrier']+df['Dest']\n",
    "    df['Origin_DepTime']=df['Origin']+df['DepTime'].astype('str')\n",
    "    df['UC_DepTime']=df['Origin']+df['DepTime'].astype('str')\n",
    "    \n",
    "    lbl=LabelEncoder()\n",
    "    \n",
    "    for col in ['UniqueCarrier','Origin','Dest','UC_Origin','UC_Dest', 'Origin_DepTime', 'UC_DepTime']:\n",
    "        \n",
    "        df[col] = lbl.fit_transform(df[col])\n",
    "\n",
    "        #target_encoding\n",
    "#         df_categ = df[['UniqueCarrier', 'Origin','Dest','UC_Origin','UC_Dest','dep_delayed_15min']]\n",
    "#         av_mean = df_categ.groupby(col).agg({'dep_delayed_15min':'mean'})\n",
    "#         av_mean=av_mean.fillna(np.random())\n",
    "#         av_mean_dict = dict(av_mean['dep_delayed_15min'], index=av_mean.index)\n",
    "#         df[col] = df[col].map(av_mean_dict).astype('float64')\n",
    "#    df['UC_Distance'] = df['Distance']*df['UniqueCarrier']\n",
    "        \n",
    "    \n",
    "    return df"
   ]
  },
  {
   "cell_type": "code",
   "execution_count": 509,
   "id": "063b5e7d",
   "metadata": {},
   "outputs": [],
   "source": [
    "#не использую больше\n",
    "def create_features(df):\n",
    "    \n",
    "    cols= list(df.columns)\n",
    "    cols.remove('dep_delayed_15min')\n",
    "    \n",
    "    for col_one in cols:\n",
    "        for col_two in cols:\n",
    "            \n",
    "            if col_one != col_two:\n",
    "                new_col=col_one+'_'+col_two\n",
    "                df[new_col]=df[col_one]*df[col_two]\n",
    "    return df\n",
    "            "
   ]
  },
  {
   "cell_type": "code",
   "execution_count": 510,
   "id": "5180cbe7",
   "metadata": {},
   "outputs": [],
   "source": [
    "data_processed=transform_categ(data)"
   ]
  },
  {
   "cell_type": "code",
   "execution_count": 511,
   "id": "bdb05722",
   "metadata": {},
   "outputs": [
    {
     "name": "stdout",
     "output_type": "stream",
     "text": [
      "(200000, 15)\n"
     ]
    },
    {
     "data": {
      "text/html": [
       "<div>\n",
       "<style scoped>\n",
       "    .dataframe tbody tr th:only-of-type {\n",
       "        vertical-align: middle;\n",
       "    }\n",
       "\n",
       "    .dataframe tbody tr th {\n",
       "        vertical-align: top;\n",
       "    }\n",
       "\n",
       "    .dataframe thead th {\n",
       "        text-align: right;\n",
       "    }\n",
       "</style>\n",
       "<table border=\"1\" class=\"dataframe\">\n",
       "  <thead>\n",
       "    <tr style=\"text-align: right;\">\n",
       "      <th></th>\n",
       "      <th>Month</th>\n",
       "      <th>DayofMonth</th>\n",
       "      <th>DayOfWeek</th>\n",
       "      <th>UniqueCarrier</th>\n",
       "      <th>Origin</th>\n",
       "      <th>Dest</th>\n",
       "      <th>Distance</th>\n",
       "      <th>dep_delayed_15min</th>\n",
       "      <th>partition</th>\n",
       "      <th>DepTime_h</th>\n",
       "      <th>DepTime_m</th>\n",
       "      <th>UC_Origin</th>\n",
       "      <th>UC_Dest</th>\n",
       "      <th>Origin_DepTime</th>\n",
       "      <th>UC_DepTime</th>\n",
       "    </tr>\n",
       "  </thead>\n",
       "  <tbody>\n",
       "    <tr>\n",
       "      <th>0</th>\n",
       "      <td>8</td>\n",
       "      <td>21</td>\n",
       "      <td>7</td>\n",
       "      <td>1</td>\n",
       "      <td>19</td>\n",
       "      <td>82</td>\n",
       "      <td>732</td>\n",
       "      <td>0.0</td>\n",
       "      <td>train</td>\n",
       "      <td>19</td>\n",
       "      <td>34</td>\n",
       "      <td>119</td>\n",
       "      <td>136</td>\n",
       "      <td>240</td>\n",
       "      <td>240</td>\n",
       "    </tr>\n",
       "    <tr>\n",
       "      <th>1</th>\n",
       "      <td>4</td>\n",
       "      <td>20</td>\n",
       "      <td>3</td>\n",
       "      <td>19</td>\n",
       "      <td>226</td>\n",
       "      <td>180</td>\n",
       "      <td>834</td>\n",
       "      <td>0.0</td>\n",
       "      <td>train</td>\n",
       "      <td>15</td>\n",
       "      <td>48</td>\n",
       "      <td>1586</td>\n",
       "      <td>1577</td>\n",
       "      <td>3279</td>\n",
       "      <td>3279</td>\n",
       "    </tr>\n",
       "    <tr>\n",
       "      <th>2</th>\n",
       "      <td>9</td>\n",
       "      <td>2</td>\n",
       "      <td>5</td>\n",
       "      <td>21</td>\n",
       "      <td>239</td>\n",
       "      <td>62</td>\n",
       "      <td>416</td>\n",
       "      <td>0.0</td>\n",
       "      <td>train</td>\n",
       "      <td>14</td>\n",
       "      <td>22</td>\n",
       "      <td>1786</td>\n",
       "      <td>1712</td>\n",
       "      <td>3442</td>\n",
       "      <td>3442</td>\n",
       "    </tr>\n",
       "    <tr>\n",
       "      <th>3</th>\n",
       "      <td>11</td>\n",
       "      <td>25</td>\n",
       "      <td>6</td>\n",
       "      <td>16</td>\n",
       "      <td>81</td>\n",
       "      <td>184</td>\n",
       "      <td>872</td>\n",
       "      <td>0.0</td>\n",
       "      <td>train</td>\n",
       "      <td>10</td>\n",
       "      <td>15</td>\n",
       "      <td>1300</td>\n",
       "      <td>1349</td>\n",
       "      <td>1142</td>\n",
       "      <td>1142</td>\n",
       "    </tr>\n",
       "    <tr>\n",
       "      <th>4</th>\n",
       "      <td>10</td>\n",
       "      <td>7</td>\n",
       "      <td>6</td>\n",
       "      <td>20</td>\n",
       "      <td>182</td>\n",
       "      <td>210</td>\n",
       "      <td>423</td>\n",
       "      <td>1.0</td>\n",
       "      <td>train</td>\n",
       "      <td>18</td>\n",
       "      <td>28</td>\n",
       "      <td>1646</td>\n",
       "      <td>1661</td>\n",
       "      <td>2604</td>\n",
       "      <td>2604</td>\n",
       "    </tr>\n",
       "  </tbody>\n",
       "</table>\n",
       "</div>"
      ],
      "text/plain": [
       "   Month  DayofMonth  DayOfWeek  UniqueCarrier  Origin  Dest  Distance  \\\n",
       "0      8          21          7              1      19    82       732   \n",
       "1      4          20          3             19     226   180       834   \n",
       "2      9           2          5             21     239    62       416   \n",
       "3     11          25          6             16      81   184       872   \n",
       "4     10           7          6             20     182   210       423   \n",
       "\n",
       "   dep_delayed_15min partition  DepTime_h  DepTime_m  UC_Origin  UC_Dest  \\\n",
       "0                0.0     train         19         34        119      136   \n",
       "1                0.0     train         15         48       1586     1577   \n",
       "2                0.0     train         14         22       1786     1712   \n",
       "3                0.0     train         10         15       1300     1349   \n",
       "4                1.0     train         18         28       1646     1661   \n",
       "\n",
       "   Origin_DepTime  UC_DepTime  \n",
       "0             240         240  \n",
       "1            3279        3279  \n",
       "2            3442        3442  \n",
       "3            1142        1142  \n",
       "4            2604        2604  "
      ]
     },
     "execution_count": 511,
     "metadata": {},
     "output_type": "execute_result"
    }
   ],
   "source": [
    "print(data_processed.shape)\n",
    "data_processed.head()"
   ]
  },
  {
   "cell_type": "code",
   "execution_count": 512,
   "id": "862d3150",
   "metadata": {},
   "outputs": [],
   "source": [
    "from xgboost import XGBClassifier, plot_importance\n",
    "from sklearn.metrics import roc_auc_score\n",
    "from sklearn.model_selection import train_test_split\n",
    "from sklearn.model_selection import cross_val_score, GridSearchCV"
   ]
  },
  {
   "cell_type": "code",
   "execution_count": 513,
   "id": "660be13f",
   "metadata": {},
   "outputs": [
    {
     "data": {
      "text/plain": [
       "((100000, 15), (100000, 15))"
      ]
     },
     "execution_count": 513,
     "metadata": {},
     "output_type": "execute_result"
    }
   ],
   "source": [
    "train_data = data_processed[data_processed['partition']=='train']\n",
    "train_data_y = train_data['dep_delayed_15min']\n",
    "train_data_x = train_data.drop(columns=['dep_delayed_15min', 'partition'])\n",
    "\n",
    "test_data = data_processed[data_processed['partition']=='test']\n",
    "test_data_x = test_data.drop(columns=['dep_delayed_15min', 'partition'])\n",
    "\n",
    "train_data.shape, test_data.shape"
   ]
  },
  {
   "cell_type": "code",
   "execution_count": 514,
   "id": "2fbc4878",
   "metadata": {},
   "outputs": [],
   "source": [
    "#train_test_split?"
   ]
  },
  {
   "cell_type": "code",
   "execution_count": 515,
   "id": "0c20eb2e",
   "metadata": {},
   "outputs": [],
   "source": [
    "X_train, X_hold, y_train, y_hold = train_test_split(\n",
    "    train_data_x,\n",
    "    train_data_y,\n",
    "    test_size=0.4,\n",
    "    \n",
    "    stratify=train_data_y,\n",
    "    random_state=20\n",
    ")"
   ]
  },
  {
   "cell_type": "code",
   "execution_count": 516,
   "id": "fa3aa780",
   "metadata": {},
   "outputs": [
    {
     "data": {
      "text/html": [
       "<div>\n",
       "<style scoped>\n",
       "    .dataframe tbody tr th:only-of-type {\n",
       "        vertical-align: middle;\n",
       "    }\n",
       "\n",
       "    .dataframe tbody tr th {\n",
       "        vertical-align: top;\n",
       "    }\n",
       "\n",
       "    .dataframe thead th {\n",
       "        text-align: right;\n",
       "    }\n",
       "</style>\n",
       "<table border=\"1\" class=\"dataframe\">\n",
       "  <thead>\n",
       "    <tr style=\"text-align: right;\">\n",
       "      <th></th>\n",
       "      <th>Month</th>\n",
       "      <th>DayofMonth</th>\n",
       "      <th>DayOfWeek</th>\n",
       "      <th>UniqueCarrier</th>\n",
       "      <th>Origin</th>\n",
       "      <th>Dest</th>\n",
       "      <th>Distance</th>\n",
       "      <th>DepTime_h</th>\n",
       "      <th>DepTime_m</th>\n",
       "      <th>UC_Origin</th>\n",
       "      <th>UC_Dest</th>\n",
       "      <th>Origin_DepTime</th>\n",
       "      <th>UC_DepTime</th>\n",
       "    </tr>\n",
       "  </thead>\n",
       "  <tbody>\n",
       "    <tr>\n",
       "      <th>0</th>\n",
       "      <td>8</td>\n",
       "      <td>21</td>\n",
       "      <td>7</td>\n",
       "      <td>1</td>\n",
       "      <td>19</td>\n",
       "      <td>82</td>\n",
       "      <td>732</td>\n",
       "      <td>19</td>\n",
       "      <td>34</td>\n",
       "      <td>119</td>\n",
       "      <td>136</td>\n",
       "      <td>240</td>\n",
       "      <td>240</td>\n",
       "    </tr>\n",
       "    <tr>\n",
       "      <th>1</th>\n",
       "      <td>4</td>\n",
       "      <td>20</td>\n",
       "      <td>3</td>\n",
       "      <td>19</td>\n",
       "      <td>226</td>\n",
       "      <td>180</td>\n",
       "      <td>834</td>\n",
       "      <td>15</td>\n",
       "      <td>48</td>\n",
       "      <td>1586</td>\n",
       "      <td>1577</td>\n",
       "      <td>3279</td>\n",
       "      <td>3279</td>\n",
       "    </tr>\n",
       "    <tr>\n",
       "      <th>2</th>\n",
       "      <td>9</td>\n",
       "      <td>2</td>\n",
       "      <td>5</td>\n",
       "      <td>21</td>\n",
       "      <td>239</td>\n",
       "      <td>62</td>\n",
       "      <td>416</td>\n",
       "      <td>14</td>\n",
       "      <td>22</td>\n",
       "      <td>1786</td>\n",
       "      <td>1712</td>\n",
       "      <td>3442</td>\n",
       "      <td>3442</td>\n",
       "    </tr>\n",
       "    <tr>\n",
       "      <th>3</th>\n",
       "      <td>11</td>\n",
       "      <td>25</td>\n",
       "      <td>6</td>\n",
       "      <td>16</td>\n",
       "      <td>81</td>\n",
       "      <td>184</td>\n",
       "      <td>872</td>\n",
       "      <td>10</td>\n",
       "      <td>15</td>\n",
       "      <td>1300</td>\n",
       "      <td>1349</td>\n",
       "      <td>1142</td>\n",
       "      <td>1142</td>\n",
       "    </tr>\n",
       "    <tr>\n",
       "      <th>4</th>\n",
       "      <td>10</td>\n",
       "      <td>7</td>\n",
       "      <td>6</td>\n",
       "      <td>20</td>\n",
       "      <td>182</td>\n",
       "      <td>210</td>\n",
       "      <td>423</td>\n",
       "      <td>18</td>\n",
       "      <td>28</td>\n",
       "      <td>1646</td>\n",
       "      <td>1661</td>\n",
       "      <td>2604</td>\n",
       "      <td>2604</td>\n",
       "    </tr>\n",
       "  </tbody>\n",
       "</table>\n",
       "</div>"
      ],
      "text/plain": [
       "   Month  DayofMonth  DayOfWeek  UniqueCarrier  Origin  Dest  Distance  \\\n",
       "0      8          21          7              1      19    82       732   \n",
       "1      4          20          3             19     226   180       834   \n",
       "2      9           2          5             21     239    62       416   \n",
       "3     11          25          6             16      81   184       872   \n",
       "4     10           7          6             20     182   210       423   \n",
       "\n",
       "   DepTime_h  DepTime_m  UC_Origin  UC_Dest  Origin_DepTime  UC_DepTime  \n",
       "0         19         34        119      136             240         240  \n",
       "1         15         48       1586     1577            3279        3279  \n",
       "2         14         22       1786     1712            3442        3442  \n",
       "3         10         15       1300     1349            1142        1142  \n",
       "4         18         28       1646     1661            2604        2604  "
      ]
     },
     "execution_count": 516,
     "metadata": {},
     "output_type": "execute_result"
    }
   ],
   "source": [
    "train_data_x.head()"
   ]
  },
  {
   "cell_type": "code",
   "execution_count": 523,
   "id": "f9efda30",
   "metadata": {},
   "outputs": [
    {
     "data": {
      "text/plain": [
       "GridSearchCV(cv=3,\n",
       "             estimator=XGBClassifier(base_score=None, booster=None,\n",
       "                                     callbacks=None, colsample_bylevel=None,\n",
       "                                     colsample_bynode=None,\n",
       "                                     colsample_bytree=None,\n",
       "                                     early_stopping_rounds=None,\n",
       "                                     enable_categorical=False, eval_metric=None,\n",
       "                                     feature_types=None, gamma=None,\n",
       "                                     gpu_id=None, grow_policy=None,\n",
       "                                     importance_type=None,\n",
       "                                     interaction_constraints=None,\n",
       "                                     learning_rate=None,...\n",
       "                                     max_delta_step=None, max_depth=None,\n",
       "                                     max_leaves=None, min_child_weight=None,\n",
       "                                     missing=nan, monotone_constraints=None,\n",
       "                                     n_estimators=100, n_jobs=None, nthread=1,\n",
       "                                     num_parallel_tree=None, predictor=None, ...),\n",
       "             n_jobs=-1,\n",
       "             param_grid={'gamma': [3, 6, 10],\n",
       "                         'learning_rate': [0.05, 0.1, 0.2, 0.3],\n",
       "                         'max_depth': [2, 4, 6, 8, 10],\n",
       "                         'min_child_weight': [1, 2, 4, 6],\n",
       "                         'n_estimators': [30, 60, 90, 120]},\n",
       "             scoring='roc_auc')"
      ]
     },
     "execution_count": 523,
     "metadata": {},
     "output_type": "execute_result"
    }
   ],
   "source": [
    "params = {'n_estimators': [30,60,90,120],\n",
    "          'max_depth': [2,4,6,8,10],\n",
    "          'learning_rate':[0.05,0.1,0.2,0.3],\n",
    "          'gamma': [3,6,10],\n",
    "          'min_child_weight': [1,2,4,6]\n",
    "    \n",
    "          \n",
    "          }\n",
    "\n",
    "#наилучшие параметры после поиска по сетке выше\n",
    "# params = {'gamma': [3],\n",
    "#           'learning_rate': [0.1],\n",
    "#           'max_depth': [6],\n",
    "#           'min_child_weight': [6],\n",
    "#           'n_estimators': [120]}\n",
    "\n",
    "grid_search = GridSearchCV(estimator=XGBClassifier(random_state = 20, nthread=1), param_grid=params, cv=3, scoring='roc_auc', n_jobs=-1)\n",
    "\n",
    "grid_search.fit(X_train, y_train)"
   ]
  },
  {
   "cell_type": "code",
   "execution_count": 524,
   "id": "55f37109",
   "metadata": {},
   "outputs": [
    {
     "data": {
      "text/plain": [
       "({'gamma': 6,\n",
       "  'learning_rate': 0.1,\n",
       "  'max_depth': 10,\n",
       "  'min_child_weight': 4,\n",
       "  'n_estimators': 120},\n",
       " 0.7337989460864116)"
      ]
     },
     "execution_count": 524,
     "metadata": {},
     "output_type": "execute_result"
    }
   ],
   "source": [
    "grid_search.best_params_, grid_search.best_score_"
   ]
  },
  {
   "cell_type": "code",
   "execution_count": 525,
   "id": "7c47f449",
   "metadata": {},
   "outputs": [],
   "source": [
    "best_model_first = grid_search.best_estimator_"
   ]
  },
  {
   "cell_type": "code",
   "execution_count": 526,
   "id": "6457ede8",
   "metadata": {},
   "outputs": [
    {
     "data": {
      "text/plain": [
       "<AxesSubplot:title={'center':'Feature importance'}, xlabel='F score', ylabel='Features'>"
      ]
     },
     "execution_count": 526,
     "metadata": {},
     "output_type": "execute_result"
    },
    {
     "data": {
      "image/png": "[encoded data removed]",
      "text/plain": [
       "<Figure size 640x480 with 1 Axes>"
      ]
     },
     "metadata": {},
     "output_type": "display_data"
    }
   ],
   "source": [
    "plot_importance(best_model_first)"
   ]
  },
  {
   "cell_type": "code",
   "execution_count": 527,
   "id": "26adfc37",
   "metadata": {},
   "outputs": [
    {
     "data": {
      "text/plain": [
       "0.84901691624079"
      ]
     },
     "execution_count": 527,
     "metadata": {},
     "output_type": "execute_result"
    }
   ],
   "source": [
    "y_pred = best_model_first.predict_proba(X_train)[:, 1]\n",
    "roc_auc_score(y_train, y_pred)"
   ]
  },
  {
   "cell_type": "code",
   "execution_count": 528,
   "id": "c76f3a97",
   "metadata": {},
   "outputs": [
    {
     "data": {
      "text/plain": [
       "0.7380872704789386"
      ]
     },
     "execution_count": 528,
     "metadata": {},
     "output_type": "execute_result"
    }
   ],
   "source": [
    "y_pred = best_model_first.predict_proba(X_hold)[:, 1]\n",
    "roc_auc_score(y_hold, y_pred)"
   ]
  },
  {
   "cell_type": "code",
   "execution_count": 529,
   "id": "8e9f7225",
   "metadata": {},
   "outputs": [],
   "source": [
    "fitted_model = best_model_first.fit(train_data_x, train_data_y)"
   ]
  },
  {
   "cell_type": "code",
   "execution_count": 530,
   "id": "77d26dc1",
   "metadata": {},
   "outputs": [],
   "source": [
    "y_pred_proba = fitted_model.predict_proba(train_data_x)[:, 1]"
   ]
  },
  {
   "cell_type": "code",
   "execution_count": 532,
   "id": "24372f4e",
   "metadata": {},
   "outputs": [],
   "source": [
    "y_pred = fitted_model.predict(train_data_x)"
   ]
  },
  {
   "cell_type": "code",
   "execution_count": 533,
   "id": "e2fc49a6",
   "metadata": {},
   "outputs": [],
   "source": [
    "train_data_pred = train_data.copy()"
   ]
  },
  {
   "cell_type": "code",
   "execution_count": 534,
   "id": "f424e10a",
   "metadata": {},
   "outputs": [],
   "source": [
    "train_data_pred['predict_proba'] = y_pred_proba\n",
    "train_data_pred['predict'] = y_pred\n",
    "train_data_pred['error']=np.where(train_data_pred['predict']!=train_data_pred['dep_delayed_15min'],'Y','N')\n",
    "#losses=train_data_pred[train_data_pred['predict']!=train_data_pred['dep_delayed_15min']]"
   ]
  },
  {
   "cell_type": "code",
   "execution_count": 535,
   "id": "8727dc81",
   "metadata": {},
   "outputs": [],
   "source": [
    "train_data_pred.to_csv('xgb_results.csv')"
   ]
  },
  {
   "cell_type": "code",
   "execution_count": null,
   "id": "beb1a365",
   "metadata": {},
   "outputs": [],
   "source": []
  },
  {
   "cell_type": "code",
   "execution_count": null,
   "id": "06af4062",
   "metadata": {},
   "outputs": [],
   "source": []
  },
  {
   "cell_type": "code",
   "execution_count": null,
   "id": "9fcced0d",
   "metadata": {},
   "outputs": [],
   "source": []
  },
  {
   "cell_type": "code",
   "execution_count": null,
   "id": "62f4a225",
   "metadata": {},
   "outputs": [],
   "source": []
  },
  {
   "cell_type": "code",
   "execution_count": null,
   "id": "5d68f2e8",
   "metadata": {},
   "outputs": [],
   "source": []
  },
  {
   "cell_type": "code",
   "execution_count": null,
   "id": "b8b17d22",
   "metadata": {},
   "outputs": [],
   "source": []
  },
  {
   "cell_type": "code",
   "execution_count": 531,
   "id": "5b59ffb0",
   "metadata": {},
   "outputs": [],
   "source": [
    "y_pred = fitted_model.predict_proba(test_data_x)[:, 1]\n",
    "result = pd.DataFrame(data={'dep_delayed_15min': y_pred})\n",
    "result.to_csv('predict17.csv', header=True, index_label='id')"
   ]
  },
  {
   "cell_type": "markdown",
   "id": "b6203606",
   "metadata": {},
   "source": [
    "# Logreg"
   ]
  },
  {
   "cell_type": "code",
   "execution_count": 536,
   "id": "e509cc01",
   "metadata": {},
   "outputs": [
    {
     "data": {
      "text/html": [
       "<div>\n",
       "<style scoped>\n",
       "    .dataframe tbody tr th:only-of-type {\n",
       "        vertical-align: middle;\n",
       "    }\n",
       "\n",
       "    .dataframe tbody tr th {\n",
       "        vertical-align: top;\n",
       "    }\n",
       "\n",
       "    .dataframe thead th {\n",
       "        text-align: right;\n",
       "    }\n",
       "</style>\n",
       "<table border=\"1\" class=\"dataframe\">\n",
       "  <thead>\n",
       "    <tr style=\"text-align: right;\">\n",
       "      <th></th>\n",
       "      <th>Month</th>\n",
       "      <th>DayofMonth</th>\n",
       "      <th>DayOfWeek</th>\n",
       "      <th>UniqueCarrier</th>\n",
       "      <th>Origin</th>\n",
       "      <th>Dest</th>\n",
       "      <th>Distance</th>\n",
       "      <th>dep_delayed_15min</th>\n",
       "      <th>partition</th>\n",
       "      <th>DepTime_h</th>\n",
       "      <th>DepTime_m</th>\n",
       "      <th>UC_Origin</th>\n",
       "      <th>UC_Dest</th>\n",
       "      <th>Origin_DepTime</th>\n",
       "      <th>UC_DepTime</th>\n",
       "    </tr>\n",
       "  </thead>\n",
       "  <tbody>\n",
       "    <tr>\n",
       "      <th>0</th>\n",
       "      <td>8</td>\n",
       "      <td>21</td>\n",
       "      <td>7</td>\n",
       "      <td>1</td>\n",
       "      <td>19</td>\n",
       "      <td>82</td>\n",
       "      <td>732</td>\n",
       "      <td>0.0</td>\n",
       "      <td>train</td>\n",
       "      <td>19</td>\n",
       "      <td>34</td>\n",
       "      <td>119</td>\n",
       "      <td>136</td>\n",
       "      <td>240</td>\n",
       "      <td>240</td>\n",
       "    </tr>\n",
       "    <tr>\n",
       "      <th>1</th>\n",
       "      <td>4</td>\n",
       "      <td>20</td>\n",
       "      <td>3</td>\n",
       "      <td>19</td>\n",
       "      <td>226</td>\n",
       "      <td>180</td>\n",
       "      <td>834</td>\n",
       "      <td>0.0</td>\n",
       "      <td>train</td>\n",
       "      <td>15</td>\n",
       "      <td>48</td>\n",
       "      <td>1586</td>\n",
       "      <td>1577</td>\n",
       "      <td>3279</td>\n",
       "      <td>3279</td>\n",
       "    </tr>\n",
       "    <tr>\n",
       "      <th>2</th>\n",
       "      <td>9</td>\n",
       "      <td>2</td>\n",
       "      <td>5</td>\n",
       "      <td>21</td>\n",
       "      <td>239</td>\n",
       "      <td>62</td>\n",
       "      <td>416</td>\n",
       "      <td>0.0</td>\n",
       "      <td>train</td>\n",
       "      <td>14</td>\n",
       "      <td>22</td>\n",
       "      <td>1786</td>\n",
       "      <td>1712</td>\n",
       "      <td>3442</td>\n",
       "      <td>3442</td>\n",
       "    </tr>\n",
       "    <tr>\n",
       "      <th>3</th>\n",
       "      <td>11</td>\n",
       "      <td>25</td>\n",
       "      <td>6</td>\n",
       "      <td>16</td>\n",
       "      <td>81</td>\n",
       "      <td>184</td>\n",
       "      <td>872</td>\n",
       "      <td>0.0</td>\n",
       "      <td>train</td>\n",
       "      <td>10</td>\n",
       "      <td>15</td>\n",
       "      <td>1300</td>\n",
       "      <td>1349</td>\n",
       "      <td>1142</td>\n",
       "      <td>1142</td>\n",
       "    </tr>\n",
       "    <tr>\n",
       "      <th>4</th>\n",
       "      <td>10</td>\n",
       "      <td>7</td>\n",
       "      <td>6</td>\n",
       "      <td>20</td>\n",
       "      <td>182</td>\n",
       "      <td>210</td>\n",
       "      <td>423</td>\n",
       "      <td>1.0</td>\n",
       "      <td>train</td>\n",
       "      <td>18</td>\n",
       "      <td>28</td>\n",
       "      <td>1646</td>\n",
       "      <td>1661</td>\n",
       "      <td>2604</td>\n",
       "      <td>2604</td>\n",
       "    </tr>\n",
       "  </tbody>\n",
       "</table>\n",
       "</div>"
      ],
      "text/plain": [
       "   Month  DayofMonth  DayOfWeek  UniqueCarrier  Origin  Dest  Distance  \\\n",
       "0      8          21          7              1      19    82       732   \n",
       "1      4          20          3             19     226   180       834   \n",
       "2      9           2          5             21     239    62       416   \n",
       "3     11          25          6             16      81   184       872   \n",
       "4     10           7          6             20     182   210       423   \n",
       "\n",
       "   dep_delayed_15min partition  DepTime_h  DepTime_m  UC_Origin  UC_Dest  \\\n",
       "0                0.0     train         19         34        119      136   \n",
       "1                0.0     train         15         48       1586     1577   \n",
       "2                0.0     train         14         22       1786     1712   \n",
       "3                0.0     train         10         15       1300     1349   \n",
       "4                1.0     train         18         28       1646     1661   \n",
       "\n",
       "   Origin_DepTime  UC_DepTime  \n",
       "0             240         240  \n",
       "1            3279        3279  \n",
       "2            3442        3442  \n",
       "3            1142        1142  \n",
       "4            2604        2604  "
      ]
     },
     "execution_count": 536,
     "metadata": {},
     "output_type": "execute_result"
    }
   ],
   "source": [
    "data_lr = data.copy()\n",
    "data_lr.head()"
   ]
  },
  {
   "cell_type": "code",
   "execution_count": 295,
   "id": "672b7c32",
   "metadata": {},
   "outputs": [],
   "source": [
    "from sklearn.linear_model import LogisticRegression\n",
    "lg = LogisticRegression(max_iter=10000,C=1)"
   ]
  },
  {
   "cell_type": "code",
   "execution_count": 299,
   "id": "93f1243e",
   "metadata": {},
   "outputs": [],
   "source": [
    "scaler = StandardScaler()"
   ]
  },
  {
   "cell_type": "code",
   "execution_count": 300,
   "id": "f1df9f41",
   "metadata": {},
   "outputs": [],
   "source": [
    "train_data_x_scaled = scaler.fit_transform(train_data_x)"
   ]
  },
  {
   "cell_type": "code",
   "execution_count": null,
   "id": "48ab9321",
   "metadata": {},
   "outputs": [],
   "source": []
  },
  {
   "cell_type": "code",
   "execution_count": 301,
   "id": "a786a478",
   "metadata": {},
   "outputs": [],
   "source": [
    "X_train, X_hold, y_train, y_hold = train_test_split(\n",
    "    train_data_x_scaled,\n",
    "    train_data_y,\n",
    "    test_size=0.4,\n",
    "    \n",
    "    stratify=train_data_y,\n",
    "    random_state=20\n",
    ")"
   ]
  },
  {
   "cell_type": "code",
   "execution_count": 302,
   "id": "b4d93292",
   "metadata": {},
   "outputs": [],
   "source": [
    "lg_model = lg.fit(X_train, y_train)"
   ]
  },
  {
   "cell_type": "code",
   "execution_count": 303,
   "id": "3e325063",
   "metadata": {},
   "outputs": [
    {
     "data": {
      "text/plain": [
       "0.6831981744416394"
      ]
     },
     "execution_count": 303,
     "metadata": {},
     "output_type": "execute_result"
    }
   ],
   "source": [
    "y_pred = lg_model.predict_proba(X_train)[:, 1]\n",
    "roc_auc_score(y_train, y_pred)"
   ]
  },
  {
   "cell_type": "code",
   "execution_count": 304,
   "id": "63fae9f4",
   "metadata": {},
   "outputs": [
    {
     "data": {
      "text/plain": [
       "0.6831264687999659"
      ]
     },
     "execution_count": 304,
     "metadata": {},
     "output_type": "execute_result"
    }
   ],
   "source": [
    "y_pred = lg_model.predict_proba(X_hold)[:, 1]\n",
    "roc_auc_score(y_hold, y_pred)"
   ]
  },
  {
   "cell_type": "code",
   "execution_count": null,
   "id": "c75b9322",
   "metadata": {},
   "outputs": [],
   "source": []
  }
 ],
 "metadata": {
  "kernelspec": {
   "display_name": "Python 3 (ipykernel)",
   "language": "python",
   "name": "python3"
  },
  "language_info": {
   "codemirror_mode": {
    "name": "ipython",
    "version": 3
   },
   "file_extension": ".py",
   "mimetype": "text/x-python",
   "name": "python",
   "nbconvert_exporter": "python",
   "pygments_lexer": "ipython3",
   "version": "3.9.13"
  }
 },
 "nbformat": 4,
 "nbformat_minor": 5
}
