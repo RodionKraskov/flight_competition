{
 "cells": [
  {
   "cell_type": "code",
   "execution_count": 285,
   "id": "d72b26ae",
   "metadata": {},
   "outputs": [],
   "source": [
    "import pandas as pd\n",
    "import numpy as np\n",
    "import matplotlib.pyplot as plt\n"
   ]
  },
  {
   "cell_type": "code",
   "execution_count": 286,
   "id": "9c4f2729",
   "metadata": {},
   "outputs": [],
   "source": [
    "train_data_initial = pd.read_csv('flight_delays_train.csv')\n",
    "test_data_initial = pd.read_csv('flight_delays_test.csv')\n",
    "test_data_initial['dep_delayed_15min'] = np.NaN\n",
    "data_initial = pd.concat([train_data_initial, test_data_initial])\n",
    "train_indx = train_data_initial.shape[0]\n"
   ]
  },
  {
   "cell_type": "code",
   "execution_count": 287,
   "id": "73054d67",
   "metadata": {},
   "outputs": [
    {
     "name": "stdout",
     "output_type": "stream",
     "text": [
      "(200000, 9)\n"
     ]
    },
    {
     "data": {
      "text/html": [
       "<div>\n",
       "<style scoped>\n",
       "    .dataframe tbody tr th:only-of-type {\n",
       "        vertical-align: middle;\n",
       "    }\n",
       "\n",
       "    .dataframe tbody tr th {\n",
       "        vertical-align: top;\n",
       "    }\n",
       "\n",
       "    .dataframe thead th {\n",
       "        text-align: right;\n",
       "    }\n",
       "</style>\n",
       "<table border=\"1\" class=\"dataframe\">\n",
       "  <thead>\n",
       "    <tr style=\"text-align: right;\">\n",
       "      <th></th>\n",
       "      <th>Month</th>\n",
       "      <th>DayofMonth</th>\n",
       "      <th>DayOfWeek</th>\n",
       "      <th>DepTime</th>\n",
       "      <th>UniqueCarrier</th>\n",
       "      <th>Origin</th>\n",
       "      <th>Dest</th>\n",
       "      <th>Distance</th>\n",
       "      <th>dep_delayed_15min</th>\n",
       "    </tr>\n",
       "  </thead>\n",
       "  <tbody>\n",
       "    <tr>\n",
       "      <th>0</th>\n",
       "      <td>c-8</td>\n",
       "      <td>c-21</td>\n",
       "      <td>c-7</td>\n",
       "      <td>1934</td>\n",
       "      <td>AA</td>\n",
       "      <td>ATL</td>\n",
       "      <td>DFW</td>\n",
       "      <td>732</td>\n",
       "      <td>N</td>\n",
       "    </tr>\n",
       "    <tr>\n",
       "      <th>1</th>\n",
       "      <td>c-4</td>\n",
       "      <td>c-20</td>\n",
       "      <td>c-3</td>\n",
       "      <td>1548</td>\n",
       "      <td>US</td>\n",
       "      <td>PIT</td>\n",
       "      <td>MCO</td>\n",
       "      <td>834</td>\n",
       "      <td>N</td>\n",
       "    </tr>\n",
       "    <tr>\n",
       "      <th>2</th>\n",
       "      <td>c-9</td>\n",
       "      <td>c-2</td>\n",
       "      <td>c-5</td>\n",
       "      <td>1422</td>\n",
       "      <td>XE</td>\n",
       "      <td>RDU</td>\n",
       "      <td>CLE</td>\n",
       "      <td>416</td>\n",
       "      <td>N</td>\n",
       "    </tr>\n",
       "    <tr>\n",
       "      <th>3</th>\n",
       "      <td>c-11</td>\n",
       "      <td>c-25</td>\n",
       "      <td>c-6</td>\n",
       "      <td>1015</td>\n",
       "      <td>OO</td>\n",
       "      <td>DEN</td>\n",
       "      <td>MEM</td>\n",
       "      <td>872</td>\n",
       "      <td>N</td>\n",
       "    </tr>\n",
       "    <tr>\n",
       "      <th>4</th>\n",
       "      <td>c-10</td>\n",
       "      <td>c-7</td>\n",
       "      <td>c-6</td>\n",
       "      <td>1828</td>\n",
       "      <td>WN</td>\n",
       "      <td>MDW</td>\n",
       "      <td>OMA</td>\n",
       "      <td>423</td>\n",
       "      <td>Y</td>\n",
       "    </tr>\n",
       "  </tbody>\n",
       "</table>\n",
       "</div>"
      ],
      "text/plain": [
       "  Month DayofMonth DayOfWeek  DepTime UniqueCarrier Origin Dest  Distance  \\\n",
       "0   c-8       c-21       c-7     1934            AA    ATL  DFW       732   \n",
       "1   c-4       c-20       c-3     1548            US    PIT  MCO       834   \n",
       "2   c-9        c-2       c-5     1422            XE    RDU  CLE       416   \n",
       "3  c-11       c-25       c-6     1015            OO    DEN  MEM       872   \n",
       "4  c-10        c-7       c-6     1828            WN    MDW  OMA       423   \n",
       "\n",
       "  dep_delayed_15min  \n",
       "0                 N  \n",
       "1                 N  \n",
       "2                 N  \n",
       "3                 N  \n",
       "4                 Y  "
      ]
     },
     "execution_count": 287,
     "metadata": {},
     "output_type": "execute_result"
    }
   ],
   "source": [
    "print(data_initial.shape)\n",
    "data_initial.head()"
   ]
  },
  {
   "cell_type": "code",
   "execution_count": 288,
   "id": "45d09d02",
   "metadata": {},
   "outputs": [],
   "source": [
    "def time_transform(df: pd.DataFrame) -> pd.DataFrame:\n",
    "    \n",
    "    time_cols = ['Month', 'DayofMonth', 'DayOfWeek']\n",
    "    for col in time_cols:\n",
    "        df[col] = df[col].str[2:].astype('int')\n",
    "    \n",
    "    df['DepTime_h'] = df['DepTime'] // 100\n",
    "#     df['DepTime_m'] = df['DepTime'] % 100\n",
    "#     df = df.drop(columns=['DepTime'])\n",
    "    \n",
    "    return df\n",
    "\n"
   ]
  },
  {
   "cell_type": "code",
   "execution_count": null,
   "id": "de743fd6",
   "metadata": {},
   "outputs": [],
   "source": []
  },
  {
   "cell_type": "code",
   "execution_count": 289,
   "id": "82252d44",
   "metadata": {},
   "outputs": [
    {
     "data": {
      "text/html": [
       "<div>\n",
       "<style scoped>\n",
       "    .dataframe tbody tr th:only-of-type {\n",
       "        vertical-align: middle;\n",
       "    }\n",
       "\n",
       "    .dataframe tbody tr th {\n",
       "        vertical-align: top;\n",
       "    }\n",
       "\n",
       "    .dataframe thead th {\n",
       "        text-align: right;\n",
       "    }\n",
       "</style>\n",
       "<table border=\"1\" class=\"dataframe\">\n",
       "  <thead>\n",
       "    <tr style=\"text-align: right;\">\n",
       "      <th></th>\n",
       "      <th>Month</th>\n",
       "      <th>DayofMonth</th>\n",
       "      <th>DayOfWeek</th>\n",
       "      <th>DepTime</th>\n",
       "      <th>UniqueCarrier</th>\n",
       "      <th>Origin</th>\n",
       "      <th>Dest</th>\n",
       "      <th>Distance</th>\n",
       "      <th>dep_delayed_15min</th>\n",
       "      <th>DepTime_h</th>\n",
       "    </tr>\n",
       "  </thead>\n",
       "  <tbody>\n",
       "    <tr>\n",
       "      <th>0</th>\n",
       "      <td>8</td>\n",
       "      <td>21</td>\n",
       "      <td>7</td>\n",
       "      <td>1934</td>\n",
       "      <td>AA</td>\n",
       "      <td>ATL</td>\n",
       "      <td>DFW</td>\n",
       "      <td>732</td>\n",
       "      <td>N</td>\n",
       "      <td>19</td>\n",
       "    </tr>\n",
       "    <tr>\n",
       "      <th>1</th>\n",
       "      <td>4</td>\n",
       "      <td>20</td>\n",
       "      <td>3</td>\n",
       "      <td>1548</td>\n",
       "      <td>US</td>\n",
       "      <td>PIT</td>\n",
       "      <td>MCO</td>\n",
       "      <td>834</td>\n",
       "      <td>N</td>\n",
       "      <td>15</td>\n",
       "    </tr>\n",
       "    <tr>\n",
       "      <th>2</th>\n",
       "      <td>9</td>\n",
       "      <td>2</td>\n",
       "      <td>5</td>\n",
       "      <td>1422</td>\n",
       "      <td>XE</td>\n",
       "      <td>RDU</td>\n",
       "      <td>CLE</td>\n",
       "      <td>416</td>\n",
       "      <td>N</td>\n",
       "      <td>14</td>\n",
       "    </tr>\n",
       "    <tr>\n",
       "      <th>3</th>\n",
       "      <td>11</td>\n",
       "      <td>25</td>\n",
       "      <td>6</td>\n",
       "      <td>1015</td>\n",
       "      <td>OO</td>\n",
       "      <td>DEN</td>\n",
       "      <td>MEM</td>\n",
       "      <td>872</td>\n",
       "      <td>N</td>\n",
       "      <td>10</td>\n",
       "    </tr>\n",
       "    <tr>\n",
       "      <th>4</th>\n",
       "      <td>10</td>\n",
       "      <td>7</td>\n",
       "      <td>6</td>\n",
       "      <td>1828</td>\n",
       "      <td>WN</td>\n",
       "      <td>MDW</td>\n",
       "      <td>OMA</td>\n",
       "      <td>423</td>\n",
       "      <td>Y</td>\n",
       "      <td>18</td>\n",
       "    </tr>\n",
       "  </tbody>\n",
       "</table>\n",
       "</div>"
      ],
      "text/plain": [
       "   Month  DayofMonth  DayOfWeek  DepTime UniqueCarrier Origin Dest  Distance  \\\n",
       "0      8          21          7     1934            AA    ATL  DFW       732   \n",
       "1      4          20          3     1548            US    PIT  MCO       834   \n",
       "2      9           2          5     1422            XE    RDU  CLE       416   \n",
       "3     11          25          6     1015            OO    DEN  MEM       872   \n",
       "4     10           7          6     1828            WN    MDW  OMA       423   \n",
       "\n",
       "  dep_delayed_15min  DepTime_h  \n",
       "0                 N         19  \n",
       "1                 N         15  \n",
       "2                 N         14  \n",
       "3                 N         10  \n",
       "4                 Y         18  "
      ]
     },
     "execution_count": 289,
     "metadata": {},
     "output_type": "execute_result"
    }
   ],
   "source": [
    "data = time_transform(data_initial)\n",
    "\n",
    "data.head()"
   ]
  },
  {
   "cell_type": "code",
   "execution_count": 290,
   "id": "a792d4ce",
   "metadata": {},
   "outputs": [],
   "source": [
    "data['dep_delayed_15min'] = data['dep_delayed_15min'].map({'N': 0, 'Y': 1})\n",
    "data['flight'] = data['Origin']+data['Dest']\n",
    "data = data.drop(columns=['Origin','Dest'])"
   ]
  },
  {
   "cell_type": "code",
   "execution_count": 291,
   "id": "db5ca964",
   "metadata": {},
   "outputs": [],
   "source": [
    "#data.head()"
   ]
  },
  {
   "cell_type": "code",
   "execution_count": 292,
   "id": "0d4b9f99",
   "metadata": {},
   "outputs": [],
   "source": [
    "#не использую больше\n",
    "def transform_categ_mean(df: pd.DataFrame) -> pd.DataFrame:\n",
    "    \n",
    "    df_categ = df[['UniqueCarrier', 'flight','dep_delayed_15min']]\n",
    "    \n",
    "    for col in ['UniqueCarrier', 'flight']:\n",
    "        \n",
    "        av_mean = df_categ.groupby(col).agg({'dep_delayed_15min':'mean'})\n",
    "        av_mean=av_mean.fillna(0)\n",
    "        av_mean_dict = dict(av_mean['dep_delayed_15min'], index=av_mean.index)\n",
    "        df[col] = df[col].map(av_mean_dict).astype('float64')\n",
    "    \n",
    "    return df"
   ]
  },
  {
   "cell_type": "code",
   "execution_count": 293,
   "id": "657e12dc",
   "metadata": {},
   "outputs": [],
   "source": [
    "from sklearn.preprocessing import LabelBinarizer, OneHotEncoder\n"
   ]
  },
  {
   "cell_type": "code",
   "execution_count": 294,
   "id": "634c8b0b",
   "metadata": {},
   "outputs": [],
   "source": [
    "#не использую больше\n",
    "def transform_categs(df: pd.DataFrame) -> pd.DataFrame:\n",
    "    \n",
    "    OHE = OneHotEncoder(sparse=False)\n",
    "    \n",
    "    df_categ = df[['UniqueCarrier', 'flight']].astype('category')\n",
    "    \n",
    "    array_transformed = OHE.fit_transform(df_categ)\n",
    "    array_columns = OHE.get_feature_names_out(['UniqueCarrier', 'flight'])\n",
    "    df_transformed = pd.DataFrame(data=array_transformed,columns=array_columns)\n",
    "    \n",
    "    df = df.drop(columns=['UniqueCarrier', 'flight'])\n",
    "    \n",
    "    df = df.reset_index()\n",
    "    df_transformed = df_transformed.reset_index()\n",
    "    df = df.drop(columns=['index'])\n",
    "    df_transformed = df_transformed.drop(columns=['index'])\n",
    "    \n",
    "    \n",
    "    df = pd.concat([df, df_transformed], axis=1)\n",
    "    \n",
    "    return df"
   ]
  },
  {
   "cell_type": "code",
   "execution_count": 295,
   "id": "2c009634",
   "metadata": {},
   "outputs": [],
   "source": [
    "data_processed = transform_categs(data)\n",
    "# data_processed = transform_categ_mean(data)\n",
    "# print(data_processed.shape)\n",
    "# data_processed.head()\n"
   ]
  },
  {
   "cell_type": "code",
   "execution_count": 296,
   "id": "c14ecc82",
   "metadata": {},
   "outputs": [],
   "source": [
    "from sklearn.preprocessing import StandardScaler\n",
    "\n",
    "#не использую больше\n",
    "def scale_time(df: pd.DataFrame) -> pd.DataFrame:\n",
    "    \n",
    "    scaler = StandardScaler()\n",
    "    \n",
    "    df_time = df[['Month', 'DayofMonth', 'DayOfWeek','DepTime','Distance','DepTime_h']]\n",
    "    \n",
    "    array_transformed = scaler.fit_transform(df_time)\n",
    "    array_columns = scaler.get_feature_names_out(['Month', 'DayofMonth', 'DayOfWeek','DepTime','Distance','DepTime_h'])\n",
    "    df_transformed = pd.DataFrame(data=array_transformed,columns=array_columns)\n",
    "    \n",
    "    df = df.drop(columns=['Month', 'DayofMonth', 'DayOfWeek','DepTime','Distance','DepTime_h'])\n",
    "    \n",
    "    df = df.reset_index()\n",
    "    df_transformed = df_transformed.reset_index()\n",
    "    df = df.drop(columns=['index'])\n",
    "    df_transformed = df_transformed.drop(columns=['index'])\n",
    "    \n",
    "    \n",
    "    df = pd.concat([df, df_transformed], axis=1)\n",
    "    \n",
    "    return df\n",
    "\n",
    "\n",
    "\n"
   ]
  },
  {
   "cell_type": "code",
   "execution_count": 297,
   "id": "e85b62c8",
   "metadata": {},
   "outputs": [],
   "source": [
    "#data_processed = scale_time(data_processed_categ)\n",
    "#data_processed.shape"
   ]
  },
  {
   "cell_type": "code",
   "execution_count": 298,
   "id": "e1f55fb9",
   "metadata": {},
   "outputs": [],
   "source": [
    "from xgboost import XGBClassifier, plot_importance\n",
    "from sklearn.metrics import roc_auc_score\n",
    "from sklearn.model_selection import train_test_split\n",
    "from sklearn.model_selection import cross_val_score, GridSearchCV"
   ]
  },
  {
   "cell_type": "code",
   "execution_count": 299,
   "id": "8bd04584",
   "metadata": {},
   "outputs": [
    {
     "data": {
      "text/plain": [
       "((100000, 5078), (100000, 5078))"
      ]
     },
     "execution_count": 299,
     "metadata": {},
     "output_type": "execute_result"
    }
   ],
   "source": [
    "train_data = data_processed[:train_indx]\n",
    "train_data_y = train_data['dep_delayed_15min']\n",
    "train_data_x = train_data.drop(columns=['dep_delayed_15min'])\n",
    "\n",
    "test_data = data_processed[train_indx:]\n",
    "test_data_x = test_data.drop(columns=['dep_delayed_15min'])\n",
    "\n",
    "train_data.shape, test_data.shape"
   ]
  },
  {
   "cell_type": "code",
   "execution_count": 300,
   "id": "8acb3712",
   "metadata": {},
   "outputs": [],
   "source": [
    "X_train, X_hold, y_train, y_hold = train_test_split(\n",
    "    train_data_x,\n",
    "    train_data_y,\n",
    "    test_size=0.3,\n",
    "    stratify=train_data_y,\n",
    "    random_state=20\n",
    ")"
   ]
  },
  {
   "cell_type": "code",
   "execution_count": 301,
   "id": "ee32b540",
   "metadata": {},
   "outputs": [],
   "source": [
    "model = XGBClassifier(n_estimators = 50, random_state = 20)"
   ]
  },
  {
   "cell_type": "code",
   "execution_count": null,
   "id": "976cde4d",
   "metadata": {},
   "outputs": [],
   "source": [
    "params = {'n_estimators': [50],\n",
    "          'max_depth': [7],\n",
    "          'learning_rate':[0.1],\n",
    "          'gamma': [3],\n",
    "          'colsample_bytree':[0.3],\n",
    "          'max_leaves': [5]\n",
    "          \n",
    "          }\n",
    "\n",
    "grid_search = GridSearchCV(estimator=XGBClassifier(random_state = 20, verbose=0), param_grid=params, cv=3, scoring='roc_auc', n_jobs=-1)\n",
    "\n",
    "grid_search.fit(X_train, y_train)"
   ]
  },
  {
   "cell_type": "code",
   "execution_count": null,
   "id": "0f992cb4",
   "metadata": {},
   "outputs": [],
   "source": [
    "#grid_search.best_params_, grid_search.best_score_"
   ]
  },
  {
   "cell_type": "code",
   "execution_count": null,
   "id": "5f88a322",
   "metadata": {},
   "outputs": [],
   "source": [
    "best_model_first = grid_search.best_estimator_"
   ]
  },
  {
   "cell_type": "code",
   "execution_count": null,
   "id": "7da68501",
   "metadata": {},
   "outputs": [],
   "source": [
    "y_pred = best_model_first.predict_proba(X_train)[:, 1]\n",
    "roc_auc_score(y_train, y_pred)"
   ]
  },
  {
   "cell_type": "code",
   "execution_count": null,
   "id": "28c9e10a",
   "metadata": {},
   "outputs": [],
   "source": [
    "y_pred = best_model_first.predict_proba(X_hold)[:, 1]\n",
    "roc_auc_score(y_hold, y_pred)"
   ]
  },
  {
   "cell_type": "code",
   "execution_count": null,
   "id": "bd0ba4b7",
   "metadata": {},
   "outputs": [],
   "source": []
  },
  {
   "cell_type": "code",
   "execution_count": null,
   "id": "24ae6015",
   "metadata": {},
   "outputs": [],
   "source": []
  },
  {
   "cell_type": "code",
   "execution_count": null,
   "id": "2c21c809",
   "metadata": {},
   "outputs": [],
   "source": [
    "df_feat= pd.DataFrame(data={'feat_name':best_model_first.feature_names_in_, 'importance': best_model_first.feature_importances_}).\\\n",
    "    sort_values(by='importance', ascending= False)\n",
    "df_feat['cum']= df_feat['importance'].cumsum()"
   ]
  },
  {
   "cell_type": "code",
   "execution_count": null,
   "id": "3ed71332",
   "metadata": {},
   "outputs": [],
   "source": [
    "usless_feats = df_feat[df_feat['cum']>0.999]['feat_name']\n",
    "df_feat[df_feat['cum']>0.999].shape, df_feat.shape"
   ]
  },
  {
   "cell_type": "code",
   "execution_count": null,
   "id": "c1f01e3e",
   "metadata": {},
   "outputs": [],
   "source": []
  },
  {
   "cell_type": "code",
   "execution_count": null,
   "id": "80300adf",
   "metadata": {},
   "outputs": [],
   "source": []
  },
  {
   "cell_type": "code",
   "execution_count": null,
   "id": "d9ee16a1",
   "metadata": {},
   "outputs": [],
   "source": [
    "X_train_opt = X_train.drop(columns=usless_feats)\n",
    "X_hold_opt = X_hold.drop(columns=usless_feats)\n",
    "train_data_x_opt = train_data_x.drop(columns=usless_feats)\n",
    "test_data_x_opt = test_data_x.drop(columns=usless_feats)"
   ]
  },
  {
   "cell_type": "code",
   "execution_count": null,
   "id": "2b6fd89d",
   "metadata": {},
   "outputs": [],
   "source": [
    "#params = {'n_estimators': [90], 'max_depth': [7], 'learning_rate': [0.3]}\n",
    "\n",
    "#grid_search = GridSearchCV(estimator=XGBClassifier(random_state = 20), param_grid=params, cv=3, scoring='roc_auc', n_jobs=-1)\n",
    "\n",
    "#grid_search.fit(X_train_opt, y_train)"
   ]
  },
  {
   "cell_type": "code",
   "execution_count": null,
   "id": "4868afb2",
   "metadata": {},
   "outputs": [],
   "source": [
    "#grid_search.best_params_, grid_search.best_score_"
   ]
  },
  {
   "cell_type": "code",
   "execution_count": null,
   "id": "ec6bb3e3",
   "metadata": {},
   "outputs": [],
   "source": [
    "#XGBClassifier?"
   ]
  },
  {
   "cell_type": "code",
   "execution_count": null,
   "id": "1c60e185",
   "metadata": {},
   "outputs": [],
   "source": [
    "%time\n",
    "model = XGBClassifier(n_estimators=1000,max_depth=50,learning_rate=1, random_state=20)\n",
    "model.fit(X_train_opt, y_train)"
   ]
  },
  {
   "cell_type": "code",
   "execution_count": null,
   "id": "2a0b397a",
   "metadata": {},
   "outputs": [],
   "source": [
    "y_pred = model.predict_proba(X_train_opt)[:, 1]\n",
    "roc_auc_score(y_train, y_pred)"
   ]
  },
  {
   "cell_type": "code",
   "execution_count": null,
   "id": "83159f84",
   "metadata": {},
   "outputs": [],
   "source": [
    "y_pred = model.predict_proba(X_hold_opt)[:, 1]\n",
    "roc_auc_score(y_hold, y_pred)"
   ]
  },
  {
   "cell_type": "code",
   "execution_count": null,
   "id": "9a95c304",
   "metadata": {},
   "outputs": [],
   "source": [
    "y_pred = model.predict_proba(train_data_x_opt)[:, 1]\n",
    "roc_auc_score(train_data_y, y_pred)"
   ]
  },
  {
   "cell_type": "code",
   "execution_count": null,
   "id": "bebc57db",
   "metadata": {},
   "outputs": [],
   "source": [
    "y_pred = model.predict_proba(test_data_x_opt)[:, 1]"
   ]
  },
  {
   "cell_type": "code",
   "execution_count": 148,
   "id": "dc80fcaf",
   "metadata": {},
   "outputs": [],
   "source": [
    "result = pd.DataFrame(data={'dep_delayed_15min': y_pred})\n",
    "result.to_csv('predict6.csv', header=True, index_label='id')"
   ]
  },
  {
   "cell_type": "code",
   "execution_count": null,
   "id": "5d8b573e",
   "metadata": {},
   "outputs": [],
   "source": []
  }
 ],
 "metadata": {
  "kernelspec": {
   "display_name": "Python 3 (ipykernel)",
   "language": "python",
   "name": "python3"
  },
  "language_info": {
   "codemirror_mode": {
    "name": "ipython",
    "version": 3
   },
   "file_extension": ".py",
   "mimetype": "text/x-python",
   "name": "python",
   "nbconvert_exporter": "python",
   "pygments_lexer": "ipython3",
   "version": "3.9.13"
  }
 },
 "nbformat": 4,
 "nbformat_minor": 5
}
