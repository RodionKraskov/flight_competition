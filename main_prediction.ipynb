{
 "cells": [
  {
   "cell_type": "code",
   "execution_count": 62,
   "id": "c6c3c79c",
   "metadata": {},
   "outputs": [],
   "source": [
    "import pandas as pd\n",
    "import numpy as np\n",
    "import matplotlib.pyplot as plt\n"
   ]
  },
  {
   "cell_type": "code",
   "execution_count": 63,
   "id": "db722b28",
   "metadata": {},
   "outputs": [],
   "source": [
    "train_data_initial = pd.read_csv('flight_delays_train.csv')\n",
    "test_data_initial = pd.read_csv('flight_delays_test.csv')\n",
    "test_data_initial['dep_delayed_15min'] = np.NaN\n",
    "\n",
    "train_data_initial['partition'] = 'train'\n",
    "test_data_initial['partition'] = 'test'\n",
    "\n",
    "\n",
    "data_initial = pd.concat([train_data_initial, test_data_initial])\n",
    "\n"
   ]
  },
  {
   "cell_type": "code",
   "execution_count": 64,
   "id": "660536b8",
   "metadata": {},
   "outputs": [],
   "source": [
    "# data_initial['flight'] = data_initial['Origin']+data_initial['Dest']\n",
    "# pv=data_initial.pivot_table(index=['flight'],columns='partition',values='Month',aggfunc='count')\n",
    "# pv=pv.fillna(0)\n",
    "# pv = pv.reset_index()\n",
    "# pv['exclude'] = np.where((pv['test']==0) & (pv['train']!=0),'yes', 'no')\n",
    "# data_initial = data_initial.merge(pv[['flight','exclude']],how='left',on='flight')\n",
    "# data_initial = data_initial[data_initial['exclude']=='no']\n",
    "# data_initial = data_initial.drop(columns=['flight','exclude'])"
   ]
  },
  {
   "cell_type": "code",
   "execution_count": 65,
   "id": "a70a71ab",
   "metadata": {},
   "outputs": [],
   "source": [
    "def time_transform(df: pd.DataFrame) -> pd.DataFrame:\n",
    "    \n",
    "    time_cols = ['Month', 'DayofMonth', 'DayOfWeek']\n",
    "    for col in time_cols:\n",
    "        df[col] = df[col].str[2:].astype('int')\n",
    "#     df['DepTime_h'] = (df['DepTime'] // 100).astype('int')\n",
    "#     df['DepTime_m'] = (df['DepTime'] % 100).astype('int')\n",
    "#     df = df.drop(columns=['DepTime'])\n",
    "#     df['DepTime_h'] = np.where(df['DepTime_h']>=24,df['DepTime_h']-24,df['DepTime_h'])\n",
    "#     df['hour_cat']=pd.cut(df['DepTime_h'], bins=6, labels=[1,2,3,4,5,6]).astype('int')\n",
    "    \n",
    "    return df\n",
    "\n"
   ]
  },
  {
   "cell_type": "code",
   "execution_count": 66,
   "id": "322f34bc",
   "metadata": {},
   "outputs": [],
   "source": [
    "data_initial['dep_delayed_15min'] = data_initial['dep_delayed_15min'].map({'N': 0, 'Y': 1})\n",
    "#data['flight'] = data['Origin']+data['Dest']\n",
    "#data = data.drop(columns=['Origin','Dest'])"
   ]
  },
  {
   "cell_type": "code",
   "execution_count": 67,
   "id": "8b443753",
   "metadata": {},
   "outputs": [
    {
     "data": {
      "text/html": [
       "<div>\n",
       "<style scoped>\n",
       "    .dataframe tbody tr th:only-of-type {\n",
       "        vertical-align: middle;\n",
       "    }\n",
       "\n",
       "    .dataframe tbody tr th {\n",
       "        vertical-align: top;\n",
       "    }\n",
       "\n",
       "    .dataframe thead th {\n",
       "        text-align: right;\n",
       "    }\n",
       "</style>\n",
       "<table border=\"1\" class=\"dataframe\">\n",
       "  <thead>\n",
       "    <tr style=\"text-align: right;\">\n",
       "      <th></th>\n",
       "      <th>Month</th>\n",
       "      <th>DayofMonth</th>\n",
       "      <th>DayOfWeek</th>\n",
       "      <th>DepTime</th>\n",
       "      <th>UniqueCarrier</th>\n",
       "      <th>Origin</th>\n",
       "      <th>Dest</th>\n",
       "      <th>Distance</th>\n",
       "      <th>dep_delayed_15min</th>\n",
       "      <th>partition</th>\n",
       "    </tr>\n",
       "  </thead>\n",
       "  <tbody>\n",
       "    <tr>\n",
       "      <th>0</th>\n",
       "      <td>8</td>\n",
       "      <td>21</td>\n",
       "      <td>7</td>\n",
       "      <td>1934</td>\n",
       "      <td>AA</td>\n",
       "      <td>ATL</td>\n",
       "      <td>DFW</td>\n",
       "      <td>732</td>\n",
       "      <td>0.0</td>\n",
       "      <td>train</td>\n",
       "    </tr>\n",
       "    <tr>\n",
       "      <th>1</th>\n",
       "      <td>4</td>\n",
       "      <td>20</td>\n",
       "      <td>3</td>\n",
       "      <td>1548</td>\n",
       "      <td>US</td>\n",
       "      <td>PIT</td>\n",
       "      <td>MCO</td>\n",
       "      <td>834</td>\n",
       "      <td>0.0</td>\n",
       "      <td>train</td>\n",
       "    </tr>\n",
       "    <tr>\n",
       "      <th>2</th>\n",
       "      <td>9</td>\n",
       "      <td>2</td>\n",
       "      <td>5</td>\n",
       "      <td>1422</td>\n",
       "      <td>XE</td>\n",
       "      <td>RDU</td>\n",
       "      <td>CLE</td>\n",
       "      <td>416</td>\n",
       "      <td>0.0</td>\n",
       "      <td>train</td>\n",
       "    </tr>\n",
       "    <tr>\n",
       "      <th>3</th>\n",
       "      <td>11</td>\n",
       "      <td>25</td>\n",
       "      <td>6</td>\n",
       "      <td>1015</td>\n",
       "      <td>OO</td>\n",
       "      <td>DEN</td>\n",
       "      <td>MEM</td>\n",
       "      <td>872</td>\n",
       "      <td>0.0</td>\n",
       "      <td>train</td>\n",
       "    </tr>\n",
       "    <tr>\n",
       "      <th>4</th>\n",
       "      <td>10</td>\n",
       "      <td>7</td>\n",
       "      <td>6</td>\n",
       "      <td>1828</td>\n",
       "      <td>WN</td>\n",
       "      <td>MDW</td>\n",
       "      <td>OMA</td>\n",
       "      <td>423</td>\n",
       "      <td>1.0</td>\n",
       "      <td>train</td>\n",
       "    </tr>\n",
       "  </tbody>\n",
       "</table>\n",
       "</div>"
      ],
      "text/plain": [
       "   Month  DayofMonth  DayOfWeek  DepTime UniqueCarrier Origin Dest  Distance  \\\n",
       "0      8          21          7     1934            AA    ATL  DFW       732   \n",
       "1      4          20          3     1548            US    PIT  MCO       834   \n",
       "2      9           2          5     1422            XE    RDU  CLE       416   \n",
       "3     11          25          6     1015            OO    DEN  MEM       872   \n",
       "4     10           7          6     1828            WN    MDW  OMA       423   \n",
       "\n",
       "   dep_delayed_15min partition  \n",
       "0                0.0     train  \n",
       "1                0.0     train  \n",
       "2                0.0     train  \n",
       "3                0.0     train  \n",
       "4                1.0     train  "
      ]
     },
     "execution_count": 67,
     "metadata": {},
     "output_type": "execute_result"
    }
   ],
   "source": [
    "data = data_initial.copy()\n",
    "data = time_transform(data)\n",
    "data.head()"
   ]
  },
  {
   "cell_type": "code",
   "execution_count": 68,
   "id": "d2c72d80",
   "metadata": {},
   "outputs": [],
   "source": [
    "from sklearn.preprocessing import LabelEncoder, StandardScaler\n",
    "\n",
    "def transform_categ(df: pd.DataFrame) -> pd.DataFrame:\n",
    "    \n",
    "    df['UC_Origin']=df['UniqueCarrier']+df['Origin']\n",
    "    df['UC_Dest']=df['UniqueCarrier']+df['Dest']\n",
    "    df['Origin_DepTime']=df['Origin']+df['DepTime'].astype('str')\n",
    "    df['UC_DepTime']=df['Origin']+df['DepTime'].astype('str')\n",
    "    \n",
    "    lbl=LabelEncoder()\n",
    "    \n",
    "    for col in ['UniqueCarrier','Origin','Dest','UC_Origin','UC_Dest', 'Origin_DepTime', 'UC_DepTime']:\n",
    "        \n",
    "        df[col] = lbl.fit_transform(df[col])\n",
    "\n",
    "        #target_encoding\n",
    "#         df_categ = df[['UniqueCarrier', 'Origin','Dest','UC_Origin','UC_Dest','dep_delayed_15min']]\n",
    "#         av_mean = df_categ.groupby(col).agg({'dep_delayed_15min':'mean'})\n",
    "#         av_mean=av_mean.fillna(np.random())\n",
    "#         av_mean_dict = dict(av_mean['dep_delayed_15min'], index=av_mean.index)\n",
    "#         df[col] = df[col].map(av_mean_dict).astype('float64')\n",
    "#    df['UC_Distance'] = df['Distance']*df['UniqueCarrier']\n",
    "        \n",
    "    \n",
    "    return df"
   ]
  },
  {
   "cell_type": "code",
   "execution_count": 69,
   "id": "063b5e7d",
   "metadata": {},
   "outputs": [],
   "source": [
    "#не использую больше\n",
    "def create_features(df):\n",
    "    \n",
    "    cols= list(df.columns)\n",
    "    cols.remove('dep_delayed_15min')\n",
    "    \n",
    "    for col_one in cols:\n",
    "        for col_two in cols:\n",
    "            \n",
    "            if col_one != col_two:\n",
    "                new_col=col_one+'_'+col_two\n",
    "                df[new_col]=df[col_one]*df[col_two]\n",
    "    return df\n",
    "            "
   ]
  },
  {
   "cell_type": "code",
   "execution_count": 70,
   "id": "5180cbe7",
   "metadata": {},
   "outputs": [],
   "source": [
    "data_processed=transform_categ(data)"
   ]
  },
  {
   "cell_type": "code",
   "execution_count": 71,
   "id": "bdb05722",
   "metadata": {},
   "outputs": [
    {
     "name": "stdout",
     "output_type": "stream",
     "text": [
      "(200000, 14)\n"
     ]
    },
    {
     "data": {
      "text/html": [
       "<div>\n",
       "<style scoped>\n",
       "    .dataframe tbody tr th:only-of-type {\n",
       "        vertical-align: middle;\n",
       "    }\n",
       "\n",
       "    .dataframe tbody tr th {\n",
       "        vertical-align: top;\n",
       "    }\n",
       "\n",
       "    .dataframe thead th {\n",
       "        text-align: right;\n",
       "    }\n",
       "</style>\n",
       "<table border=\"1\" class=\"dataframe\">\n",
       "  <thead>\n",
       "    <tr style=\"text-align: right;\">\n",
       "      <th></th>\n",
       "      <th>Month</th>\n",
       "      <th>DayofMonth</th>\n",
       "      <th>DayOfWeek</th>\n",
       "      <th>DepTime</th>\n",
       "      <th>UniqueCarrier</th>\n",
       "      <th>Origin</th>\n",
       "      <th>Dest</th>\n",
       "      <th>Distance</th>\n",
       "      <th>dep_delayed_15min</th>\n",
       "      <th>partition</th>\n",
       "      <th>UC_Origin</th>\n",
       "      <th>UC_Dest</th>\n",
       "      <th>Origin_DepTime</th>\n",
       "      <th>UC_DepTime</th>\n",
       "    </tr>\n",
       "  </thead>\n",
       "  <tbody>\n",
       "    <tr>\n",
       "      <th>0</th>\n",
       "      <td>8</td>\n",
       "      <td>21</td>\n",
       "      <td>7</td>\n",
       "      <td>1934</td>\n",
       "      <td>1</td>\n",
       "      <td>19</td>\n",
       "      <td>82</td>\n",
       "      <td>732</td>\n",
       "      <td>0.0</td>\n",
       "      <td>train</td>\n",
       "      <td>119</td>\n",
       "      <td>136</td>\n",
       "      <td>2699</td>\n",
       "      <td>2699</td>\n",
       "    </tr>\n",
       "    <tr>\n",
       "      <th>1</th>\n",
       "      <td>4</td>\n",
       "      <td>20</td>\n",
       "      <td>3</td>\n",
       "      <td>1548</td>\n",
       "      <td>19</td>\n",
       "      <td>226</td>\n",
       "      <td>180</td>\n",
       "      <td>834</td>\n",
       "      <td>0.0</td>\n",
       "      <td>train</td>\n",
       "      <td>1586</td>\n",
       "      <td>1577</td>\n",
       "      <td>56964</td>\n",
       "      <td>56964</td>\n",
       "    </tr>\n",
       "    <tr>\n",
       "      <th>2</th>\n",
       "      <td>9</td>\n",
       "      <td>2</td>\n",
       "      <td>5</td>\n",
       "      <td>1422</td>\n",
       "      <td>21</td>\n",
       "      <td>239</td>\n",
       "      <td>62</td>\n",
       "      <td>416</td>\n",
       "      <td>0.0</td>\n",
       "      <td>train</td>\n",
       "      <td>1786</td>\n",
       "      <td>1712</td>\n",
       "      <td>59151</td>\n",
       "      <td>59151</td>\n",
       "    </tr>\n",
       "    <tr>\n",
       "      <th>3</th>\n",
       "      <td>11</td>\n",
       "      <td>25</td>\n",
       "      <td>6</td>\n",
       "      <td>1015</td>\n",
       "      <td>16</td>\n",
       "      <td>81</td>\n",
       "      <td>184</td>\n",
       "      <td>872</td>\n",
       "      <td>0.0</td>\n",
       "      <td>train</td>\n",
       "      <td>1300</td>\n",
       "      <td>1349</td>\n",
       "      <td>17796</td>\n",
       "      <td>17796</td>\n",
       "    </tr>\n",
       "    <tr>\n",
       "      <th>4</th>\n",
       "      <td>10</td>\n",
       "      <td>7</td>\n",
       "      <td>6</td>\n",
       "      <td>1828</td>\n",
       "      <td>20</td>\n",
       "      <td>182</td>\n",
       "      <td>210</td>\n",
       "      <td>423</td>\n",
       "      <td>1.0</td>\n",
       "      <td>train</td>\n",
       "      <td>1646</td>\n",
       "      <td>1661</td>\n",
       "      <td>42774</td>\n",
       "      <td>42774</td>\n",
       "    </tr>\n",
       "  </tbody>\n",
       "</table>\n",
       "</div>"
      ],
      "text/plain": [
       "   Month  DayofMonth  DayOfWeek  DepTime  UniqueCarrier  Origin  Dest  \\\n",
       "0      8          21          7     1934              1      19    82   \n",
       "1      4          20          3     1548             19     226   180   \n",
       "2      9           2          5     1422             21     239    62   \n",
       "3     11          25          6     1015             16      81   184   \n",
       "4     10           7          6     1828             20     182   210   \n",
       "\n",
       "   Distance  dep_delayed_15min partition  UC_Origin  UC_Dest  Origin_DepTime  \\\n",
       "0       732                0.0     train        119      136            2699   \n",
       "1       834                0.0     train       1586     1577           56964   \n",
       "2       416                0.0     train       1786     1712           59151   \n",
       "3       872                0.0     train       1300     1349           17796   \n",
       "4       423                1.0     train       1646     1661           42774   \n",
       "\n",
       "   UC_DepTime  \n",
       "0        2699  \n",
       "1       56964  \n",
       "2       59151  \n",
       "3       17796  \n",
       "4       42774  "
      ]
     },
     "execution_count": 71,
     "metadata": {},
     "output_type": "execute_result"
    }
   ],
   "source": [
    "print(data_processed.shape)\n",
    "data_processed.head()"
   ]
  },
  {
   "cell_type": "code",
   "execution_count": 72,
   "id": "862d3150",
   "metadata": {},
   "outputs": [],
   "source": [
    "from xgboost import XGBClassifier, plot_importance\n",
    "from sklearn.metrics import roc_auc_score\n",
    "from sklearn.model_selection import train_test_split\n",
    "from sklearn.model_selection import cross_val_score, GridSearchCV"
   ]
  },
  {
   "cell_type": "code",
   "execution_count": 73,
   "id": "660be13f",
   "metadata": {},
   "outputs": [
    {
     "data": {
      "text/plain": [
       "((100000, 14), (100000, 14))"
      ]
     },
     "execution_count": 73,
     "metadata": {},
     "output_type": "execute_result"
    }
   ],
   "source": [
    "train_data = data_processed[data_processed['partition']=='train']\n",
    "train_data_y = train_data['dep_delayed_15min']\n",
    "train_data_x = train_data.drop(columns=['dep_delayed_15min', 'partition'])\n",
    "\n",
    "test_data = data_processed[data_processed['partition']=='test']\n",
    "test_data_x = test_data.drop(columns=['dep_delayed_15min', 'partition'])\n",
    "\n",
    "train_data.shape, test_data.shape"
   ]
  },
  {
   "cell_type": "code",
   "execution_count": 74,
   "id": "0c20eb2e",
   "metadata": {},
   "outputs": [],
   "source": [
    "X_train, X_hold, y_train, y_hold = train_test_split(\n",
    "    train_data_x,\n",
    "    train_data_y,\n",
    "    test_size=0.4,\n",
    "    \n",
    "    stratify=train_data_y,\n",
    "    random_state=20\n",
    ")"
   ]
  },
  {
   "cell_type": "code",
   "execution_count": 75,
   "id": "fa3aa780",
   "metadata": {},
   "outputs": [
    {
     "data": {
      "text/html": [
       "<div>\n",
       "<style scoped>\n",
       "    .dataframe tbody tr th:only-of-type {\n",
       "        vertical-align: middle;\n",
       "    }\n",
       "\n",
       "    .dataframe tbody tr th {\n",
       "        vertical-align: top;\n",
       "    }\n",
       "\n",
       "    .dataframe thead th {\n",
       "        text-align: right;\n",
       "    }\n",
       "</style>\n",
       "<table border=\"1\" class=\"dataframe\">\n",
       "  <thead>\n",
       "    <tr style=\"text-align: right;\">\n",
       "      <th></th>\n",
       "      <th>Month</th>\n",
       "      <th>DayofMonth</th>\n",
       "      <th>DayOfWeek</th>\n",
       "      <th>DepTime</th>\n",
       "      <th>UniqueCarrier</th>\n",
       "      <th>Origin</th>\n",
       "      <th>Dest</th>\n",
       "      <th>Distance</th>\n",
       "      <th>UC_Origin</th>\n",
       "      <th>UC_Dest</th>\n",
       "      <th>Origin_DepTime</th>\n",
       "      <th>UC_DepTime</th>\n",
       "    </tr>\n",
       "  </thead>\n",
       "  <tbody>\n",
       "    <tr>\n",
       "      <th>0</th>\n",
       "      <td>8</td>\n",
       "      <td>21</td>\n",
       "      <td>7</td>\n",
       "      <td>1934</td>\n",
       "      <td>1</td>\n",
       "      <td>19</td>\n",
       "      <td>82</td>\n",
       "      <td>732</td>\n",
       "      <td>119</td>\n",
       "      <td>136</td>\n",
       "      <td>2699</td>\n",
       "      <td>2699</td>\n",
       "    </tr>\n",
       "    <tr>\n",
       "      <th>1</th>\n",
       "      <td>4</td>\n",
       "      <td>20</td>\n",
       "      <td>3</td>\n",
       "      <td>1548</td>\n",
       "      <td>19</td>\n",
       "      <td>226</td>\n",
       "      <td>180</td>\n",
       "      <td>834</td>\n",
       "      <td>1586</td>\n",
       "      <td>1577</td>\n",
       "      <td>56964</td>\n",
       "      <td>56964</td>\n",
       "    </tr>\n",
       "    <tr>\n",
       "      <th>2</th>\n",
       "      <td>9</td>\n",
       "      <td>2</td>\n",
       "      <td>5</td>\n",
       "      <td>1422</td>\n",
       "      <td>21</td>\n",
       "      <td>239</td>\n",
       "      <td>62</td>\n",
       "      <td>416</td>\n",
       "      <td>1786</td>\n",
       "      <td>1712</td>\n",
       "      <td>59151</td>\n",
       "      <td>59151</td>\n",
       "    </tr>\n",
       "    <tr>\n",
       "      <th>3</th>\n",
       "      <td>11</td>\n",
       "      <td>25</td>\n",
       "      <td>6</td>\n",
       "      <td>1015</td>\n",
       "      <td>16</td>\n",
       "      <td>81</td>\n",
       "      <td>184</td>\n",
       "      <td>872</td>\n",
       "      <td>1300</td>\n",
       "      <td>1349</td>\n",
       "      <td>17796</td>\n",
       "      <td>17796</td>\n",
       "    </tr>\n",
       "    <tr>\n",
       "      <th>4</th>\n",
       "      <td>10</td>\n",
       "      <td>7</td>\n",
       "      <td>6</td>\n",
       "      <td>1828</td>\n",
       "      <td>20</td>\n",
       "      <td>182</td>\n",
       "      <td>210</td>\n",
       "      <td>423</td>\n",
       "      <td>1646</td>\n",
       "      <td>1661</td>\n",
       "      <td>42774</td>\n",
       "      <td>42774</td>\n",
       "    </tr>\n",
       "  </tbody>\n",
       "</table>\n",
       "</div>"
      ],
      "text/plain": [
       "   Month  DayofMonth  DayOfWeek  DepTime  UniqueCarrier  Origin  Dest  \\\n",
       "0      8          21          7     1934              1      19    82   \n",
       "1      4          20          3     1548             19     226   180   \n",
       "2      9           2          5     1422             21     239    62   \n",
       "3     11          25          6     1015             16      81   184   \n",
       "4     10           7          6     1828             20     182   210   \n",
       "\n",
       "   Distance  UC_Origin  UC_Dest  Origin_DepTime  UC_DepTime  \n",
       "0       732        119      136            2699        2699  \n",
       "1       834       1586     1577           56964       56964  \n",
       "2       416       1786     1712           59151       59151  \n",
       "3       872       1300     1349           17796       17796  \n",
       "4       423       1646     1661           42774       42774  "
      ]
     },
     "execution_count": 75,
     "metadata": {},
     "output_type": "execute_result"
    }
   ],
   "source": [
    "train_data_x.head()"
   ]
  },
  {
   "cell_type": "code",
   "execution_count": 76,
   "id": "f9efda30",
   "metadata": {},
   "outputs": [
    {
     "data": {
      "text/plain": [
       "GridSearchCV(cv=3,\n",
       "             estimator=XGBClassifier(base_score=None, booster=None,\n",
       "                                     callbacks=None, colsample_bylevel=None,\n",
       "                                     colsample_bynode=None,\n",
       "                                     colsample_bytree=None,\n",
       "                                     early_stopping_rounds=None,\n",
       "                                     enable_categorical=False, eval_metric=None,\n",
       "                                     feature_types=None, gamma=None,\n",
       "                                     gpu_id=None, grow_policy=None,\n",
       "                                     importance_type=None,\n",
       "                                     interaction_constraints=None,\n",
       "                                     learning_rate=None,...\n",
       "                                     max_delta_step=None, max_depth=None,\n",
       "                                     max_leaves=None, min_child_weight=None,\n",
       "                                     missing=nan, monotone_constraints=None,\n",
       "                                     n_estimators=100, n_jobs=None, nthread=1,\n",
       "                                     num_parallel_tree=None, predictor=None, ...),\n",
       "             n_jobs=-1,\n",
       "             param_grid={'gamma': [3, 6, 10],\n",
       "                         'learning_rate': [0.05, 0.1, 0.2, 0.3],\n",
       "                         'max_depth': [2, 4, 6, 8, 10],\n",
       "                         'min_child_weight': [1, 2, 4, 6],\n",
       "                         'n_estimators': [30, 60, 90, 120]},\n",
       "             scoring='roc_auc')"
      ]
     },
     "execution_count": 76,
     "metadata": {},
     "output_type": "execute_result"
    }
   ],
   "source": [
    "params = {'n_estimators': [30,60,90,120],\n",
    "          'max_depth': [2,4,6,8,10],\n",
    "          'learning_rate':[0.05,0.1,0.2,0.3],\n",
    "          'gamma': [3,6,10],\n",
    "          'min_child_weight': [1,2,4,6]\n",
    "    \n",
    "          \n",
    "          }\n",
    "\n",
    "#наилучшие параметры после поиска по сетке выше\n",
    "# params = {'gamma': [6],\n",
    "#           'learning_rate': [0.1],\n",
    "#           'max_depth': [10],\n",
    "#           'min_child_weight': [4],\n",
    "#           'n_estimators': [120]}\n",
    "\n",
    "grid_search = GridSearchCV(estimator=XGBClassifier(random_state = 20, nthread=1), param_grid=params, cv=3, scoring='roc_auc', n_jobs=-1)\n",
    "\n",
    "grid_search.fit(X_train, y_train)"
   ]
  },
  {
   "cell_type": "code",
   "execution_count": 77,
   "id": "55f37109",
   "metadata": {},
   "outputs": [
    {
     "data": {
      "text/plain": [
       "({'gamma': 6,\n",
       "  'learning_rate': 0.1,\n",
       "  'max_depth': 10,\n",
       "  'min_child_weight': 2,\n",
       "  'n_estimators': 120},\n",
       " 0.734989467493338)"
      ]
     },
     "execution_count": 77,
     "metadata": {},
     "output_type": "execute_result"
    }
   ],
   "source": [
    "grid_search.best_params_, grid_search.best_score_"
   ]
  },
  {
   "cell_type": "code",
   "execution_count": 78,
   "id": "7c47f449",
   "metadata": {},
   "outputs": [],
   "source": [
    "best_model_first = grid_search.best_estimator_"
   ]
  },
  {
   "cell_type": "code",
   "execution_count": 79,
   "id": "6457ede8",
   "metadata": {},
   "outputs": [
    {
     "data": {
      "text/plain": [
       "<AxesSubplot:title={'center':'Feature importance'}, xlabel='F score', ylabel='Features'>"
      ]
     },
     "execution_count": 79,
     "metadata": {},
     "output_type": "execute_result"
    },
    {
     "data": {
      "image/png": "[encoded data removed]",
      "text/plain": [
       "<Figure size 640x480 with 1 Axes>"
      ]
     },
     "metadata": {},
     "output_type": "display_data"
    }
   ],
   "source": [
    "plot_importance(best_model_first)"
   ]
  },
  {
   "cell_type": "code",
   "execution_count": 80,
   "id": "26adfc37",
   "metadata": {},
   "outputs": [
    {
     "data": {
      "text/plain": [
       "0.8466319785098598"
      ]
     },
     "execution_count": 80,
     "metadata": {},
     "output_type": "execute_result"
    }
   ],
   "source": [
    "y_pred = best_model_first.predict_proba(X_train)[:, 1]\n",
    "roc_auc_score(y_train, y_pred)"
   ]
  },
  {
   "cell_type": "code",
   "execution_count": 81,
   "id": "c76f3a97",
   "metadata": {},
   "outputs": [
    {
     "data": {
      "text/plain": [
       "0.7394534724367662"
      ]
     },
     "execution_count": 81,
     "metadata": {},
     "output_type": "execute_result"
    }
   ],
   "source": [
    "y_pred = best_model_first.predict_proba(X_hold)[:, 1]\n",
    "roc_auc_score(y_hold, y_pred)"
   ]
  },
  {
   "cell_type": "code",
   "execution_count": 116,
   "id": "8e9f7225",
   "metadata": {},
   "outputs": [],
   "source": [
    "fitted_model = best_model_first.fit(train_data_x, train_data_y)"
   ]
  },
  {
   "cell_type": "code",
   "execution_count": 117,
   "id": "77d26dc1",
   "metadata": {},
   "outputs": [],
   "source": [
    "y_pred_proba = fitted_model.predict_proba(train_data_x)[:, 1]"
   ]
  },
  {
   "cell_type": "code",
   "execution_count": 128,
   "id": "24372f4e",
   "metadata": {},
   "outputs": [],
   "source": [
    "y_pred_xgb = fitted_model.predict_proba(train_data_x)[:, 1]"
   ]
  },
  {
   "cell_type": "code",
   "execution_count": 85,
   "id": "e2fc49a6",
   "metadata": {},
   "outputs": [],
   "source": [
    "train_data_pred = train_data.copy()"
   ]
  },
  {
   "cell_type": "code",
   "execution_count": 86,
   "id": "f424e10a",
   "metadata": {},
   "outputs": [],
   "source": [
    "# train_data_pred['predict_proba'] = y_pred_proba\n",
    "# train_data_pred['predict'] = y_pred\n",
    "# train_data_pred['error']=np.where(train_data_pred['predict']!=train_data_pred['dep_delayed_15min'],'Y','N')\n",
    "#losses=train_data_pred[train_data_pred['predict']!=train_data_pred['dep_delayed_15min']]"
   ]
  },
  {
   "cell_type": "code",
   "execution_count": 87,
   "id": "8727dc81",
   "metadata": {},
   "outputs": [],
   "source": [
    "# train_data_pred.to_csv('xgb_results.csv')"
   ]
  },
  {
   "cell_type": "code",
   "execution_count": 88,
   "id": "5b59ffb0",
   "metadata": {},
   "outputs": [],
   "source": [
    "# y_pred = fitted_model.predict_proba(test_data_x)[:, 1]\n",
    "# result = pd.DataFrame(data={'dep_delayed_15min': y_pred})\n",
    "# result.to_csv('predict17.csv', header=True, index_label='id')"
   ]
  },
  {
   "cell_type": "markdown",
   "id": "981d5d6c",
   "metadata": {},
   "source": [
    "# Logreg"
   ]
  },
  {
   "cell_type": "code",
   "execution_count": 89,
   "id": "c1c42cc0",
   "metadata": {},
   "outputs": [],
   "source": [
    "train_data_initial = pd.read_csv('flight_delays_train.csv')\n",
    "test_data_initial = pd.read_csv('flight_delays_test.csv')\n",
    "test_data_initial['dep_delayed_15min'] = np.NaN\n",
    "\n",
    "train_data_initial['partition'] = 'train'\n",
    "test_data_initial['partition'] = 'test'\n",
    "\n",
    "\n",
    "data_initial = pd.concat([train_data_initial, test_data_initial])"
   ]
  },
  {
   "cell_type": "code",
   "execution_count": 90,
   "id": "0c503200",
   "metadata": {},
   "outputs": [
    {
     "data": {
      "text/html": [
       "<div>\n",
       "<style scoped>\n",
       "    .dataframe tbody tr th:only-of-type {\n",
       "        vertical-align: middle;\n",
       "    }\n",
       "\n",
       "    .dataframe tbody tr th {\n",
       "        vertical-align: top;\n",
       "    }\n",
       "\n",
       "    .dataframe thead th {\n",
       "        text-align: right;\n",
       "    }\n",
       "</style>\n",
       "<table border=\"1\" class=\"dataframe\">\n",
       "  <thead>\n",
       "    <tr style=\"text-align: right;\">\n",
       "      <th></th>\n",
       "      <th>Month</th>\n",
       "      <th>DayofMonth</th>\n",
       "      <th>DayOfWeek</th>\n",
       "      <th>DepTime</th>\n",
       "      <th>UniqueCarrier</th>\n",
       "      <th>Origin</th>\n",
       "      <th>Dest</th>\n",
       "      <th>Distance</th>\n",
       "      <th>dep_delayed_15min</th>\n",
       "      <th>partition</th>\n",
       "    </tr>\n",
       "  </thead>\n",
       "  <tbody>\n",
       "    <tr>\n",
       "      <th>0</th>\n",
       "      <td>8</td>\n",
       "      <td>21</td>\n",
       "      <td>7</td>\n",
       "      <td>1934</td>\n",
       "      <td>AA</td>\n",
       "      <td>ATL</td>\n",
       "      <td>DFW</td>\n",
       "      <td>732</td>\n",
       "      <td>0.0</td>\n",
       "      <td>train</td>\n",
       "    </tr>\n",
       "    <tr>\n",
       "      <th>1</th>\n",
       "      <td>4</td>\n",
       "      <td>20</td>\n",
       "      <td>3</td>\n",
       "      <td>1548</td>\n",
       "      <td>US</td>\n",
       "      <td>PIT</td>\n",
       "      <td>MCO</td>\n",
       "      <td>834</td>\n",
       "      <td>0.0</td>\n",
       "      <td>train</td>\n",
       "    </tr>\n",
       "    <tr>\n",
       "      <th>2</th>\n",
       "      <td>9</td>\n",
       "      <td>2</td>\n",
       "      <td>5</td>\n",
       "      <td>1422</td>\n",
       "      <td>XE</td>\n",
       "      <td>RDU</td>\n",
       "      <td>CLE</td>\n",
       "      <td>416</td>\n",
       "      <td>0.0</td>\n",
       "      <td>train</td>\n",
       "    </tr>\n",
       "    <tr>\n",
       "      <th>3</th>\n",
       "      <td>11</td>\n",
       "      <td>25</td>\n",
       "      <td>6</td>\n",
       "      <td>1015</td>\n",
       "      <td>OO</td>\n",
       "      <td>DEN</td>\n",
       "      <td>MEM</td>\n",
       "      <td>872</td>\n",
       "      <td>0.0</td>\n",
       "      <td>train</td>\n",
       "    </tr>\n",
       "    <tr>\n",
       "      <th>4</th>\n",
       "      <td>10</td>\n",
       "      <td>7</td>\n",
       "      <td>6</td>\n",
       "      <td>1828</td>\n",
       "      <td>WN</td>\n",
       "      <td>MDW</td>\n",
       "      <td>OMA</td>\n",
       "      <td>423</td>\n",
       "      <td>1.0</td>\n",
       "      <td>train</td>\n",
       "    </tr>\n",
       "  </tbody>\n",
       "</table>\n",
       "</div>"
      ],
      "text/plain": [
       "   Month  DayofMonth  DayOfWeek  DepTime UniqueCarrier Origin Dest  Distance  \\\n",
       "0      8          21          7     1934            AA    ATL  DFW       732   \n",
       "1      4          20          3     1548            US    PIT  MCO       834   \n",
       "2      9           2          5     1422            XE    RDU  CLE       416   \n",
       "3     11          25          6     1015            OO    DEN  MEM       872   \n",
       "4     10           7          6     1828            WN    MDW  OMA       423   \n",
       "\n",
       "   dep_delayed_15min partition  \n",
       "0                0.0     train  \n",
       "1                0.0     train  \n",
       "2                0.0     train  \n",
       "3                0.0     train  \n",
       "4                1.0     train  "
      ]
     },
     "execution_count": 90,
     "metadata": {},
     "output_type": "execute_result"
    }
   ],
   "source": [
    "data_lr = time_transform(data_initial)\n",
    "data_lr['dep_delayed_15min'] = data_lr['dep_delayed_15min'].map({'N': 0, 'Y': 1})\n",
    "data_lr.head()"
   ]
  },
  {
   "cell_type": "code",
   "execution_count": 91,
   "id": "ae85eb37",
   "metadata": {},
   "outputs": [],
   "source": [
    "from sklearn.preprocessing import OneHotEncoder"
   ]
  },
  {
   "cell_type": "code",
   "execution_count": 92,
   "id": "0e95b205",
   "metadata": {},
   "outputs": [],
   "source": [
    "def transform_categ_lr(df: pd.DataFrame) -> pd.DataFrame:\n",
    "    \n",
    "    categ_cols = ['UniqueCarrier', 'Origin','Dest']\n",
    "    \n",
    "    OHE = OneHotEncoder(sparse=False)\n",
    "       \n",
    "    array_transformed = OHE.fit_transform(df[categ_cols])\n",
    "    array_columns = OHE.get_feature_names_out(categ_cols)\n",
    "    df_transformed = pd.DataFrame(data=array_transformed,columns=array_columns)\n",
    "    \n",
    "    df = df.drop(columns=categ_cols)\n",
    "    \n",
    "    df = df.reset_index()\n",
    "    df_transformed = df_transformed.reset_index()\n",
    "    df = df.drop(columns=['index'])\n",
    "    df_transformed = df_transformed.drop(columns=['index'])\n",
    "    \n",
    "    \n",
    "    df = pd.concat([df, df_transformed], axis=1)\n",
    "    \n",
    "    return df\n",
    "    \n",
    "    "
   ]
  },
  {
   "cell_type": "code",
   "execution_count": 93,
   "id": "383e508a",
   "metadata": {},
   "outputs": [],
   "source": [
    "data_lr_processed = transform_categ_lr(data_lr)"
   ]
  },
  {
   "cell_type": "code",
   "execution_count": 94,
   "id": "18602d37",
   "metadata": {},
   "outputs": [
    {
     "data": {
      "text/html": [
       "<div>\n",
       "<style scoped>\n",
       "    .dataframe tbody tr th:only-of-type {\n",
       "        vertical-align: middle;\n",
       "    }\n",
       "\n",
       "    .dataframe tbody tr th {\n",
       "        vertical-align: top;\n",
       "    }\n",
       "\n",
       "    .dataframe thead th {\n",
       "        text-align: right;\n",
       "    }\n",
       "</style>\n",
       "<table border=\"1\" class=\"dataframe\">\n",
       "  <thead>\n",
       "    <tr style=\"text-align: right;\">\n",
       "      <th></th>\n",
       "      <th>Month</th>\n",
       "      <th>DayofMonth</th>\n",
       "      <th>DayOfWeek</th>\n",
       "      <th>DepTime</th>\n",
       "      <th>Distance</th>\n",
       "      <th>dep_delayed_15min</th>\n",
       "      <th>partition</th>\n",
       "      <th>UniqueCarrier_9E</th>\n",
       "      <th>UniqueCarrier_AA</th>\n",
       "      <th>UniqueCarrier_AQ</th>\n",
       "      <th>...</th>\n",
       "      <th>Dest_VCT</th>\n",
       "      <th>Dest_VIS</th>\n",
       "      <th>Dest_VLD</th>\n",
       "      <th>Dest_VPS</th>\n",
       "      <th>Dest_WRG</th>\n",
       "      <th>Dest_WYS</th>\n",
       "      <th>Dest_XNA</th>\n",
       "      <th>Dest_YAK</th>\n",
       "      <th>Dest_YKM</th>\n",
       "      <th>Dest_YUM</th>\n",
       "    </tr>\n",
       "  </thead>\n",
       "  <tbody>\n",
       "    <tr>\n",
       "      <th>0</th>\n",
       "      <td>8</td>\n",
       "      <td>21</td>\n",
       "      <td>7</td>\n",
       "      <td>1934</td>\n",
       "      <td>732</td>\n",
       "      <td>0.0</td>\n",
       "      <td>train</td>\n",
       "      <td>0.0</td>\n",
       "      <td>1.0</td>\n",
       "      <td>0.0</td>\n",
       "      <td>...</td>\n",
       "      <td>0.0</td>\n",
       "      <td>0.0</td>\n",
       "      <td>0.0</td>\n",
       "      <td>0.0</td>\n",
       "      <td>0.0</td>\n",
       "      <td>0.0</td>\n",
       "      <td>0.0</td>\n",
       "      <td>0.0</td>\n",
       "      <td>0.0</td>\n",
       "      <td>0.0</td>\n",
       "    </tr>\n",
       "    <tr>\n",
       "      <th>1</th>\n",
       "      <td>4</td>\n",
       "      <td>20</td>\n",
       "      <td>3</td>\n",
       "      <td>1548</td>\n",
       "      <td>834</td>\n",
       "      <td>0.0</td>\n",
       "      <td>train</td>\n",
       "      <td>0.0</td>\n",
       "      <td>0.0</td>\n",
       "      <td>0.0</td>\n",
       "      <td>...</td>\n",
       "      <td>0.0</td>\n",
       "      <td>0.0</td>\n",
       "      <td>0.0</td>\n",
       "      <td>0.0</td>\n",
       "      <td>0.0</td>\n",
       "      <td>0.0</td>\n",
       "      <td>0.0</td>\n",
       "      <td>0.0</td>\n",
       "      <td>0.0</td>\n",
       "      <td>0.0</td>\n",
       "    </tr>\n",
       "    <tr>\n",
       "      <th>2</th>\n",
       "      <td>9</td>\n",
       "      <td>2</td>\n",
       "      <td>5</td>\n",
       "      <td>1422</td>\n",
       "      <td>416</td>\n",
       "      <td>0.0</td>\n",
       "      <td>train</td>\n",
       "      <td>0.0</td>\n",
       "      <td>0.0</td>\n",
       "      <td>0.0</td>\n",
       "      <td>...</td>\n",
       "      <td>0.0</td>\n",
       "      <td>0.0</td>\n",
       "      <td>0.0</td>\n",
       "      <td>0.0</td>\n",
       "      <td>0.0</td>\n",
       "      <td>0.0</td>\n",
       "      <td>0.0</td>\n",
       "      <td>0.0</td>\n",
       "      <td>0.0</td>\n",
       "      <td>0.0</td>\n",
       "    </tr>\n",
       "    <tr>\n",
       "      <th>3</th>\n",
       "      <td>11</td>\n",
       "      <td>25</td>\n",
       "      <td>6</td>\n",
       "      <td>1015</td>\n",
       "      <td>872</td>\n",
       "      <td>0.0</td>\n",
       "      <td>train</td>\n",
       "      <td>0.0</td>\n",
       "      <td>0.0</td>\n",
       "      <td>0.0</td>\n",
       "      <td>...</td>\n",
       "      <td>0.0</td>\n",
       "      <td>0.0</td>\n",
       "      <td>0.0</td>\n",
       "      <td>0.0</td>\n",
       "      <td>0.0</td>\n",
       "      <td>0.0</td>\n",
       "      <td>0.0</td>\n",
       "      <td>0.0</td>\n",
       "      <td>0.0</td>\n",
       "      <td>0.0</td>\n",
       "    </tr>\n",
       "    <tr>\n",
       "      <th>4</th>\n",
       "      <td>10</td>\n",
       "      <td>7</td>\n",
       "      <td>6</td>\n",
       "      <td>1828</td>\n",
       "      <td>423</td>\n",
       "      <td>1.0</td>\n",
       "      <td>train</td>\n",
       "      <td>0.0</td>\n",
       "      <td>0.0</td>\n",
       "      <td>0.0</td>\n",
       "      <td>...</td>\n",
       "      <td>0.0</td>\n",
       "      <td>0.0</td>\n",
       "      <td>0.0</td>\n",
       "      <td>0.0</td>\n",
       "      <td>0.0</td>\n",
       "      <td>0.0</td>\n",
       "      <td>0.0</td>\n",
       "      <td>0.0</td>\n",
       "      <td>0.0</td>\n",
       "      <td>0.0</td>\n",
       "    </tr>\n",
       "  </tbody>\n",
       "</table>\n",
       "<p>5 rows × 644 columns</p>\n",
       "</div>"
      ],
      "text/plain": [
       "   Month  DayofMonth  DayOfWeek  DepTime  Distance  dep_delayed_15min  \\\n",
       "0      8          21          7     1934       732                0.0   \n",
       "1      4          20          3     1548       834                0.0   \n",
       "2      9           2          5     1422       416                0.0   \n",
       "3     11          25          6     1015       872                0.0   \n",
       "4     10           7          6     1828       423                1.0   \n",
       "\n",
       "  partition  UniqueCarrier_9E  UniqueCarrier_AA  UniqueCarrier_AQ  ...  \\\n",
       "0     train               0.0               1.0               0.0  ...   \n",
       "1     train               0.0               0.0               0.0  ...   \n",
       "2     train               0.0               0.0               0.0  ...   \n",
       "3     train               0.0               0.0               0.0  ...   \n",
       "4     train               0.0               0.0               0.0  ...   \n",
       "\n",
       "   Dest_VCT  Dest_VIS  Dest_VLD  Dest_VPS  Dest_WRG  Dest_WYS  Dest_XNA  \\\n",
       "0       0.0       0.0       0.0       0.0       0.0       0.0       0.0   \n",
       "1       0.0       0.0       0.0       0.0       0.0       0.0       0.0   \n",
       "2       0.0       0.0       0.0       0.0       0.0       0.0       0.0   \n",
       "3       0.0       0.0       0.0       0.0       0.0       0.0       0.0   \n",
       "4       0.0       0.0       0.0       0.0       0.0       0.0       0.0   \n",
       "\n",
       "   Dest_YAK  Dest_YKM  Dest_YUM  \n",
       "0       0.0       0.0       0.0  \n",
       "1       0.0       0.0       0.0  \n",
       "2       0.0       0.0       0.0  \n",
       "3       0.0       0.0       0.0  \n",
       "4       0.0       0.0       0.0  \n",
       "\n",
       "[5 rows x 644 columns]"
      ]
     },
     "execution_count": 94,
     "metadata": {},
     "output_type": "execute_result"
    }
   ],
   "source": [
    "data_lr_processed.head()"
   ]
  },
  {
   "cell_type": "code",
   "execution_count": 95,
   "id": "90b3d2bf",
   "metadata": {},
   "outputs": [],
   "source": [
    "def scalling(df: pd.DataFrame) -> pd.DataFrame:\n",
    "    \n",
    "    num_cols = ['Month','DayofMonth','DayOfWeek','Distance','DepTime']\n",
    "    \n",
    "    df_num = df[num_cols]\n",
    "    \n",
    "    scaler = StandardScaler()\n",
    "   \n",
    "    array_transformed = scaler.fit_transform(df_num)\n",
    "    array_columns = scaler.get_feature_names_out(num_cols)\n",
    "    df_transformed = pd.DataFrame(data=array_transformed,columns=array_columns)\n",
    "    \n",
    "    df = df.drop(columns=num_cols)\n",
    "    \n",
    "    df = df.reset_index()\n",
    "    df_transformed = df_transformed.reset_index()\n",
    "    df = df.drop(columns=['index'])\n",
    "    df_transformed = df_transformed.drop(columns=['index'])\n",
    "    \n",
    "    \n",
    "    df = pd.concat([df, df_transformed], axis=1)\n",
    "    \n",
    "    return df\n",
    "    \n",
    "    \n",
    "    "
   ]
  },
  {
   "cell_type": "code",
   "execution_count": 96,
   "id": "7dbd1a5e",
   "metadata": {},
   "outputs": [],
   "source": [
    "data_lr_scaled = scalling(data_lr_processed)"
   ]
  },
  {
   "cell_type": "code",
   "execution_count": 97,
   "id": "672b7c32",
   "metadata": {},
   "outputs": [],
   "source": [
    "from sklearn.linear_model import LogisticRegression\n",
    "lg = LogisticRegression(max_iter=10000,C=1)"
   ]
  },
  {
   "cell_type": "code",
   "execution_count": 98,
   "id": "93f1243e",
   "metadata": {},
   "outputs": [],
   "source": [
    "train_data_x_scaled = data_lr_scaled[data_lr_scaled['partition']=='train']\n",
    "train_data_y = train_data_x_scaled['dep_delayed_15min']\n",
    "train_data_x_scaled = train_data_x_scaled.drop(columns=['dep_delayed_15min','partition'])\n",
    "\n",
    "test_data_x_scaled = data_lr_scaled[data_lr_scaled['partition']=='test']\n",
    "test_data_x_scaled = test_data_x_scaled.drop(columns=['dep_delayed_15min','partition'])\n"
   ]
  },
  {
   "cell_type": "code",
   "execution_count": 99,
   "id": "f1df9f41",
   "metadata": {},
   "outputs": [
    {
     "data": {
      "text/plain": [
       "((100000, 642), (100000,), (100000, 642))"
      ]
     },
     "execution_count": 99,
     "metadata": {},
     "output_type": "execute_result"
    }
   ],
   "source": [
    "train_data_x_scaled.shape, train_data_y.shape, test_data_x_scaled.shape"
   ]
  },
  {
   "cell_type": "code",
   "execution_count": 100,
   "id": "a786a478",
   "metadata": {},
   "outputs": [],
   "source": [
    "X_train, X_hold, y_train, y_hold = train_test_split(\n",
    "    train_data_x_scaled,\n",
    "    train_data_y,\n",
    "    test_size=0.4,\n",
    "    \n",
    "    stratify=train_data_y,\n",
    "    random_state=20\n",
    ")"
   ]
  },
  {
   "cell_type": "code",
   "execution_count": 101,
   "id": "a0836d95",
   "metadata": {},
   "outputs": [],
   "source": [
    "params_lr = {'C':[0.1,0.2,0.3,0.4,0.5]}\n",
    "grid_search_lr = GridSearchCV(estimator=LogisticRegression(random_state = 20, max_iter=10000), param_grid=params_lr, cv=3, scoring='roc_auc', n_jobs=-1)\n",
    "best_model_lr = grid_search_lr.fit(X_train, y_train)\n"
   ]
  },
  {
   "cell_type": "code",
   "execution_count": 102,
   "id": "b4d93292",
   "metadata": {},
   "outputs": [
    {
     "data": {
      "text/plain": [
       "({'C': 0.1}, 0.6961012974542182)"
      ]
     },
     "execution_count": 102,
     "metadata": {},
     "output_type": "execute_result"
    }
   ],
   "source": [
    "grid_search_lr.best_params_, grid_search_lr.best_score_"
   ]
  },
  {
   "cell_type": "code",
   "execution_count": 103,
   "id": "d51478d7",
   "metadata": {},
   "outputs": [],
   "source": [
    "best_model_lr = grid_search_lr.best_estimator_"
   ]
  },
  {
   "cell_type": "code",
   "execution_count": 104,
   "id": "3e325063",
   "metadata": {},
   "outputs": [
    {
     "data": {
      "text/plain": [
       "0.7070373356548147"
      ]
     },
     "execution_count": 104,
     "metadata": {},
     "output_type": "execute_result"
    }
   ],
   "source": [
    "y_pred = best_model_lr.predict_proba(X_train)[:, 1]\n",
    "roc_auc_score(y_train, y_pred)"
   ]
  },
  {
   "cell_type": "code",
   "execution_count": 105,
   "id": "63fae9f4",
   "metadata": {},
   "outputs": [
    {
     "data": {
      "text/plain": [
       "0.7018661928855685"
      ]
     },
     "execution_count": 105,
     "metadata": {},
     "output_type": "execute_result"
    }
   ],
   "source": [
    "y_pred = best_model_lr.predict_proba(X_hold)[:, 1]\n",
    "roc_auc_score(y_hold, y_pred)"
   ]
  },
  {
   "cell_type": "code",
   "execution_count": 106,
   "id": "c75b9322",
   "metadata": {},
   "outputs": [],
   "source": [
    "fitted_model_lr = best_model_lr.fit(train_data_x_scaled,train_data_y)"
   ]
  },
  {
   "cell_type": "code",
   "execution_count": 125,
   "id": "f216cceb",
   "metadata": {},
   "outputs": [],
   "source": [
    "y_pred_lr = fitted_model_lr.predict_proba(train_data_x_scaled)[:, 1]"
   ]
  },
  {
   "cell_type": "code",
   "execution_count": 132,
   "id": "0ba4b0ac",
   "metadata": {},
   "outputs": [],
   "source": [
    "comb_pred = y_pred_xgb * 0.5 + y_pred_lr * 0.5"
   ]
  },
  {
   "cell_type": "code",
   "execution_count": 133,
   "id": "b540b2bc",
   "metadata": {},
   "outputs": [
    {
     "data": {
      "text/plain": [
       "(0.5038879572318108, 0.5004592352795562, 0.5028140115817618)"
      ]
     },
     "execution_count": 133,
     "metadata": {},
     "output_type": "execute_result"
    }
   ],
   "source": [
    "roc_auc_score(train_data_y, y_pred_xgb), roc_auc_score(train_data_y, y_pred_lr), roc_auc_score(train_data_y, comb_pred)"
   ]
  },
  {
   "cell_type": "code",
   "execution_count": 138,
   "id": "5bf8cbf7",
   "metadata": {},
   "outputs": [],
   "source": [
    "y_pred_lr = fitted_model_lr.predict_proba(test_data_x_scaled)[:, 1]\n",
    "y_pred_xgb = fitted_model.predict_proba(test_data_x)[:, 1]\n",
    "comb_pred = y_pred_xgb * 0.9 + y_pred_lr * 0.1\n",
    "result = pd.DataFrame(data={'dep_delayed_15min': comb_pred})\n",
    "result.to_csv('predict23.csv', header=True, index_label='id')\n"
   ]
  },
  {
   "cell_type": "code",
   "execution_count": null,
   "id": "cd06663f",
   "metadata": {},
   "outputs": [],
   "source": [
    "# "
   ]
  }
 ],
 "metadata": {
  "kernelspec": {
   "display_name": "Python 3 (ipykernel)",
   "language": "python",
   "name": "python3"
  },
  "language_info": {
   "codemirror_mode": {
    "name": "ipython",
    "version": 3
   },
   "file_extension": ".py",
   "mimetype": "text/x-python",
   "name": "python",
   "nbconvert_exporter": "python",
   "pygments_lexer": "ipython3",
   "version": "3.9.13"
  }
 },
 "nbformat": 4,
 "nbformat_minor": 5
}
