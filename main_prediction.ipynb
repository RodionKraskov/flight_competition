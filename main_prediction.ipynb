{
 "cells": [
  {
   "cell_type": "code",
   "execution_count": 305,
   "id": "c6c3c79c",
   "metadata": {},
   "outputs": [],
   "source": [
    "import pandas as pd\n",
    "import numpy as np\n",
    "import matplotlib.pyplot as plt\n"
   ]
  },
  {
   "cell_type": "code",
   "execution_count": 306,
   "id": "db722b28",
   "metadata": {},
   "outputs": [],
   "source": [
    "train_data_initial = pd.read_csv('flight_delays_train.csv')\n",
    "test_data_initial = pd.read_csv('flight_delays_test.csv')\n",
    "test_data_initial['dep_delayed_15min'] = np.NaN\n",
    "\n",
    "train_data_initial['partition'] = 'train'\n",
    "test_data_initial['partition'] = 'test'\n",
    "\n",
    "\n",
    "data_initial = pd.concat([train_data_initial, test_data_initial])\n",
    "\n"
   ]
  },
  {
   "cell_type": "code",
   "execution_count": 307,
   "id": "686ec3f7",
   "metadata": {},
   "outputs": [],
   "source": [
    "# data_initial['flight'] = data_initial['Origin']+data_initial['Dest']\n",
    "# pv=data_initial.pivot_table(index=['flight'],columns='partition',values='Month',aggfunc='count')\n",
    "# pv=pv.fillna(0)\n",
    "# pv = pv.reset_index()\n",
    "# pv['exclude'] = np.where((pv['test']==0) & (pv['train']!=0),'yes', 'no')\n",
    "# data_initial = data_initial.merge(pv[['flight','exclude']],how='left',on='flight')\n",
    "# data_initial = data_initial[data_initial['exclude']=='no']\n",
    "# data_initial = data_initial.drop(columns=['flight','exclude'])"
   ]
  },
  {
   "cell_type": "code",
   "execution_count": 308,
   "id": "1fab6922",
   "metadata": {},
   "outputs": [],
   "source": [
    "#часы и обьеденить в категории\n",
    "#избавить от кривых часов\n",
    "#перевозчк+origin/dist"
   ]
  },
  {
   "cell_type": "code",
   "execution_count": null,
   "id": "c7561427",
   "metadata": {},
   "outputs": [],
   "source": []
  },
  {
   "cell_type": "code",
   "execution_count": 309,
   "id": "8cfe7ebc",
   "metadata": {},
   "outputs": [
    {
     "data": {
      "text/plain": [
       "N    80956\n",
       "Y    19044\n",
       "Name: dep_delayed_15min, dtype: int64"
      ]
     },
     "execution_count": 309,
     "metadata": {},
     "output_type": "execute_result"
    }
   ],
   "source": [
    "train_data_initial['dep_delayed_15min'].value_counts()"
   ]
  },
  {
   "cell_type": "code",
   "execution_count": 310,
   "id": "acc64b94",
   "metadata": {},
   "outputs": [
    {
     "name": "stdout",
     "output_type": "stream",
     "text": [
      "(198183, 10)\n"
     ]
    },
    {
     "data": {
      "text/html": [
       "<div>\n",
       "<style scoped>\n",
       "    .dataframe tbody tr th:only-of-type {\n",
       "        vertical-align: middle;\n",
       "    }\n",
       "\n",
       "    .dataframe tbody tr th {\n",
       "        vertical-align: top;\n",
       "    }\n",
       "\n",
       "    .dataframe thead th {\n",
       "        text-align: right;\n",
       "    }\n",
       "</style>\n",
       "<table border=\"1\" class=\"dataframe\">\n",
       "  <thead>\n",
       "    <tr style=\"text-align: right;\">\n",
       "      <th></th>\n",
       "      <th>Month</th>\n",
       "      <th>DayofMonth</th>\n",
       "      <th>DayOfWeek</th>\n",
       "      <th>DepTime</th>\n",
       "      <th>UniqueCarrier</th>\n",
       "      <th>Origin</th>\n",
       "      <th>Dest</th>\n",
       "      <th>Distance</th>\n",
       "      <th>dep_delayed_15min</th>\n",
       "      <th>partition</th>\n",
       "    </tr>\n",
       "  </thead>\n",
       "  <tbody>\n",
       "    <tr>\n",
       "      <th>0</th>\n",
       "      <td>c-8</td>\n",
       "      <td>c-21</td>\n",
       "      <td>c-7</td>\n",
       "      <td>1934</td>\n",
       "      <td>AA</td>\n",
       "      <td>ATL</td>\n",
       "      <td>DFW</td>\n",
       "      <td>732</td>\n",
       "      <td>N</td>\n",
       "      <td>train</td>\n",
       "    </tr>\n",
       "    <tr>\n",
       "      <th>1</th>\n",
       "      <td>c-4</td>\n",
       "      <td>c-20</td>\n",
       "      <td>c-3</td>\n",
       "      <td>1548</td>\n",
       "      <td>US</td>\n",
       "      <td>PIT</td>\n",
       "      <td>MCO</td>\n",
       "      <td>834</td>\n",
       "      <td>N</td>\n",
       "      <td>train</td>\n",
       "    </tr>\n",
       "    <tr>\n",
       "      <th>2</th>\n",
       "      <td>c-9</td>\n",
       "      <td>c-2</td>\n",
       "      <td>c-5</td>\n",
       "      <td>1422</td>\n",
       "      <td>XE</td>\n",
       "      <td>RDU</td>\n",
       "      <td>CLE</td>\n",
       "      <td>416</td>\n",
       "      <td>N</td>\n",
       "      <td>train</td>\n",
       "    </tr>\n",
       "    <tr>\n",
       "      <th>3</th>\n",
       "      <td>c-11</td>\n",
       "      <td>c-25</td>\n",
       "      <td>c-6</td>\n",
       "      <td>1015</td>\n",
       "      <td>OO</td>\n",
       "      <td>DEN</td>\n",
       "      <td>MEM</td>\n",
       "      <td>872</td>\n",
       "      <td>N</td>\n",
       "      <td>train</td>\n",
       "    </tr>\n",
       "    <tr>\n",
       "      <th>4</th>\n",
       "      <td>c-10</td>\n",
       "      <td>c-7</td>\n",
       "      <td>c-6</td>\n",
       "      <td>1828</td>\n",
       "      <td>WN</td>\n",
       "      <td>MDW</td>\n",
       "      <td>OMA</td>\n",
       "      <td>423</td>\n",
       "      <td>Y</td>\n",
       "      <td>train</td>\n",
       "    </tr>\n",
       "  </tbody>\n",
       "</table>\n",
       "</div>"
      ],
      "text/plain": [
       "  Month DayofMonth DayOfWeek  DepTime UniqueCarrier Origin Dest  Distance  \\\n",
       "0   c-8       c-21       c-7     1934            AA    ATL  DFW       732   \n",
       "1   c-4       c-20       c-3     1548            US    PIT  MCO       834   \n",
       "2   c-9        c-2       c-5     1422            XE    RDU  CLE       416   \n",
       "3  c-11       c-25       c-6     1015            OO    DEN  MEM       872   \n",
       "4  c-10        c-7       c-6     1828            WN    MDW  OMA       423   \n",
       "\n",
       "  dep_delayed_15min partition  \n",
       "0                 N     train  \n",
       "1                 N     train  \n",
       "2                 N     train  \n",
       "3                 N     train  \n",
       "4                 Y     train  "
      ]
     },
     "execution_count": 310,
     "metadata": {},
     "output_type": "execute_result"
    }
   ],
   "source": [
    "print(data_initial.shape)\n",
    "data_initial.head()"
   ]
  },
  {
   "cell_type": "code",
   "execution_count": 311,
   "id": "5c6b0e1d",
   "metadata": {},
   "outputs": [
    {
     "data": {
      "text/html": [
       "<div>\n",
       "<style scoped>\n",
       "    .dataframe tbody tr th:only-of-type {\n",
       "        vertical-align: middle;\n",
       "    }\n",
       "\n",
       "    .dataframe tbody tr th {\n",
       "        vertical-align: top;\n",
       "    }\n",
       "\n",
       "    .dataframe thead th {\n",
       "        text-align: right;\n",
       "    }\n",
       "</style>\n",
       "<table border=\"1\" class=\"dataframe\">\n",
       "  <thead>\n",
       "    <tr style=\"text-align: right;\">\n",
       "      <th></th>\n",
       "      <th>Month</th>\n",
       "      <th>DayofMonth</th>\n",
       "      <th>DayOfWeek</th>\n",
       "      <th>DepTime</th>\n",
       "      <th>UniqueCarrier</th>\n",
       "      <th>Origin</th>\n",
       "      <th>Dest</th>\n",
       "      <th>Distance</th>\n",
       "      <th>dep_delayed_15min</th>\n",
       "      <th>partition</th>\n",
       "    </tr>\n",
       "  </thead>\n",
       "  <tbody>\n",
       "    <tr>\n",
       "      <th>0</th>\n",
       "      <td>c-7</td>\n",
       "      <td>c-25</td>\n",
       "      <td>c-3</td>\n",
       "      <td>615</td>\n",
       "      <td>YV</td>\n",
       "      <td>MRY</td>\n",
       "      <td>PHX</td>\n",
       "      <td>598</td>\n",
       "      <td>NaN</td>\n",
       "      <td>test</td>\n",
       "    </tr>\n",
       "    <tr>\n",
       "      <th>1</th>\n",
       "      <td>c-4</td>\n",
       "      <td>c-17</td>\n",
       "      <td>c-2</td>\n",
       "      <td>739</td>\n",
       "      <td>WN</td>\n",
       "      <td>LAS</td>\n",
       "      <td>HOU</td>\n",
       "      <td>1235</td>\n",
       "      <td>NaN</td>\n",
       "      <td>test</td>\n",
       "    </tr>\n",
       "    <tr>\n",
       "      <th>2</th>\n",
       "      <td>c-12</td>\n",
       "      <td>c-2</td>\n",
       "      <td>c-7</td>\n",
       "      <td>651</td>\n",
       "      <td>MQ</td>\n",
       "      <td>GSP</td>\n",
       "      <td>ORD</td>\n",
       "      <td>577</td>\n",
       "      <td>NaN</td>\n",
       "      <td>test</td>\n",
       "    </tr>\n",
       "    <tr>\n",
       "      <th>3</th>\n",
       "      <td>c-3</td>\n",
       "      <td>c-25</td>\n",
       "      <td>c-7</td>\n",
       "      <td>1614</td>\n",
       "      <td>WN</td>\n",
       "      <td>BWI</td>\n",
       "      <td>MHT</td>\n",
       "      <td>377</td>\n",
       "      <td>NaN</td>\n",
       "      <td>test</td>\n",
       "    </tr>\n",
       "    <tr>\n",
       "      <th>4</th>\n",
       "      <td>c-6</td>\n",
       "      <td>c-6</td>\n",
       "      <td>c-3</td>\n",
       "      <td>1505</td>\n",
       "      <td>UA</td>\n",
       "      <td>ORD</td>\n",
       "      <td>STL</td>\n",
       "      <td>258</td>\n",
       "      <td>NaN</td>\n",
       "      <td>test</td>\n",
       "    </tr>\n",
       "  </tbody>\n",
       "</table>\n",
       "</div>"
      ],
      "text/plain": [
       "  Month DayofMonth DayOfWeek  DepTime UniqueCarrier Origin Dest  Distance  \\\n",
       "0   c-7       c-25       c-3      615            YV    MRY  PHX       598   \n",
       "1   c-4       c-17       c-2      739            WN    LAS  HOU      1235   \n",
       "2  c-12        c-2       c-7      651            MQ    GSP  ORD       577   \n",
       "3   c-3       c-25       c-7     1614            WN    BWI  MHT       377   \n",
       "4   c-6        c-6       c-3     1505            UA    ORD  STL       258   \n",
       "\n",
       "   dep_delayed_15min partition  \n",
       "0                NaN      test  \n",
       "1                NaN      test  \n",
       "2                NaN      test  \n",
       "3                NaN      test  \n",
       "4                NaN      test  "
      ]
     },
     "execution_count": 311,
     "metadata": {},
     "output_type": "execute_result"
    }
   ],
   "source": [
    "test_data_initial.head()"
   ]
  },
  {
   "cell_type": "code",
   "execution_count": 312,
   "id": "a70a71ab",
   "metadata": {},
   "outputs": [],
   "source": [
    "def time_transform(df: pd.DataFrame) -> pd.DataFrame:\n",
    "    \n",
    "    time_cols = ['Month', 'DayofMonth', 'DayOfWeek']\n",
    "    for col in time_cols:\n",
    "        df[col] = df[col].str[2:].astype('int')\n",
    "#     df['DepTime_h'] = (df['DepTime'] // 100).astype('int')\n",
    "#     df['DepTime_h'] = np.where(df['DepTime_h']>=24,df['DepTime_h']-24,df['DepTime_h'])\n",
    "#     df['hour_cat']=pd.cut(df['DepTime_h'], bins=6, labels=[1,2,3,4,5,6]).astype('int')\n",
    "    \n",
    "    return df\n",
    "\n"
   ]
  },
  {
   "cell_type": "code",
   "execution_count": null,
   "id": "9765774f",
   "metadata": {},
   "outputs": [],
   "source": []
  },
  {
   "cell_type": "code",
   "execution_count": 313,
   "id": "4ee0547a",
   "metadata": {},
   "outputs": [
    {
     "name": "stdout",
     "output_type": "stream",
     "text": [
      "<class 'pandas.core.frame.DataFrame'>\n",
      "Int64Index: 198183 entries, 0 to 199999\n",
      "Data columns (total 10 columns):\n",
      " #   Column             Non-Null Count   Dtype \n",
      "---  ------             --------------   ----- \n",
      " 0   Month              198183 non-null  int32 \n",
      " 1   DayofMonth         198183 non-null  int32 \n",
      " 2   DayOfWeek          198183 non-null  int32 \n",
      " 3   DepTime            198183 non-null  int64 \n",
      " 4   UniqueCarrier      198183 non-null  object\n",
      " 5   Origin             198183 non-null  object\n",
      " 6   Dest               198183 non-null  object\n",
      " 7   Distance           198183 non-null  int64 \n",
      " 8   dep_delayed_15min  98183 non-null   object\n",
      " 9   partition          198183 non-null  object\n",
      "dtypes: int32(3), int64(2), object(5)\n",
      "memory usage: 14.4+ MB\n"
     ]
    }
   ],
   "source": [
    "data = time_transform(data_initial)\n",
    "\n",
    "data.info()"
   ]
  },
  {
   "cell_type": "code",
   "execution_count": 314,
   "id": "322f34bc",
   "metadata": {},
   "outputs": [],
   "source": [
    "data['dep_delayed_15min'] = data['dep_delayed_15min'].map({'N': 0, 'Y': 1})\n",
    "#data['flight'] = data['Origin']+data['Dest']\n",
    "#data = data.drop(columns=['Origin','Dest'])"
   ]
  },
  {
   "cell_type": "code",
   "execution_count": 315,
   "id": "8b443753",
   "metadata": {},
   "outputs": [
    {
     "data": {
      "text/html": [
       "<div>\n",
       "<style scoped>\n",
       "    .dataframe tbody tr th:only-of-type {\n",
       "        vertical-align: middle;\n",
       "    }\n",
       "\n",
       "    .dataframe tbody tr th {\n",
       "        vertical-align: top;\n",
       "    }\n",
       "\n",
       "    .dataframe thead th {\n",
       "        text-align: right;\n",
       "    }\n",
       "</style>\n",
       "<table border=\"1\" class=\"dataframe\">\n",
       "  <thead>\n",
       "    <tr style=\"text-align: right;\">\n",
       "      <th></th>\n",
       "      <th>Month</th>\n",
       "      <th>DayofMonth</th>\n",
       "      <th>DayOfWeek</th>\n",
       "      <th>DepTime</th>\n",
       "      <th>UniqueCarrier</th>\n",
       "      <th>Origin</th>\n",
       "      <th>Dest</th>\n",
       "      <th>Distance</th>\n",
       "      <th>dep_delayed_15min</th>\n",
       "      <th>partition</th>\n",
       "    </tr>\n",
       "  </thead>\n",
       "  <tbody>\n",
       "    <tr>\n",
       "      <th>0</th>\n",
       "      <td>8</td>\n",
       "      <td>21</td>\n",
       "      <td>7</td>\n",
       "      <td>1934</td>\n",
       "      <td>AA</td>\n",
       "      <td>ATL</td>\n",
       "      <td>DFW</td>\n",
       "      <td>732</td>\n",
       "      <td>0.0</td>\n",
       "      <td>train</td>\n",
       "    </tr>\n",
       "    <tr>\n",
       "      <th>1</th>\n",
       "      <td>4</td>\n",
       "      <td>20</td>\n",
       "      <td>3</td>\n",
       "      <td>1548</td>\n",
       "      <td>US</td>\n",
       "      <td>PIT</td>\n",
       "      <td>MCO</td>\n",
       "      <td>834</td>\n",
       "      <td>0.0</td>\n",
       "      <td>train</td>\n",
       "    </tr>\n",
       "    <tr>\n",
       "      <th>2</th>\n",
       "      <td>9</td>\n",
       "      <td>2</td>\n",
       "      <td>5</td>\n",
       "      <td>1422</td>\n",
       "      <td>XE</td>\n",
       "      <td>RDU</td>\n",
       "      <td>CLE</td>\n",
       "      <td>416</td>\n",
       "      <td>0.0</td>\n",
       "      <td>train</td>\n",
       "    </tr>\n",
       "    <tr>\n",
       "      <th>3</th>\n",
       "      <td>11</td>\n",
       "      <td>25</td>\n",
       "      <td>6</td>\n",
       "      <td>1015</td>\n",
       "      <td>OO</td>\n",
       "      <td>DEN</td>\n",
       "      <td>MEM</td>\n",
       "      <td>872</td>\n",
       "      <td>0.0</td>\n",
       "      <td>train</td>\n",
       "    </tr>\n",
       "    <tr>\n",
       "      <th>4</th>\n",
       "      <td>10</td>\n",
       "      <td>7</td>\n",
       "      <td>6</td>\n",
       "      <td>1828</td>\n",
       "      <td>WN</td>\n",
       "      <td>MDW</td>\n",
       "      <td>OMA</td>\n",
       "      <td>423</td>\n",
       "      <td>1.0</td>\n",
       "      <td>train</td>\n",
       "    </tr>\n",
       "  </tbody>\n",
       "</table>\n",
       "</div>"
      ],
      "text/plain": [
       "   Month  DayofMonth  DayOfWeek  DepTime UniqueCarrier Origin Dest  Distance  \\\n",
       "0      8          21          7     1934            AA    ATL  DFW       732   \n",
       "1      4          20          3     1548            US    PIT  MCO       834   \n",
       "2      9           2          5     1422            XE    RDU  CLE       416   \n",
       "3     11          25          6     1015            OO    DEN  MEM       872   \n",
       "4     10           7          6     1828            WN    MDW  OMA       423   \n",
       "\n",
       "   dep_delayed_15min partition  \n",
       "0                0.0     train  \n",
       "1                0.0     train  \n",
       "2                0.0     train  \n",
       "3                0.0     train  \n",
       "4                1.0     train  "
      ]
     },
     "execution_count": 315,
     "metadata": {},
     "output_type": "execute_result"
    }
   ],
   "source": [
    "data.head()"
   ]
  },
  {
   "cell_type": "code",
   "execution_count": 316,
   "id": "d2c72d80",
   "metadata": {},
   "outputs": [],
   "source": [
    "from sklearn.preprocessing import LabelEncoder, StandardScaler\n",
    "\n",
    "def transform_categ(df: pd.DataFrame) -> pd.DataFrame:\n",
    "    \n",
    "    df['UC_Origin']=df['UniqueCarrier']+df['Origin']\n",
    "    df['UC_Dest']=df['UniqueCarrier']+df['Dest']\n",
    "    \n",
    "    lbl=LabelEncoder()\n",
    "    \n",
    "    for col in ['UniqueCarrier','Origin','Dest','UC_Origin','UC_Dest']:\n",
    "        \n",
    "        df[col] = lbl.fit_transform(df[col])\n",
    "\n",
    "        #target_encoding\n",
    "#         df_categ = df[['UniqueCarrier', 'Origin','Dest','UC_Origin','UC_Dest','dep_delayed_15min']]\n",
    "#         av_mean = df_categ.groupby(col).agg({'dep_delayed_15min':'mean'})\n",
    "#         av_mean=av_mean.fillna(np.random())\n",
    "#         av_mean_dict = dict(av_mean['dep_delayed_15min'], index=av_mean.index)\n",
    "#         df[col] = df[col].map(av_mean_dict).astype('float64')\n",
    "#    df['UC_Distance'] = df['Distance']*df['UniqueCarrier']\n",
    "        \n",
    "    \n",
    "    return df"
   ]
  },
  {
   "cell_type": "code",
   "execution_count": 317,
   "id": "063b5e7d",
   "metadata": {},
   "outputs": [],
   "source": [
    "#не использую больше\n",
    "def create_features(df):\n",
    "    \n",
    "    cols= list(df.columns)\n",
    "    cols.remove('dep_delayed_15min')\n",
    "    \n",
    "    for col_one in cols:\n",
    "        for col_two in cols:\n",
    "            \n",
    "            if col_one != col_two:\n",
    "                new_col=col_one+'_'+col_two\n",
    "                df[new_col]=df[col_one]*df[col_two]\n",
    "    return df\n",
    "            "
   ]
  },
  {
   "cell_type": "code",
   "execution_count": 318,
   "id": "5180cbe7",
   "metadata": {},
   "outputs": [],
   "source": [
    "data_processed=transform_categ(data)"
   ]
  },
  {
   "cell_type": "code",
   "execution_count": 319,
   "id": "bdb05722",
   "metadata": {},
   "outputs": [
    {
     "name": "stdout",
     "output_type": "stream",
     "text": [
      "(198183, 12)\n"
     ]
    },
    {
     "data": {
      "text/html": [
       "<div>\n",
       "<style scoped>\n",
       "    .dataframe tbody tr th:only-of-type {\n",
       "        vertical-align: middle;\n",
       "    }\n",
       "\n",
       "    .dataframe tbody tr th {\n",
       "        vertical-align: top;\n",
       "    }\n",
       "\n",
       "    .dataframe thead th {\n",
       "        text-align: right;\n",
       "    }\n",
       "</style>\n",
       "<table border=\"1\" class=\"dataframe\">\n",
       "  <thead>\n",
       "    <tr style=\"text-align: right;\">\n",
       "      <th></th>\n",
       "      <th>Month</th>\n",
       "      <th>DayofMonth</th>\n",
       "      <th>DayOfWeek</th>\n",
       "      <th>DepTime</th>\n",
       "      <th>UniqueCarrier</th>\n",
       "      <th>Origin</th>\n",
       "      <th>Dest</th>\n",
       "      <th>Distance</th>\n",
       "      <th>dep_delayed_15min</th>\n",
       "      <th>partition</th>\n",
       "      <th>UC_Origin</th>\n",
       "      <th>UC_Dest</th>\n",
       "    </tr>\n",
       "  </thead>\n",
       "  <tbody>\n",
       "    <tr>\n",
       "      <th>0</th>\n",
       "      <td>8</td>\n",
       "      <td>21</td>\n",
       "      <td>7</td>\n",
       "      <td>1934</td>\n",
       "      <td>1</td>\n",
       "      <td>19</td>\n",
       "      <td>81</td>\n",
       "      <td>732</td>\n",
       "      <td>0.0</td>\n",
       "      <td>train</td>\n",
       "      <td>119</td>\n",
       "      <td>136</td>\n",
       "    </tr>\n",
       "    <tr>\n",
       "      <th>1</th>\n",
       "      <td>4</td>\n",
       "      <td>20</td>\n",
       "      <td>3</td>\n",
       "      <td>1548</td>\n",
       "      <td>19</td>\n",
       "      <td>221</td>\n",
       "      <td>175</td>\n",
       "      <td>834</td>\n",
       "      <td>0.0</td>\n",
       "      <td>train</td>\n",
       "      <td>1536</td>\n",
       "      <td>1520</td>\n",
       "    </tr>\n",
       "    <tr>\n",
       "      <th>2</th>\n",
       "      <td>9</td>\n",
       "      <td>2</td>\n",
       "      <td>5</td>\n",
       "      <td>1422</td>\n",
       "      <td>21</td>\n",
       "      <td>234</td>\n",
       "      <td>61</td>\n",
       "      <td>416</td>\n",
       "      <td>0.0</td>\n",
       "      <td>train</td>\n",
       "      <td>1734</td>\n",
       "      <td>1654</td>\n",
       "    </tr>\n",
       "    <tr>\n",
       "      <th>3</th>\n",
       "      <td>11</td>\n",
       "      <td>25</td>\n",
       "      <td>6</td>\n",
       "      <td>1015</td>\n",
       "      <td>16</td>\n",
       "      <td>80</td>\n",
       "      <td>179</td>\n",
       "      <td>872</td>\n",
       "      <td>0.0</td>\n",
       "      <td>train</td>\n",
       "      <td>1259</td>\n",
       "      <td>1305</td>\n",
       "    </tr>\n",
       "    <tr>\n",
       "      <th>4</th>\n",
       "      <td>10</td>\n",
       "      <td>7</td>\n",
       "      <td>6</td>\n",
       "      <td>1828</td>\n",
       "      <td>20</td>\n",
       "      <td>178</td>\n",
       "      <td>205</td>\n",
       "      <td>423</td>\n",
       "      <td>1.0</td>\n",
       "      <td>train</td>\n",
       "      <td>1595</td>\n",
       "      <td>1603</td>\n",
       "    </tr>\n",
       "  </tbody>\n",
       "</table>\n",
       "</div>"
      ],
      "text/plain": [
       "   Month  DayofMonth  DayOfWeek  DepTime  UniqueCarrier  Origin  Dest  \\\n",
       "0      8          21          7     1934              1      19    81   \n",
       "1      4          20          3     1548             19     221   175   \n",
       "2      9           2          5     1422             21     234    61   \n",
       "3     11          25          6     1015             16      80   179   \n",
       "4     10           7          6     1828             20     178   205   \n",
       "\n",
       "   Distance  dep_delayed_15min partition  UC_Origin  UC_Dest  \n",
       "0       732                0.0     train        119      136  \n",
       "1       834                0.0     train       1536     1520  \n",
       "2       416                0.0     train       1734     1654  \n",
       "3       872                0.0     train       1259     1305  \n",
       "4       423                1.0     train       1595     1603  "
      ]
     },
     "execution_count": 319,
     "metadata": {},
     "output_type": "execute_result"
    }
   ],
   "source": [
    "print(data_processed.shape)\n",
    "data_processed.head()"
   ]
  },
  {
   "cell_type": "code",
   "execution_count": 320,
   "id": "862d3150",
   "metadata": {},
   "outputs": [],
   "source": [
    "from xgboost import XGBClassifier, plot_importance\n",
    "from sklearn.metrics import roc_auc_score\n",
    "from sklearn.model_selection import train_test_split\n",
    "from sklearn.model_selection import cross_val_score, GridSearchCV"
   ]
  },
  {
   "cell_type": "code",
   "execution_count": 321,
   "id": "660be13f",
   "metadata": {},
   "outputs": [
    {
     "data": {
      "text/plain": [
       "((98183, 12), (100000, 12))"
      ]
     },
     "execution_count": 321,
     "metadata": {},
     "output_type": "execute_result"
    }
   ],
   "source": [
    "train_data = data_processed[data_processed['partition']=='train']\n",
    "train_data_y = train_data['dep_delayed_15min']\n",
    "train_data_x = train_data.drop(columns=['dep_delayed_15min', 'partition'])\n",
    "\n",
    "test_data = data_processed[data_processed['partition']=='test']\n",
    "test_data_x = test_data.drop(columns=['dep_delayed_15min', 'partition'])\n",
    "\n",
    "train_data.shape, test_data.shape"
   ]
  },
  {
   "cell_type": "code",
   "execution_count": 322,
   "id": "c6e8143c",
   "metadata": {},
   "outputs": [],
   "source": [
    "#train_test_split?"
   ]
  },
  {
   "cell_type": "code",
   "execution_count": 323,
   "id": "0c20eb2e",
   "metadata": {},
   "outputs": [],
   "source": [
    "X_train, X_hold, y_train, y_hold = train_test_split(\n",
    "    train_data_x,\n",
    "    train_data_y,\n",
    "    test_size=0.4,\n",
    "    \n",
    "    stratify=train_data_y,\n",
    "    random_state=20\n",
    ")"
   ]
  },
  {
   "cell_type": "code",
   "execution_count": 324,
   "id": "5265c37e",
   "metadata": {},
   "outputs": [
    {
     "data": {
      "text/html": [
       "<div>\n",
       "<style scoped>\n",
       "    .dataframe tbody tr th:only-of-type {\n",
       "        vertical-align: middle;\n",
       "    }\n",
       "\n",
       "    .dataframe tbody tr th {\n",
       "        vertical-align: top;\n",
       "    }\n",
       "\n",
       "    .dataframe thead th {\n",
       "        text-align: right;\n",
       "    }\n",
       "</style>\n",
       "<table border=\"1\" class=\"dataframe\">\n",
       "  <thead>\n",
       "    <tr style=\"text-align: right;\">\n",
       "      <th></th>\n",
       "      <th>Month</th>\n",
       "      <th>DayofMonth</th>\n",
       "      <th>DayOfWeek</th>\n",
       "      <th>DepTime</th>\n",
       "      <th>UniqueCarrier</th>\n",
       "      <th>Origin</th>\n",
       "      <th>Dest</th>\n",
       "      <th>Distance</th>\n",
       "      <th>UC_Origin</th>\n",
       "      <th>UC_Dest</th>\n",
       "    </tr>\n",
       "  </thead>\n",
       "  <tbody>\n",
       "    <tr>\n",
       "      <th>0</th>\n",
       "      <td>8</td>\n",
       "      <td>21</td>\n",
       "      <td>7</td>\n",
       "      <td>1934</td>\n",
       "      <td>1</td>\n",
       "      <td>19</td>\n",
       "      <td>81</td>\n",
       "      <td>732</td>\n",
       "      <td>119</td>\n",
       "      <td>136</td>\n",
       "    </tr>\n",
       "    <tr>\n",
       "      <th>1</th>\n",
       "      <td>4</td>\n",
       "      <td>20</td>\n",
       "      <td>3</td>\n",
       "      <td>1548</td>\n",
       "      <td>19</td>\n",
       "      <td>221</td>\n",
       "      <td>175</td>\n",
       "      <td>834</td>\n",
       "      <td>1536</td>\n",
       "      <td>1520</td>\n",
       "    </tr>\n",
       "    <tr>\n",
       "      <th>2</th>\n",
       "      <td>9</td>\n",
       "      <td>2</td>\n",
       "      <td>5</td>\n",
       "      <td>1422</td>\n",
       "      <td>21</td>\n",
       "      <td>234</td>\n",
       "      <td>61</td>\n",
       "      <td>416</td>\n",
       "      <td>1734</td>\n",
       "      <td>1654</td>\n",
       "    </tr>\n",
       "    <tr>\n",
       "      <th>3</th>\n",
       "      <td>11</td>\n",
       "      <td>25</td>\n",
       "      <td>6</td>\n",
       "      <td>1015</td>\n",
       "      <td>16</td>\n",
       "      <td>80</td>\n",
       "      <td>179</td>\n",
       "      <td>872</td>\n",
       "      <td>1259</td>\n",
       "      <td>1305</td>\n",
       "    </tr>\n",
       "    <tr>\n",
       "      <th>4</th>\n",
       "      <td>10</td>\n",
       "      <td>7</td>\n",
       "      <td>6</td>\n",
       "      <td>1828</td>\n",
       "      <td>20</td>\n",
       "      <td>178</td>\n",
       "      <td>205</td>\n",
       "      <td>423</td>\n",
       "      <td>1595</td>\n",
       "      <td>1603</td>\n",
       "    </tr>\n",
       "  </tbody>\n",
       "</table>\n",
       "</div>"
      ],
      "text/plain": [
       "   Month  DayofMonth  DayOfWeek  DepTime  UniqueCarrier  Origin  Dest  \\\n",
       "0      8          21          7     1934              1      19    81   \n",
       "1      4          20          3     1548             19     221   175   \n",
       "2      9           2          5     1422             21     234    61   \n",
       "3     11          25          6     1015             16      80   179   \n",
       "4     10           7          6     1828             20     178   205   \n",
       "\n",
       "   Distance  UC_Origin  UC_Dest  \n",
       "0       732        119      136  \n",
       "1       834       1536     1520  \n",
       "2       416       1734     1654  \n",
       "3       872       1259     1305  \n",
       "4       423       1595     1603  "
      ]
     },
     "execution_count": 324,
     "metadata": {},
     "output_type": "execute_result"
    }
   ],
   "source": [
    "train_data_x.head()"
   ]
  },
  {
   "cell_type": "code",
   "execution_count": 325,
   "id": "f9efda30",
   "metadata": {},
   "outputs": [
    {
     "data": {
      "text/plain": [
       "GridSearchCV(cv=3,\n",
       "             estimator=XGBClassifier(base_score=None, booster=None,\n",
       "                                     callbacks=None, colsample_bylevel=None,\n",
       "                                     colsample_bynode=None,\n",
       "                                     colsample_bytree=None,\n",
       "                                     early_stopping_rounds=None,\n",
       "                                     enable_categorical=False, eval_metric=None,\n",
       "                                     feature_types=None, gamma=None,\n",
       "                                     gpu_id=None, grow_policy=None,\n",
       "                                     importance_type=None,\n",
       "                                     interaction_constraints=None,\n",
       "                                     learning_rate=None,...\n",
       "                                     max_cat_to_onehot=None,\n",
       "                                     max_delta_step=None, max_depth=None,\n",
       "                                     max_leaves=None, min_child_weight=None,\n",
       "                                     missing=nan, monotone_constraints=None,\n",
       "                                     n_estimators=100, n_jobs=None, nthread=1,\n",
       "                                     num_parallel_tree=None, predictor=None, ...),\n",
       "             n_jobs=-1,\n",
       "             param_grid={'gamma': [3], 'learning_rate': [0.1], 'max_depth': [6],\n",
       "                         'min_child_weight': [6], 'n_estimators': [120]},\n",
       "             scoring='roc_auc')"
      ]
     },
     "execution_count": 325,
     "metadata": {},
     "output_type": "execute_result"
    }
   ],
   "source": [
    "# params = {'n_estimators': [30,60,90,120],\n",
    "#           'max_depth': [2,4,6,8,10],\n",
    "#           'learning_rate':[0.05,0.1,0.2,0.3],\n",
    "#           'gamma': [3,6,10],\n",
    "#           'min_child_weight': [1,2,4,6]\n",
    "    \n",
    "          \n",
    "#           }\n",
    "\n",
    "#наилучшие параметры после поиска по сетке выше\n",
    "params = {'gamma': [3],\n",
    "          'learning_rate': [0.1],\n",
    "          'max_depth': [6],\n",
    "          'min_child_weight': [6],\n",
    "          'n_estimators': [120]}\n",
    "\n",
    "grid_search = GridSearchCV(estimator=XGBClassifier(random_state = 20, nthread=1), param_grid=params, cv=3, scoring='roc_auc', n_jobs=-1)\n",
    "\n",
    "grid_search.fit(X_train, y_train)"
   ]
  },
  {
   "cell_type": "code",
   "execution_count": 326,
   "id": "55f37109",
   "metadata": {},
   "outputs": [
    {
     "data": {
      "text/plain": [
       "({'gamma': 3,\n",
       "  'learning_rate': 0.1,\n",
       "  'max_depth': 6,\n",
       "  'min_child_weight': 6,\n",
       "  'n_estimators': 120},\n",
       " 0.7311677514090872)"
      ]
     },
     "execution_count": 326,
     "metadata": {},
     "output_type": "execute_result"
    }
   ],
   "source": [
    "grid_search.best_params_, grid_search.best_score_"
   ]
  },
  {
   "cell_type": "code",
   "execution_count": 327,
   "id": "7c47f449",
   "metadata": {},
   "outputs": [],
   "source": [
    "best_model_first = grid_search.best_estimator_"
   ]
  },
  {
   "cell_type": "code",
   "execution_count": 328,
   "id": "6457ede8",
   "metadata": {},
   "outputs": [
    {
     "data": {
      "text/plain": [
       "<AxesSubplot:title={'center':'Feature importance'}, xlabel='F score', ylabel='Features'>"
      ]
     },
     "execution_count": 328,
     "metadata": {},
     "output_type": "execute_result"
    },
    {
     "data": {
      "image/png": "[encoded data removed]",
      "text/plain": [
       "<Figure size 640x480 with 1 Axes>"
      ]
     },
     "metadata": {},
     "output_type": "display_data"
    }
   ],
   "source": [
    "plot_importance(best_model_first)"
   ]
  },
  {
   "cell_type": "code",
   "execution_count": 329,
   "id": "26adfc37",
   "metadata": {},
   "outputs": [
    {
     "data": {
      "text/plain": [
       "0.7948008693450065"
      ]
     },
     "execution_count": 329,
     "metadata": {},
     "output_type": "execute_result"
    }
   ],
   "source": [
    "y_pred = best_model_first.predict_proba(X_train)[:, 1]\n",
    "roc_auc_score(y_train, y_pred)"
   ]
  },
  {
   "cell_type": "code",
   "execution_count": 330,
   "id": "c76f3a97",
   "metadata": {},
   "outputs": [
    {
     "data": {
      "text/plain": [
       "0.7385803989068407"
      ]
     },
     "execution_count": 330,
     "metadata": {},
     "output_type": "execute_result"
    }
   ],
   "source": [
    "y_pred = best_model_first.predict_proba(X_hold)[:, 1]\n",
    "roc_auc_score(y_hold, y_pred)"
   ]
  },
  {
   "cell_type": "code",
   "execution_count": 189,
   "id": "8e9f7225",
   "metadata": {},
   "outputs": [],
   "source": [
    "fitted_model = best_model_first.fit(train_data_x, train_data_y)"
   ]
  },
  {
   "cell_type": "code",
   "execution_count": 190,
   "id": "77d26dc1",
   "metadata": {},
   "outputs": [],
   "source": [
    "y_pred = fitted_model.predict_proba(test_data_x)[:, 1]\n",
    "result = pd.DataFrame(data={'dep_delayed_15min': y_pred})\n",
    "result.to_csv('predict16.csv', header=True, index_label='id')"
   ]
  },
  {
   "cell_type": "code",
   "execution_count": 295,
   "id": "aabe8e28",
   "metadata": {},
   "outputs": [],
   "source": [
    "from sklearn.linear_model import LogisticRegression\n",
    "lg = LogisticRegression(max_iter=10000,C=1)"
   ]
  },
  {
   "cell_type": "code",
   "execution_count": 299,
   "id": "924a2652",
   "metadata": {},
   "outputs": [],
   "source": [
    "scaler = StandardScaler()"
   ]
  },
  {
   "cell_type": "code",
   "execution_count": 300,
   "id": "c94d85f5",
   "metadata": {},
   "outputs": [],
   "source": [
    "train_data_x_scaled = scaler.fit_transform(train_data_x)"
   ]
  },
  {
   "cell_type": "code",
   "execution_count": null,
   "id": "929ba180",
   "metadata": {},
   "outputs": [],
   "source": []
  },
  {
   "cell_type": "code",
   "execution_count": 301,
   "id": "3c0ccfee",
   "metadata": {},
   "outputs": [],
   "source": [
    "X_train, X_hold, y_train, y_hold = train_test_split(\n",
    "    train_data_x_scaled,\n",
    "    train_data_y,\n",
    "    test_size=0.4,\n",
    "    \n",
    "    stratify=train_data_y,\n",
    "    random_state=20\n",
    ")"
   ]
  },
  {
   "cell_type": "code",
   "execution_count": 302,
   "id": "b6b5e586",
   "metadata": {},
   "outputs": [],
   "source": [
    "lg_model = lg.fit(X_train, y_train)"
   ]
  },
  {
   "cell_type": "code",
   "execution_count": 303,
   "id": "b1b1e22a",
   "metadata": {},
   "outputs": [
    {
     "data": {
      "text/plain": [
       "0.6831981744416394"
      ]
     },
     "execution_count": 303,
     "metadata": {},
     "output_type": "execute_result"
    }
   ],
   "source": [
    "y_pred = lg_model.predict_proba(X_train)[:, 1]\n",
    "roc_auc_score(y_train, y_pred)"
   ]
  },
  {
   "cell_type": "code",
   "execution_count": 304,
   "id": "9bf6ff96",
   "metadata": {},
   "outputs": [
    {
     "data": {
      "text/plain": [
       "0.6831264687999659"
      ]
     },
     "execution_count": 304,
     "metadata": {},
     "output_type": "execute_result"
    }
   ],
   "source": [
    "y_pred = lg_model.predict_proba(X_hold)[:, 1]\n",
    "roc_auc_score(y_hold, y_pred)"
   ]
  },
  {
   "cell_type": "code",
   "execution_count": null,
   "id": "3b8746dd",
   "metadata": {},
   "outputs": [],
   "source": []
  }
 ],
 "metadata": {
  "kernelspec": {
   "display_name": "Python 3 (ipykernel)",
   "language": "python",
   "name": "python3"
  },
  "language_info": {
   "codemirror_mode": {
    "name": "ipython",
    "version": 3
   },
   "file_extension": ".py",
   "mimetype": "text/x-python",
   "name": "python",
   "nbconvert_exporter": "python",
   "pygments_lexer": "ipython3",
   "version": "3.9.13"
  }
 },
 "nbformat": 4,
 "nbformat_minor": 5
}
